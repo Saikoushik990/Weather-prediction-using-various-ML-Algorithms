{
  "cells": [
    {
      "cell_type": "code",
      "execution_count": null,
      "metadata": {
        "id": "I2mjjtpYcPFX"
      },
      "outputs": [],
      "source": [
        "import pandas as pd\n",
        "import numpy as np"
      ]
    },
    {
      "cell_type": "code",
      "execution_count": null,
      "metadata": {
        "colab": {
          "base_uri": "https://localhost:8080/",
          "height": 852
        },
        "id": "UFpPIjiCcp8H",
        "outputId": "5d64e3ea-11e6-4457-853e-43dc38e8be4a"
      },
      "outputs": [
        {
          "output_type": "execute_result",
          "data": {
            "text/plain": [
              "         name    datetime  tempmax  tempmin  temp  feelslikemax  feelslikemin  \\\n",
              "0    dundigal  2020-11-29     26.5     20.0  22.5          26.5          20.0   \n",
              "1    dundigal  2020-11-30     27.6     18.3  23.0          28.4          18.3   \n",
              "2    dundigal  2020-12-01     27.6     18.0  22.3          27.8          18.0   \n",
              "3    dundigal  2020-12-02     28.6     15.5  22.0          28.0          15.5   \n",
              "4    dundigal  2020-12-03     27.4     14.6  21.7          28.2          14.6   \n",
              "..        ...         ...      ...      ...   ...           ...           ...   \n",
              "725  dundigal  2022-11-24     27.2     20.5  23.8          28.5          20.5   \n",
              "726  dundigal  2022-11-25     29.8     19.7  24.3          30.2          19.7   \n",
              "727  dundigal  2022-11-26     29.9     17.2  23.2          28.8          17.2   \n",
              "728  dundigal  2022-11-27     29.0     15.1  22.6          28.3          15.1   \n",
              "729  dundigal  2022-11-28     29.0     15.1  22.4          28.3          15.1   \n",
              "\n",
              "     feelslike   dew  humidity  ...  solarenergy  uvindex  severerisk  \\\n",
              "0         22.5  19.9      85.8  ...         10.7        5         NaN   \n",
              "1         23.1  18.7      78.3  ...         13.5        7         NaN   \n",
              "2         22.3  17.4      76.1  ...         15.8        7         NaN   \n",
              "3         22.0  15.1      67.9  ...         16.2        7         NaN   \n",
              "4         21.8  17.2      77.3  ...         13.2        6         NaN   \n",
              "..         ...   ...       ...  ...          ...      ...         ...   \n",
              "725       24.1  18.5      73.1  ...         18.5        8        10.0   \n",
              "726       24.4  16.4      63.8  ...         19.5        8        10.0   \n",
              "727       22.9  13.0      55.6  ...         19.8        8        10.0   \n",
              "728       22.5  12.7      55.9  ...         19.9        8        10.0   \n",
              "729       22.2  12.1      55.5  ...         19.9        8        10.0   \n",
              "\n",
              "                 sunrise               sunset  moonphase        conditions  \\\n",
              "0    2020-11-29T06:29:46  2020-11-29T17:39:44       0.50  Partially cloudy   \n",
              "1    2020-11-30T06:30:22  2020-11-30T17:39:52       0.50  Partially cloudy   \n",
              "2    2020-12-01T06:30:58  2020-12-01T17:40:01       0.51  Partially cloudy   \n",
              "3    2020-12-02T06:31:34  2020-12-02T17:40:11       0.53  Partially cloudy   \n",
              "4    2020-12-03T06:32:10  2020-12-03T17:40:23       0.55  Partially cloudy   \n",
              "..                   ...                  ...        ...               ...   \n",
              "725  2022-11-24T06:26:32  2022-11-24T17:39:24       0.00  Partially cloudy   \n",
              "726  2022-11-25T06:27:07  2022-11-25T17:39:25       0.02  Partially cloudy   \n",
              "727  2022-11-26T06:27:42  2022-11-26T17:39:28       0.04  Partially cloudy   \n",
              "728  2022-11-27T06:28:18  2022-11-27T17:39:31       0.08  Partially cloudy   \n",
              "729  2022-11-28T06:28:54  2022-11-28T17:39:36       0.13             Clear   \n",
              "\n",
              "                              description               icon  \\\n",
              "0       Partly cloudy throughout the day.  partly-cloudy-day   \n",
              "1       Partly cloudy throughout the day.  partly-cloudy-day   \n",
              "2              Clearing in the afternoon.  partly-cloudy-day   \n",
              "3              Clearing in the afternoon.  partly-cloudy-day   \n",
              "4       Partly cloudy throughout the day.  partly-cloudy-day   \n",
              "..                                    ...                ...   \n",
              "725     Partly cloudy throughout the day.  partly-cloudy-day   \n",
              "726     Partly cloudy throughout the day.  partly-cloudy-day   \n",
              "727     Partly cloudy throughout the day.  partly-cloudy-day   \n",
              "728     Partly cloudy throughout the day.  partly-cloudy-day   \n",
              "729  Clear conditions throughout the day.          clear-day   \n",
              "\n",
              "                                              stations  \n",
              "0    VOHY,F3069,43083099999,43128599999,VOHS,431280...  \n",
              "1    VOHY,F3069,43083099999,43128599999,VOHS,431280...  \n",
              "2    VOHY,F3069,43083099999,43128599999,VOHS,431280...  \n",
              "3    VOHY,F3069,43083099999,43128599999,VOHS,431280...  \n",
              "4    VOHY,F3069,43083099999,43128599999,VOHS,431280...  \n",
              "..                                                 ...  \n",
              "725      VOHY,43083099999,43128599999,VOHS,43128099999  \n",
              "726      VOHY,43083099999,43128599999,VOHS,43128099999  \n",
              "727      VOHY,43083099999,43128599999,VOHS,43128099999  \n",
              "728                  VOHY,43128599999,VOHS,43128099999  \n",
              "729                                          VOHY,VOHS  \n",
              "\n",
              "[730 rows x 33 columns]"
            ],
            "text/html": [
              "\n",
              "  <div id=\"df-4db5ba39-d9ca-4e91-8557-0a569cca8c6b\">\n",
              "    <div class=\"colab-df-container\">\n",
              "      <div>\n",
              "<style scoped>\n",
              "    .dataframe tbody tr th:only-of-type {\n",
              "        vertical-align: middle;\n",
              "    }\n",
              "\n",
              "    .dataframe tbody tr th {\n",
              "        vertical-align: top;\n",
              "    }\n",
              "\n",
              "    .dataframe thead th {\n",
              "        text-align: right;\n",
              "    }\n",
              "</style>\n",
              "<table border=\"1\" class=\"dataframe\">\n",
              "  <thead>\n",
              "    <tr style=\"text-align: right;\">\n",
              "      <th></th>\n",
              "      <th>name</th>\n",
              "      <th>datetime</th>\n",
              "      <th>tempmax</th>\n",
              "      <th>tempmin</th>\n",
              "      <th>temp</th>\n",
              "      <th>feelslikemax</th>\n",
              "      <th>feelslikemin</th>\n",
              "      <th>feelslike</th>\n",
              "      <th>dew</th>\n",
              "      <th>humidity</th>\n",
              "      <th>...</th>\n",
              "      <th>solarenergy</th>\n",
              "      <th>uvindex</th>\n",
              "      <th>severerisk</th>\n",
              "      <th>sunrise</th>\n",
              "      <th>sunset</th>\n",
              "      <th>moonphase</th>\n",
              "      <th>conditions</th>\n",
              "      <th>description</th>\n",
              "      <th>icon</th>\n",
              "      <th>stations</th>\n",
              "    </tr>\n",
              "  </thead>\n",
              "  <tbody>\n",
              "    <tr>\n",
              "      <th>0</th>\n",
              "      <td>dundigal</td>\n",
              "      <td>2020-11-29</td>\n",
              "      <td>26.5</td>\n",
              "      <td>20.0</td>\n",
              "      <td>22.5</td>\n",
              "      <td>26.5</td>\n",
              "      <td>20.0</td>\n",
              "      <td>22.5</td>\n",
              "      <td>19.9</td>\n",
              "      <td>85.8</td>\n",
              "      <td>...</td>\n",
              "      <td>10.7</td>\n",
              "      <td>5</td>\n",
              "      <td>NaN</td>\n",
              "      <td>2020-11-29T06:29:46</td>\n",
              "      <td>2020-11-29T17:39:44</td>\n",
              "      <td>0.50</td>\n",
              "      <td>Partially cloudy</td>\n",
              "      <td>Partly cloudy throughout the day.</td>\n",
              "      <td>partly-cloudy-day</td>\n",
              "      <td>VOHY,F3069,43083099999,43128599999,VOHS,431280...</td>\n",
              "    </tr>\n",
              "    <tr>\n",
              "      <th>1</th>\n",
              "      <td>dundigal</td>\n",
              "      <td>2020-11-30</td>\n",
              "      <td>27.6</td>\n",
              "      <td>18.3</td>\n",
              "      <td>23.0</td>\n",
              "      <td>28.4</td>\n",
              "      <td>18.3</td>\n",
              "      <td>23.1</td>\n",
              "      <td>18.7</td>\n",
              "      <td>78.3</td>\n",
              "      <td>...</td>\n",
              "      <td>13.5</td>\n",
              "      <td>7</td>\n",
              "      <td>NaN</td>\n",
              "      <td>2020-11-30T06:30:22</td>\n",
              "      <td>2020-11-30T17:39:52</td>\n",
              "      <td>0.50</td>\n",
              "      <td>Partially cloudy</td>\n",
              "      <td>Partly cloudy throughout the day.</td>\n",
              "      <td>partly-cloudy-day</td>\n",
              "      <td>VOHY,F3069,43083099999,43128599999,VOHS,431280...</td>\n",
              "    </tr>\n",
              "    <tr>\n",
              "      <th>2</th>\n",
              "      <td>dundigal</td>\n",
              "      <td>2020-12-01</td>\n",
              "      <td>27.6</td>\n",
              "      <td>18.0</td>\n",
              "      <td>22.3</td>\n",
              "      <td>27.8</td>\n",
              "      <td>18.0</td>\n",
              "      <td>22.3</td>\n",
              "      <td>17.4</td>\n",
              "      <td>76.1</td>\n",
              "      <td>...</td>\n",
              "      <td>15.8</td>\n",
              "      <td>7</td>\n",
              "      <td>NaN</td>\n",
              "      <td>2020-12-01T06:30:58</td>\n",
              "      <td>2020-12-01T17:40:01</td>\n",
              "      <td>0.51</td>\n",
              "      <td>Partially cloudy</td>\n",
              "      <td>Clearing in the afternoon.</td>\n",
              "      <td>partly-cloudy-day</td>\n",
              "      <td>VOHY,F3069,43083099999,43128599999,VOHS,431280...</td>\n",
              "    </tr>\n",
              "    <tr>\n",
              "      <th>3</th>\n",
              "      <td>dundigal</td>\n",
              "      <td>2020-12-02</td>\n",
              "      <td>28.6</td>\n",
              "      <td>15.5</td>\n",
              "      <td>22.0</td>\n",
              "      <td>28.0</td>\n",
              "      <td>15.5</td>\n",
              "      <td>22.0</td>\n",
              "      <td>15.1</td>\n",
              "      <td>67.9</td>\n",
              "      <td>...</td>\n",
              "      <td>16.2</td>\n",
              "      <td>7</td>\n",
              "      <td>NaN</td>\n",
              "      <td>2020-12-02T06:31:34</td>\n",
              "      <td>2020-12-02T17:40:11</td>\n",
              "      <td>0.53</td>\n",
              "      <td>Partially cloudy</td>\n",
              "      <td>Clearing in the afternoon.</td>\n",
              "      <td>partly-cloudy-day</td>\n",
              "      <td>VOHY,F3069,43083099999,43128599999,VOHS,431280...</td>\n",
              "    </tr>\n",
              "    <tr>\n",
              "      <th>4</th>\n",
              "      <td>dundigal</td>\n",
              "      <td>2020-12-03</td>\n",
              "      <td>27.4</td>\n",
              "      <td>14.6</td>\n",
              "      <td>21.7</td>\n",
              "      <td>28.2</td>\n",
              "      <td>14.6</td>\n",
              "      <td>21.8</td>\n",
              "      <td>17.2</td>\n",
              "      <td>77.3</td>\n",
              "      <td>...</td>\n",
              "      <td>13.2</td>\n",
              "      <td>6</td>\n",
              "      <td>NaN</td>\n",
              "      <td>2020-12-03T06:32:10</td>\n",
              "      <td>2020-12-03T17:40:23</td>\n",
              "      <td>0.55</td>\n",
              "      <td>Partially cloudy</td>\n",
              "      <td>Partly cloudy throughout the day.</td>\n",
              "      <td>partly-cloudy-day</td>\n",
              "      <td>VOHY,F3069,43083099999,43128599999,VOHS,431280...</td>\n",
              "    </tr>\n",
              "    <tr>\n",
              "      <th>...</th>\n",
              "      <td>...</td>\n",
              "      <td>...</td>\n",
              "      <td>...</td>\n",
              "      <td>...</td>\n",
              "      <td>...</td>\n",
              "      <td>...</td>\n",
              "      <td>...</td>\n",
              "      <td>...</td>\n",
              "      <td>...</td>\n",
              "      <td>...</td>\n",
              "      <td>...</td>\n",
              "      <td>...</td>\n",
              "      <td>...</td>\n",
              "      <td>...</td>\n",
              "      <td>...</td>\n",
              "      <td>...</td>\n",
              "      <td>...</td>\n",
              "      <td>...</td>\n",
              "      <td>...</td>\n",
              "      <td>...</td>\n",
              "      <td>...</td>\n",
              "    </tr>\n",
              "    <tr>\n",
              "      <th>725</th>\n",
              "      <td>dundigal</td>\n",
              "      <td>2022-11-24</td>\n",
              "      <td>27.2</td>\n",
              "      <td>20.5</td>\n",
              "      <td>23.8</td>\n",
              "      <td>28.5</td>\n",
              "      <td>20.5</td>\n",
              "      <td>24.1</td>\n",
              "      <td>18.5</td>\n",
              "      <td>73.1</td>\n",
              "      <td>...</td>\n",
              "      <td>18.5</td>\n",
              "      <td>8</td>\n",
              "      <td>10.0</td>\n",
              "      <td>2022-11-24T06:26:32</td>\n",
              "      <td>2022-11-24T17:39:24</td>\n",
              "      <td>0.00</td>\n",
              "      <td>Partially cloudy</td>\n",
              "      <td>Partly cloudy throughout the day.</td>\n",
              "      <td>partly-cloudy-day</td>\n",
              "      <td>VOHY,43083099999,43128599999,VOHS,43128099999</td>\n",
              "    </tr>\n",
              "    <tr>\n",
              "      <th>726</th>\n",
              "      <td>dundigal</td>\n",
              "      <td>2022-11-25</td>\n",
              "      <td>29.8</td>\n",
              "      <td>19.7</td>\n",
              "      <td>24.3</td>\n",
              "      <td>30.2</td>\n",
              "      <td>19.7</td>\n",
              "      <td>24.4</td>\n",
              "      <td>16.4</td>\n",
              "      <td>63.8</td>\n",
              "      <td>...</td>\n",
              "      <td>19.5</td>\n",
              "      <td>8</td>\n",
              "      <td>10.0</td>\n",
              "      <td>2022-11-25T06:27:07</td>\n",
              "      <td>2022-11-25T17:39:25</td>\n",
              "      <td>0.02</td>\n",
              "      <td>Partially cloudy</td>\n",
              "      <td>Partly cloudy throughout the day.</td>\n",
              "      <td>partly-cloudy-day</td>\n",
              "      <td>VOHY,43083099999,43128599999,VOHS,43128099999</td>\n",
              "    </tr>\n",
              "    <tr>\n",
              "      <th>727</th>\n",
              "      <td>dundigal</td>\n",
              "      <td>2022-11-26</td>\n",
              "      <td>29.9</td>\n",
              "      <td>17.2</td>\n",
              "      <td>23.2</td>\n",
              "      <td>28.8</td>\n",
              "      <td>17.2</td>\n",
              "      <td>22.9</td>\n",
              "      <td>13.0</td>\n",
              "      <td>55.6</td>\n",
              "      <td>...</td>\n",
              "      <td>19.8</td>\n",
              "      <td>8</td>\n",
              "      <td>10.0</td>\n",
              "      <td>2022-11-26T06:27:42</td>\n",
              "      <td>2022-11-26T17:39:28</td>\n",
              "      <td>0.04</td>\n",
              "      <td>Partially cloudy</td>\n",
              "      <td>Partly cloudy throughout the day.</td>\n",
              "      <td>partly-cloudy-day</td>\n",
              "      <td>VOHY,43083099999,43128599999,VOHS,43128099999</td>\n",
              "    </tr>\n",
              "    <tr>\n",
              "      <th>728</th>\n",
              "      <td>dundigal</td>\n",
              "      <td>2022-11-27</td>\n",
              "      <td>29.0</td>\n",
              "      <td>15.1</td>\n",
              "      <td>22.6</td>\n",
              "      <td>28.3</td>\n",
              "      <td>15.1</td>\n",
              "      <td>22.5</td>\n",
              "      <td>12.7</td>\n",
              "      <td>55.9</td>\n",
              "      <td>...</td>\n",
              "      <td>19.9</td>\n",
              "      <td>8</td>\n",
              "      <td>10.0</td>\n",
              "      <td>2022-11-27T06:28:18</td>\n",
              "      <td>2022-11-27T17:39:31</td>\n",
              "      <td>0.08</td>\n",
              "      <td>Partially cloudy</td>\n",
              "      <td>Partly cloudy throughout the day.</td>\n",
              "      <td>partly-cloudy-day</td>\n",
              "      <td>VOHY,43128599999,VOHS,43128099999</td>\n",
              "    </tr>\n",
              "    <tr>\n",
              "      <th>729</th>\n",
              "      <td>dundigal</td>\n",
              "      <td>2022-11-28</td>\n",
              "      <td>29.0</td>\n",
              "      <td>15.1</td>\n",
              "      <td>22.4</td>\n",
              "      <td>28.3</td>\n",
              "      <td>15.1</td>\n",
              "      <td>22.2</td>\n",
              "      <td>12.1</td>\n",
              "      <td>55.5</td>\n",
              "      <td>...</td>\n",
              "      <td>19.9</td>\n",
              "      <td>8</td>\n",
              "      <td>10.0</td>\n",
              "      <td>2022-11-28T06:28:54</td>\n",
              "      <td>2022-11-28T17:39:36</td>\n",
              "      <td>0.13</td>\n",
              "      <td>Clear</td>\n",
              "      <td>Clear conditions throughout the day.</td>\n",
              "      <td>clear-day</td>\n",
              "      <td>VOHY,VOHS</td>\n",
              "    </tr>\n",
              "  </tbody>\n",
              "</table>\n",
              "<p>730 rows × 33 columns</p>\n",
              "</div>\n",
              "      <button class=\"colab-df-convert\" onclick=\"convertToInteractive('df-4db5ba39-d9ca-4e91-8557-0a569cca8c6b')\"\n",
              "              title=\"Convert this dataframe to an interactive table.\"\n",
              "              style=\"display:none;\">\n",
              "        \n",
              "  <svg xmlns=\"http://www.w3.org/2000/svg\" height=\"24px\"viewBox=\"0 0 24 24\"\n",
              "       width=\"24px\">\n",
              "    <path d=\"M0 0h24v24H0V0z\" fill=\"none\"/>\n",
              "    <path d=\"M18.56 5.44l.94 2.06.94-2.06 2.06-.94-2.06-.94-.94-2.06-.94 2.06-2.06.94zm-11 1L8.5 8.5l.94-2.06 2.06-.94-2.06-.94L8.5 2.5l-.94 2.06-2.06.94zm10 10l.94 2.06.94-2.06 2.06-.94-2.06-.94-.94-2.06-.94 2.06-2.06.94z\"/><path d=\"M17.41 7.96l-1.37-1.37c-.4-.4-.92-.59-1.43-.59-.52 0-1.04.2-1.43.59L10.3 9.45l-7.72 7.72c-.78.78-.78 2.05 0 2.83L4 21.41c.39.39.9.59 1.41.59.51 0 1.02-.2 1.41-.59l7.78-7.78 2.81-2.81c.8-.78.8-2.07 0-2.86zM5.41 20L4 18.59l7.72-7.72 1.47 1.35L5.41 20z\"/>\n",
              "  </svg>\n",
              "      </button>\n",
              "      \n",
              "  <style>\n",
              "    .colab-df-container {\n",
              "      display:flex;\n",
              "      flex-wrap:wrap;\n",
              "      gap: 12px;\n",
              "    }\n",
              "\n",
              "    .colab-df-convert {\n",
              "      background-color: #E8F0FE;\n",
              "      border: none;\n",
              "      border-radius: 50%;\n",
              "      cursor: pointer;\n",
              "      display: none;\n",
              "      fill: #1967D2;\n",
              "      height: 32px;\n",
              "      padding: 0 0 0 0;\n",
              "      width: 32px;\n",
              "    }\n",
              "\n",
              "    .colab-df-convert:hover {\n",
              "      background-color: #E2EBFA;\n",
              "      box-shadow: 0px 1px 2px rgba(60, 64, 67, 0.3), 0px 1px 3px 1px rgba(60, 64, 67, 0.15);\n",
              "      fill: #174EA6;\n",
              "    }\n",
              "\n",
              "    [theme=dark] .colab-df-convert {\n",
              "      background-color: #3B4455;\n",
              "      fill: #D2E3FC;\n",
              "    }\n",
              "\n",
              "    [theme=dark] .colab-df-convert:hover {\n",
              "      background-color: #434B5C;\n",
              "      box-shadow: 0px 1px 3px 1px rgba(0, 0, 0, 0.15);\n",
              "      filter: drop-shadow(0px 1px 2px rgba(0, 0, 0, 0.3));\n",
              "      fill: #FFFFFF;\n",
              "    }\n",
              "  </style>\n",
              "\n",
              "      <script>\n",
              "        const buttonEl =\n",
              "          document.querySelector('#df-4db5ba39-d9ca-4e91-8557-0a569cca8c6b button.colab-df-convert');\n",
              "        buttonEl.style.display =\n",
              "          google.colab.kernel.accessAllowed ? 'block' : 'none';\n",
              "\n",
              "        async function convertToInteractive(key) {\n",
              "          const element = document.querySelector('#df-4db5ba39-d9ca-4e91-8557-0a569cca8c6b');\n",
              "          const dataTable =\n",
              "            await google.colab.kernel.invokeFunction('convertToInteractive',\n",
              "                                                     [key], {});\n",
              "          if (!dataTable) return;\n",
              "\n",
              "          const docLinkHtml = 'Like what you see? Visit the ' +\n",
              "            '<a target=\"_blank\" href=https://colab.research.google.com/notebooks/data_table.ipynb>data table notebook</a>'\n",
              "            + ' to learn more about interactive tables.';\n",
              "          element.innerHTML = '';\n",
              "          dataTable['output_type'] = 'display_data';\n",
              "          await google.colab.output.renderOutput(dataTable, element);\n",
              "          const docLink = document.createElement('div');\n",
              "          docLink.innerHTML = docLinkHtml;\n",
              "          element.appendChild(docLink);\n",
              "        }\n",
              "      </script>\n",
              "    </div>\n",
              "  </div>\n",
              "  "
            ]
          },
          "metadata": {},
          "execution_count": 4
        }
      ],
      "source": [
        "df=pd.read_csv(\"/content/dundigal 2020-11-29 to 2022-11-28.csv\")\n",
        "df"
      ]
    },
    {
      "cell_type": "code",
      "execution_count": null,
      "metadata": {
        "colab": {
          "base_uri": "https://localhost:8080/"
        },
        "id": "aZI1d_Ufi_sJ",
        "outputId": "b069981c-e1ef-45e2-a489-845a458ba6b3"
      },
      "outputs": [
        {
          "output_type": "execute_result",
          "data": {
            "text/plain": [
              "(730, 33)"
            ]
          },
          "metadata": {},
          "execution_count": 5
        }
      ],
      "source": [
        "df.shape"
      ]
    },
    {
      "cell_type": "code",
      "execution_count": null,
      "metadata": {
        "colab": {
          "base_uri": "https://localhost:8080/"
        },
        "id": "x274hwV-FG4k",
        "outputId": "2247b2d3-c6d4-4f3b-fec9-cce72ff30223"
      },
      "outputs": [
        {
          "output_type": "execute_result",
          "data": {
            "text/plain": [
              "name                0.000000\n",
              "datetime            0.000000\n",
              "tempmax             0.000000\n",
              "tempmin             0.000000\n",
              "temp                0.000000\n",
              "feelslikemax        0.000000\n",
              "feelslikemin        0.000000\n",
              "feelslike           0.000000\n",
              "dew                 0.000000\n",
              "humidity            0.000000\n",
              "precip              0.000000\n",
              "precipprob          0.000000\n",
              "precipcover         0.000000\n",
              "preciptype          0.560274\n",
              "snow                0.000000\n",
              "snowdepth           0.000000\n",
              "windgust            0.517808\n",
              "windspeed           0.000000\n",
              "winddir             0.000000\n",
              "sealevelpressure    0.001370\n",
              "cloudcover          0.000000\n",
              "visibility          0.000000\n",
              "solarradiation      0.000000\n",
              "solarenergy         0.000000\n",
              "uvindex             0.000000\n",
              "severerisk          0.557534\n",
              "sunrise             0.000000\n",
              "sunset              0.000000\n",
              "moonphase           0.000000\n",
              "conditions          0.000000\n",
              "description         0.000000\n",
              "icon                0.000000\n",
              "stations            0.000000\n",
              "dtype: float64"
            ]
          },
          "metadata": {},
          "execution_count": 6
        }
      ],
      "source": [
        "df.apply(pd.isnull).sum()/df.shape[0] #Missing values"
      ]
    },
    {
      "cell_type": "code",
      "execution_count": null,
      "metadata": {
        "id": "OvRj2m-BFG_r"
      },
      "outputs": [],
      "source": [
        "core_weather= df[[\"datetime\",\"tempmax\",\"tempmin\",\"humidity\",\"dew\",\"precip\",\"sealevelpressure\"]].copy()"
      ]
    },
    {
      "cell_type": "code",
      "execution_count": null,
      "metadata": {
        "colab": {
          "base_uri": "https://localhost:8080/",
          "height": 424
        },
        "id": "jmAIHdpJFHDG",
        "outputId": "e9ab9708-881a-4b51-d8b1-88985b43f5f0"
      },
      "outputs": [
        {
          "output_type": "execute_result",
          "data": {
            "text/plain": [
              "       datetime  tempmax  tempmin  humidity   dew  precip  sealevelpressure\n",
              "0    2020-11-29     26.5     20.0      85.8  19.9     0.0            1014.9\n",
              "1    2020-11-30     27.6     18.3      78.3  18.7     0.0            1014.5\n",
              "2    2020-12-01     27.6     18.0      76.1  17.4     0.0            1014.5\n",
              "3    2020-12-02     28.6     15.5      67.9  15.1     0.0            1013.3\n",
              "4    2020-12-03     27.4     14.6      77.3  17.2     0.0            1012.9\n",
              "..          ...      ...      ...       ...   ...     ...               ...\n",
              "725  2022-11-24     27.2     20.5      73.1  18.5     0.0            1014.5\n",
              "726  2022-11-25     29.8     19.7      63.8  16.4     0.0            1015.2\n",
              "727  2022-11-26     29.9     17.2      55.6  13.0     0.0            1014.2\n",
              "728  2022-11-27     29.0     15.1      55.9  12.7     0.0            1012.8\n",
              "729  2022-11-28     29.0     15.1      55.5  12.1     0.0            1013.5\n",
              "\n",
              "[730 rows x 7 columns]"
            ],
            "text/html": [
              "\n",
              "  <div id=\"df-bfad0694-f702-4cd7-9745-970614447a37\">\n",
              "    <div class=\"colab-df-container\">\n",
              "      <div>\n",
              "<style scoped>\n",
              "    .dataframe tbody tr th:only-of-type {\n",
              "        vertical-align: middle;\n",
              "    }\n",
              "\n",
              "    .dataframe tbody tr th {\n",
              "        vertical-align: top;\n",
              "    }\n",
              "\n",
              "    .dataframe thead th {\n",
              "        text-align: right;\n",
              "    }\n",
              "</style>\n",
              "<table border=\"1\" class=\"dataframe\">\n",
              "  <thead>\n",
              "    <tr style=\"text-align: right;\">\n",
              "      <th></th>\n",
              "      <th>datetime</th>\n",
              "      <th>tempmax</th>\n",
              "      <th>tempmin</th>\n",
              "      <th>humidity</th>\n",
              "      <th>dew</th>\n",
              "      <th>precip</th>\n",
              "      <th>sealevelpressure</th>\n",
              "    </tr>\n",
              "  </thead>\n",
              "  <tbody>\n",
              "    <tr>\n",
              "      <th>0</th>\n",
              "      <td>2020-11-29</td>\n",
              "      <td>26.5</td>\n",
              "      <td>20.0</td>\n",
              "      <td>85.8</td>\n",
              "      <td>19.9</td>\n",
              "      <td>0.0</td>\n",
              "      <td>1014.9</td>\n",
              "    </tr>\n",
              "    <tr>\n",
              "      <th>1</th>\n",
              "      <td>2020-11-30</td>\n",
              "      <td>27.6</td>\n",
              "      <td>18.3</td>\n",
              "      <td>78.3</td>\n",
              "      <td>18.7</td>\n",
              "      <td>0.0</td>\n",
              "      <td>1014.5</td>\n",
              "    </tr>\n",
              "    <tr>\n",
              "      <th>2</th>\n",
              "      <td>2020-12-01</td>\n",
              "      <td>27.6</td>\n",
              "      <td>18.0</td>\n",
              "      <td>76.1</td>\n",
              "      <td>17.4</td>\n",
              "      <td>0.0</td>\n",
              "      <td>1014.5</td>\n",
              "    </tr>\n",
              "    <tr>\n",
              "      <th>3</th>\n",
              "      <td>2020-12-02</td>\n",
              "      <td>28.6</td>\n",
              "      <td>15.5</td>\n",
              "      <td>67.9</td>\n",
              "      <td>15.1</td>\n",
              "      <td>0.0</td>\n",
              "      <td>1013.3</td>\n",
              "    </tr>\n",
              "    <tr>\n",
              "      <th>4</th>\n",
              "      <td>2020-12-03</td>\n",
              "      <td>27.4</td>\n",
              "      <td>14.6</td>\n",
              "      <td>77.3</td>\n",
              "      <td>17.2</td>\n",
              "      <td>0.0</td>\n",
              "      <td>1012.9</td>\n",
              "    </tr>\n",
              "    <tr>\n",
              "      <th>...</th>\n",
              "      <td>...</td>\n",
              "      <td>...</td>\n",
              "      <td>...</td>\n",
              "      <td>...</td>\n",
              "      <td>...</td>\n",
              "      <td>...</td>\n",
              "      <td>...</td>\n",
              "    </tr>\n",
              "    <tr>\n",
              "      <th>725</th>\n",
              "      <td>2022-11-24</td>\n",
              "      <td>27.2</td>\n",
              "      <td>20.5</td>\n",
              "      <td>73.1</td>\n",
              "      <td>18.5</td>\n",
              "      <td>0.0</td>\n",
              "      <td>1014.5</td>\n",
              "    </tr>\n",
              "    <tr>\n",
              "      <th>726</th>\n",
              "      <td>2022-11-25</td>\n",
              "      <td>29.8</td>\n",
              "      <td>19.7</td>\n",
              "      <td>63.8</td>\n",
              "      <td>16.4</td>\n",
              "      <td>0.0</td>\n",
              "      <td>1015.2</td>\n",
              "    </tr>\n",
              "    <tr>\n",
              "      <th>727</th>\n",
              "      <td>2022-11-26</td>\n",
              "      <td>29.9</td>\n",
              "      <td>17.2</td>\n",
              "      <td>55.6</td>\n",
              "      <td>13.0</td>\n",
              "      <td>0.0</td>\n",
              "      <td>1014.2</td>\n",
              "    </tr>\n",
              "    <tr>\n",
              "      <th>728</th>\n",
              "      <td>2022-11-27</td>\n",
              "      <td>29.0</td>\n",
              "      <td>15.1</td>\n",
              "      <td>55.9</td>\n",
              "      <td>12.7</td>\n",
              "      <td>0.0</td>\n",
              "      <td>1012.8</td>\n",
              "    </tr>\n",
              "    <tr>\n",
              "      <th>729</th>\n",
              "      <td>2022-11-28</td>\n",
              "      <td>29.0</td>\n",
              "      <td>15.1</td>\n",
              "      <td>55.5</td>\n",
              "      <td>12.1</td>\n",
              "      <td>0.0</td>\n",
              "      <td>1013.5</td>\n",
              "    </tr>\n",
              "  </tbody>\n",
              "</table>\n",
              "<p>730 rows × 7 columns</p>\n",
              "</div>\n",
              "      <button class=\"colab-df-convert\" onclick=\"convertToInteractive('df-bfad0694-f702-4cd7-9745-970614447a37')\"\n",
              "              title=\"Convert this dataframe to an interactive table.\"\n",
              "              style=\"display:none;\">\n",
              "        \n",
              "  <svg xmlns=\"http://www.w3.org/2000/svg\" height=\"24px\"viewBox=\"0 0 24 24\"\n",
              "       width=\"24px\">\n",
              "    <path d=\"M0 0h24v24H0V0z\" fill=\"none\"/>\n",
              "    <path d=\"M18.56 5.44l.94 2.06.94-2.06 2.06-.94-2.06-.94-.94-2.06-.94 2.06-2.06.94zm-11 1L8.5 8.5l.94-2.06 2.06-.94-2.06-.94L8.5 2.5l-.94 2.06-2.06.94zm10 10l.94 2.06.94-2.06 2.06-.94-2.06-.94-.94-2.06-.94 2.06-2.06.94z\"/><path d=\"M17.41 7.96l-1.37-1.37c-.4-.4-.92-.59-1.43-.59-.52 0-1.04.2-1.43.59L10.3 9.45l-7.72 7.72c-.78.78-.78 2.05 0 2.83L4 21.41c.39.39.9.59 1.41.59.51 0 1.02-.2 1.41-.59l7.78-7.78 2.81-2.81c.8-.78.8-2.07 0-2.86zM5.41 20L4 18.59l7.72-7.72 1.47 1.35L5.41 20z\"/>\n",
              "  </svg>\n",
              "      </button>\n",
              "      \n",
              "  <style>\n",
              "    .colab-df-container {\n",
              "      display:flex;\n",
              "      flex-wrap:wrap;\n",
              "      gap: 12px;\n",
              "    }\n",
              "\n",
              "    .colab-df-convert {\n",
              "      background-color: #E8F0FE;\n",
              "      border: none;\n",
              "      border-radius: 50%;\n",
              "      cursor: pointer;\n",
              "      display: none;\n",
              "      fill: #1967D2;\n",
              "      height: 32px;\n",
              "      padding: 0 0 0 0;\n",
              "      width: 32px;\n",
              "    }\n",
              "\n",
              "    .colab-df-convert:hover {\n",
              "      background-color: #E2EBFA;\n",
              "      box-shadow: 0px 1px 2px rgba(60, 64, 67, 0.3), 0px 1px 3px 1px rgba(60, 64, 67, 0.15);\n",
              "      fill: #174EA6;\n",
              "    }\n",
              "\n",
              "    [theme=dark] .colab-df-convert {\n",
              "      background-color: #3B4455;\n",
              "      fill: #D2E3FC;\n",
              "    }\n",
              "\n",
              "    [theme=dark] .colab-df-convert:hover {\n",
              "      background-color: #434B5C;\n",
              "      box-shadow: 0px 1px 3px 1px rgba(0, 0, 0, 0.15);\n",
              "      filter: drop-shadow(0px 1px 2px rgba(0, 0, 0, 0.3));\n",
              "      fill: #FFFFFF;\n",
              "    }\n",
              "  </style>\n",
              "\n",
              "      <script>\n",
              "        const buttonEl =\n",
              "          document.querySelector('#df-bfad0694-f702-4cd7-9745-970614447a37 button.colab-df-convert');\n",
              "        buttonEl.style.display =\n",
              "          google.colab.kernel.accessAllowed ? 'block' : 'none';\n",
              "\n",
              "        async function convertToInteractive(key) {\n",
              "          const element = document.querySelector('#df-bfad0694-f702-4cd7-9745-970614447a37');\n",
              "          const dataTable =\n",
              "            await google.colab.kernel.invokeFunction('convertToInteractive',\n",
              "                                                     [key], {});\n",
              "          if (!dataTable) return;\n",
              "\n",
              "          const docLinkHtml = 'Like what you see? Visit the ' +\n",
              "            '<a target=\"_blank\" href=https://colab.research.google.com/notebooks/data_table.ipynb>data table notebook</a>'\n",
              "            + ' to learn more about interactive tables.';\n",
              "          element.innerHTML = '';\n",
              "          dataTable['output_type'] = 'display_data';\n",
              "          await google.colab.output.renderOutput(dataTable, element);\n",
              "          const docLink = document.createElement('div');\n",
              "          docLink.innerHTML = docLinkHtml;\n",
              "          element.appendChild(docLink);\n",
              "        }\n",
              "      </script>\n",
              "    </div>\n",
              "  </div>\n",
              "  "
            ]
          },
          "metadata": {},
          "execution_count": 8
        }
      ],
      "source": [
        "core_weather.columns=[\"datetime\",\"tempmax\",\"tempmin\",\"humidity\",\"dew\",\"precip\",\"sealevelpressure\"]\n",
        "core_weather"
      ]
    },
    {
      "cell_type": "code",
      "execution_count": null,
      "metadata": {
        "colab": {
          "base_uri": "https://localhost:8080/"
        },
        "id": "t2sjnXdbFHHN",
        "outputId": "860973b9-8168-4442-c52e-172b5af856fa"
      },
      "outputs": [
        {
          "output_type": "execute_result",
          "data": {
            "text/plain": [
              "datetime            0.00000\n",
              "tempmax             0.00000\n",
              "tempmin             0.00000\n",
              "humidity            0.00000\n",
              "dew                 0.00000\n",
              "precip              0.00000\n",
              "sealevelpressure    0.00137\n",
              "dtype: float64"
            ]
          },
          "metadata": {},
          "execution_count": 9
        }
      ],
      "source": [
        "core_weather.apply(pd.isnull).sum()/df.shape[0]"
      ]
    },
    {
      "cell_type": "code",
      "execution_count": null,
      "metadata": {
        "colab": {
          "base_uri": "https://localhost:8080/"
        },
        "id": "3t_s1lVFFHKj",
        "outputId": "959de94b-1c52-4b6c-98b0-013c22e8e13c"
      },
      "outputs": [
        {
          "output_type": "execute_result",
          "data": {
            "text/plain": [
              "1013.3    13\n",
              "1009.0    13\n",
              "1014.2    11\n",
              "1012.7    11\n",
              "1014.7    11\n",
              "          ..\n",
              "1017.6     1\n",
              "1018.5     1\n",
              "1017.9     1\n",
              "1017.2     1\n",
              "1004.3     1\n",
              "Name: sealevelpressure, Length: 159, dtype: int64"
            ]
          },
          "metadata": {},
          "execution_count": 10
        }
      ],
      "source": [
        "core_weather[\"sealevelpressure\"].value_counts() #Only Column with Null values 0.13%(Null)"
      ]
    },
    {
      "cell_type": "code",
      "execution_count": null,
      "metadata": {
        "colab": {
          "base_uri": "https://localhost:8080/",
          "height": 81
        },
        "id": "eUTwbl3ZFHNa",
        "outputId": "aae7246a-a1a1-4d5b-be56-1c8277fb52a7"
      },
      "outputs": [
        {
          "output_type": "execute_result",
          "data": {
            "text/plain": [
              "      datetime  tempmax  tempmin  humidity   dew  precip  sealevelpressure\n",
              "75  2021-02-12     29.0     15.0      59.7  12.9     0.0               NaN"
            ],
            "text/html": [
              "\n",
              "  <div id=\"df-5d66bb53-4150-46e9-87d0-bec838d09d98\">\n",
              "    <div class=\"colab-df-container\">\n",
              "      <div>\n",
              "<style scoped>\n",
              "    .dataframe tbody tr th:only-of-type {\n",
              "        vertical-align: middle;\n",
              "    }\n",
              "\n",
              "    .dataframe tbody tr th {\n",
              "        vertical-align: top;\n",
              "    }\n",
              "\n",
              "    .dataframe thead th {\n",
              "        text-align: right;\n",
              "    }\n",
              "</style>\n",
              "<table border=\"1\" class=\"dataframe\">\n",
              "  <thead>\n",
              "    <tr style=\"text-align: right;\">\n",
              "      <th></th>\n",
              "      <th>datetime</th>\n",
              "      <th>tempmax</th>\n",
              "      <th>tempmin</th>\n",
              "      <th>humidity</th>\n",
              "      <th>dew</th>\n",
              "      <th>precip</th>\n",
              "      <th>sealevelpressure</th>\n",
              "    </tr>\n",
              "  </thead>\n",
              "  <tbody>\n",
              "    <tr>\n",
              "      <th>75</th>\n",
              "      <td>2021-02-12</td>\n",
              "      <td>29.0</td>\n",
              "      <td>15.0</td>\n",
              "      <td>59.7</td>\n",
              "      <td>12.9</td>\n",
              "      <td>0.0</td>\n",
              "      <td>NaN</td>\n",
              "    </tr>\n",
              "  </tbody>\n",
              "</table>\n",
              "</div>\n",
              "      <button class=\"colab-df-convert\" onclick=\"convertToInteractive('df-5d66bb53-4150-46e9-87d0-bec838d09d98')\"\n",
              "              title=\"Convert this dataframe to an interactive table.\"\n",
              "              style=\"display:none;\">\n",
              "        \n",
              "  <svg xmlns=\"http://www.w3.org/2000/svg\" height=\"24px\"viewBox=\"0 0 24 24\"\n",
              "       width=\"24px\">\n",
              "    <path d=\"M0 0h24v24H0V0z\" fill=\"none\"/>\n",
              "    <path d=\"M18.56 5.44l.94 2.06.94-2.06 2.06-.94-2.06-.94-.94-2.06-.94 2.06-2.06.94zm-11 1L8.5 8.5l.94-2.06 2.06-.94-2.06-.94L8.5 2.5l-.94 2.06-2.06.94zm10 10l.94 2.06.94-2.06 2.06-.94-2.06-.94-.94-2.06-.94 2.06-2.06.94z\"/><path d=\"M17.41 7.96l-1.37-1.37c-.4-.4-.92-.59-1.43-.59-.52 0-1.04.2-1.43.59L10.3 9.45l-7.72 7.72c-.78.78-.78 2.05 0 2.83L4 21.41c.39.39.9.59 1.41.59.51 0 1.02-.2 1.41-.59l7.78-7.78 2.81-2.81c.8-.78.8-2.07 0-2.86zM5.41 20L4 18.59l7.72-7.72 1.47 1.35L5.41 20z\"/>\n",
              "  </svg>\n",
              "      </button>\n",
              "      \n",
              "  <style>\n",
              "    .colab-df-container {\n",
              "      display:flex;\n",
              "      flex-wrap:wrap;\n",
              "      gap: 12px;\n",
              "    }\n",
              "\n",
              "    .colab-df-convert {\n",
              "      background-color: #E8F0FE;\n",
              "      border: none;\n",
              "      border-radius: 50%;\n",
              "      cursor: pointer;\n",
              "      display: none;\n",
              "      fill: #1967D2;\n",
              "      height: 32px;\n",
              "      padding: 0 0 0 0;\n",
              "      width: 32px;\n",
              "    }\n",
              "\n",
              "    .colab-df-convert:hover {\n",
              "      background-color: #E2EBFA;\n",
              "      box-shadow: 0px 1px 2px rgba(60, 64, 67, 0.3), 0px 1px 3px 1px rgba(60, 64, 67, 0.15);\n",
              "      fill: #174EA6;\n",
              "    }\n",
              "\n",
              "    [theme=dark] .colab-df-convert {\n",
              "      background-color: #3B4455;\n",
              "      fill: #D2E3FC;\n",
              "    }\n",
              "\n",
              "    [theme=dark] .colab-df-convert:hover {\n",
              "      background-color: #434B5C;\n",
              "      box-shadow: 0px 1px 3px 1px rgba(0, 0, 0, 0.15);\n",
              "      filter: drop-shadow(0px 1px 2px rgba(0, 0, 0, 0.3));\n",
              "      fill: #FFFFFF;\n",
              "    }\n",
              "  </style>\n",
              "\n",
              "      <script>\n",
              "        const buttonEl =\n",
              "          document.querySelector('#df-5d66bb53-4150-46e9-87d0-bec838d09d98 button.colab-df-convert');\n",
              "        buttonEl.style.display =\n",
              "          google.colab.kernel.accessAllowed ? 'block' : 'none';\n",
              "\n",
              "        async function convertToInteractive(key) {\n",
              "          const element = document.querySelector('#df-5d66bb53-4150-46e9-87d0-bec838d09d98');\n",
              "          const dataTable =\n",
              "            await google.colab.kernel.invokeFunction('convertToInteractive',\n",
              "                                                     [key], {});\n",
              "          if (!dataTable) return;\n",
              "\n",
              "          const docLinkHtml = 'Like what you see? Visit the ' +\n",
              "            '<a target=\"_blank\" href=https://colab.research.google.com/notebooks/data_table.ipynb>data table notebook</a>'\n",
              "            + ' to learn more about interactive tables.';\n",
              "          element.innerHTML = '';\n",
              "          dataTable['output_type'] = 'display_data';\n",
              "          await google.colab.output.renderOutput(dataTable, element);\n",
              "          const docLink = document.createElement('div');\n",
              "          docLink.innerHTML = docLinkHtml;\n",
              "          element.appendChild(docLink);\n",
              "        }\n",
              "      </script>\n",
              "    </div>\n",
              "  </div>\n",
              "  "
            ]
          },
          "metadata": {},
          "execution_count": 11
        }
      ],
      "source": [
        "core_weather[pd.isnull(core_weather[\"sealevelpressure\"])]"
      ]
    },
    {
      "cell_type": "code",
      "execution_count": null,
      "metadata": {
        "colab": {
          "base_uri": "https://localhost:8080/",
          "height": 394
        },
        "id": "0H-GM56EFHQq",
        "outputId": "3457af37-252b-45f6-8aea-ddc8098acdf2"
      },
      "outputs": [
        {
          "output_type": "execute_result",
          "data": {
            "text/plain": [
              "      datetime  tempmax  tempmin  humidity   dew  precip  sealevelpressure\n",
              "70  2021-02-07     28.3     15.5      56.7  12.4     0.0            1014.2\n",
              "71  2021-02-08     27.9     15.5      54.6  10.9     0.0            1015.2\n",
              "72  2021-02-09     30.0     15.2      53.2  11.1     0.0            1014.2\n",
              "73  2021-02-10     31.5     13.6      57.6  12.1     0.0            1012.6\n",
              "74  2021-02-11     28.3     14.6      60.9  13.5     0.0            1011.8\n",
              "75  2021-02-12     29.0     15.0      59.7  12.9     0.0               NaN\n",
              "76  2021-02-13     29.2     15.0      60.6  13.6     0.0            1013.3\n",
              "77  2021-02-14     30.3     15.5      55.8  12.8     0.0            1012.8\n",
              "78  2021-02-15     31.2     18.0      49.0  12.3     0.0            1011.4\n",
              "79  2021-02-16     31.5     19.0      50.4  13.1     0.0            1010.7\n",
              "80  2021-02-17     30.2     17.6      49.4  12.3     0.0            1011.1"
            ],
            "text/html": [
              "\n",
              "  <div id=\"df-628b89f5-ae58-49e1-af53-a12addc6f504\">\n",
              "    <div class=\"colab-df-container\">\n",
              "      <div>\n",
              "<style scoped>\n",
              "    .dataframe tbody tr th:only-of-type {\n",
              "        vertical-align: middle;\n",
              "    }\n",
              "\n",
              "    .dataframe tbody tr th {\n",
              "        vertical-align: top;\n",
              "    }\n",
              "\n",
              "    .dataframe thead th {\n",
              "        text-align: right;\n",
              "    }\n",
              "</style>\n",
              "<table border=\"1\" class=\"dataframe\">\n",
              "  <thead>\n",
              "    <tr style=\"text-align: right;\">\n",
              "      <th></th>\n",
              "      <th>datetime</th>\n",
              "      <th>tempmax</th>\n",
              "      <th>tempmin</th>\n",
              "      <th>humidity</th>\n",
              "      <th>dew</th>\n",
              "      <th>precip</th>\n",
              "      <th>sealevelpressure</th>\n",
              "    </tr>\n",
              "  </thead>\n",
              "  <tbody>\n",
              "    <tr>\n",
              "      <th>70</th>\n",
              "      <td>2021-02-07</td>\n",
              "      <td>28.3</td>\n",
              "      <td>15.5</td>\n",
              "      <td>56.7</td>\n",
              "      <td>12.4</td>\n",
              "      <td>0.0</td>\n",
              "      <td>1014.2</td>\n",
              "    </tr>\n",
              "    <tr>\n",
              "      <th>71</th>\n",
              "      <td>2021-02-08</td>\n",
              "      <td>27.9</td>\n",
              "      <td>15.5</td>\n",
              "      <td>54.6</td>\n",
              "      <td>10.9</td>\n",
              "      <td>0.0</td>\n",
              "      <td>1015.2</td>\n",
              "    </tr>\n",
              "    <tr>\n",
              "      <th>72</th>\n",
              "      <td>2021-02-09</td>\n",
              "      <td>30.0</td>\n",
              "      <td>15.2</td>\n",
              "      <td>53.2</td>\n",
              "      <td>11.1</td>\n",
              "      <td>0.0</td>\n",
              "      <td>1014.2</td>\n",
              "    </tr>\n",
              "    <tr>\n",
              "      <th>73</th>\n",
              "      <td>2021-02-10</td>\n",
              "      <td>31.5</td>\n",
              "      <td>13.6</td>\n",
              "      <td>57.6</td>\n",
              "      <td>12.1</td>\n",
              "      <td>0.0</td>\n",
              "      <td>1012.6</td>\n",
              "    </tr>\n",
              "    <tr>\n",
              "      <th>74</th>\n",
              "      <td>2021-02-11</td>\n",
              "      <td>28.3</td>\n",
              "      <td>14.6</td>\n",
              "      <td>60.9</td>\n",
              "      <td>13.5</td>\n",
              "      <td>0.0</td>\n",
              "      <td>1011.8</td>\n",
              "    </tr>\n",
              "    <tr>\n",
              "      <th>75</th>\n",
              "      <td>2021-02-12</td>\n",
              "      <td>29.0</td>\n",
              "      <td>15.0</td>\n",
              "      <td>59.7</td>\n",
              "      <td>12.9</td>\n",
              "      <td>0.0</td>\n",
              "      <td>NaN</td>\n",
              "    </tr>\n",
              "    <tr>\n",
              "      <th>76</th>\n",
              "      <td>2021-02-13</td>\n",
              "      <td>29.2</td>\n",
              "      <td>15.0</td>\n",
              "      <td>60.6</td>\n",
              "      <td>13.6</td>\n",
              "      <td>0.0</td>\n",
              "      <td>1013.3</td>\n",
              "    </tr>\n",
              "    <tr>\n",
              "      <th>77</th>\n",
              "      <td>2021-02-14</td>\n",
              "      <td>30.3</td>\n",
              "      <td>15.5</td>\n",
              "      <td>55.8</td>\n",
              "      <td>12.8</td>\n",
              "      <td>0.0</td>\n",
              "      <td>1012.8</td>\n",
              "    </tr>\n",
              "    <tr>\n",
              "      <th>78</th>\n",
              "      <td>2021-02-15</td>\n",
              "      <td>31.2</td>\n",
              "      <td>18.0</td>\n",
              "      <td>49.0</td>\n",
              "      <td>12.3</td>\n",
              "      <td>0.0</td>\n",
              "      <td>1011.4</td>\n",
              "    </tr>\n",
              "    <tr>\n",
              "      <th>79</th>\n",
              "      <td>2021-02-16</td>\n",
              "      <td>31.5</td>\n",
              "      <td>19.0</td>\n",
              "      <td>50.4</td>\n",
              "      <td>13.1</td>\n",
              "      <td>0.0</td>\n",
              "      <td>1010.7</td>\n",
              "    </tr>\n",
              "    <tr>\n",
              "      <th>80</th>\n",
              "      <td>2021-02-17</td>\n",
              "      <td>30.2</td>\n",
              "      <td>17.6</td>\n",
              "      <td>49.4</td>\n",
              "      <td>12.3</td>\n",
              "      <td>0.0</td>\n",
              "      <td>1011.1</td>\n",
              "    </tr>\n",
              "  </tbody>\n",
              "</table>\n",
              "</div>\n",
              "      <button class=\"colab-df-convert\" onclick=\"convertToInteractive('df-628b89f5-ae58-49e1-af53-a12addc6f504')\"\n",
              "              title=\"Convert this dataframe to an interactive table.\"\n",
              "              style=\"display:none;\">\n",
              "        \n",
              "  <svg xmlns=\"http://www.w3.org/2000/svg\" height=\"24px\"viewBox=\"0 0 24 24\"\n",
              "       width=\"24px\">\n",
              "    <path d=\"M0 0h24v24H0V0z\" fill=\"none\"/>\n",
              "    <path d=\"M18.56 5.44l.94 2.06.94-2.06 2.06-.94-2.06-.94-.94-2.06-.94 2.06-2.06.94zm-11 1L8.5 8.5l.94-2.06 2.06-.94-2.06-.94L8.5 2.5l-.94 2.06-2.06.94zm10 10l.94 2.06.94-2.06 2.06-.94-2.06-.94-.94-2.06-.94 2.06-2.06.94z\"/><path d=\"M17.41 7.96l-1.37-1.37c-.4-.4-.92-.59-1.43-.59-.52 0-1.04.2-1.43.59L10.3 9.45l-7.72 7.72c-.78.78-.78 2.05 0 2.83L4 21.41c.39.39.9.59 1.41.59.51 0 1.02-.2 1.41-.59l7.78-7.78 2.81-2.81c.8-.78.8-2.07 0-2.86zM5.41 20L4 18.59l7.72-7.72 1.47 1.35L5.41 20z\"/>\n",
              "  </svg>\n",
              "      </button>\n",
              "      \n",
              "  <style>\n",
              "    .colab-df-container {\n",
              "      display:flex;\n",
              "      flex-wrap:wrap;\n",
              "      gap: 12px;\n",
              "    }\n",
              "\n",
              "    .colab-df-convert {\n",
              "      background-color: #E8F0FE;\n",
              "      border: none;\n",
              "      border-radius: 50%;\n",
              "      cursor: pointer;\n",
              "      display: none;\n",
              "      fill: #1967D2;\n",
              "      height: 32px;\n",
              "      padding: 0 0 0 0;\n",
              "      width: 32px;\n",
              "    }\n",
              "\n",
              "    .colab-df-convert:hover {\n",
              "      background-color: #E2EBFA;\n",
              "      box-shadow: 0px 1px 2px rgba(60, 64, 67, 0.3), 0px 1px 3px 1px rgba(60, 64, 67, 0.15);\n",
              "      fill: #174EA6;\n",
              "    }\n",
              "\n",
              "    [theme=dark] .colab-df-convert {\n",
              "      background-color: #3B4455;\n",
              "      fill: #D2E3FC;\n",
              "    }\n",
              "\n",
              "    [theme=dark] .colab-df-convert:hover {\n",
              "      background-color: #434B5C;\n",
              "      box-shadow: 0px 1px 3px 1px rgba(0, 0, 0, 0.15);\n",
              "      filter: drop-shadow(0px 1px 2px rgba(0, 0, 0, 0.3));\n",
              "      fill: #FFFFFF;\n",
              "    }\n",
              "  </style>\n",
              "\n",
              "      <script>\n",
              "        const buttonEl =\n",
              "          document.querySelector('#df-628b89f5-ae58-49e1-af53-a12addc6f504 button.colab-df-convert');\n",
              "        buttonEl.style.display =\n",
              "          google.colab.kernel.accessAllowed ? 'block' : 'none';\n",
              "\n",
              "        async function convertToInteractive(key) {\n",
              "          const element = document.querySelector('#df-628b89f5-ae58-49e1-af53-a12addc6f504');\n",
              "          const dataTable =\n",
              "            await google.colab.kernel.invokeFunction('convertToInteractive',\n",
              "                                                     [key], {});\n",
              "          if (!dataTable) return;\n",
              "\n",
              "          const docLinkHtml = 'Like what you see? Visit the ' +\n",
              "            '<a target=\"_blank\" href=https://colab.research.google.com/notebooks/data_table.ipynb>data table notebook</a>'\n",
              "            + ' to learn more about interactive tables.';\n",
              "          element.innerHTML = '';\n",
              "          dataTable['output_type'] = 'display_data';\n",
              "          await google.colab.output.renderOutput(dataTable, element);\n",
              "          const docLink = document.createElement('div');\n",
              "          docLink.innerHTML = docLinkHtml;\n",
              "          element.appendChild(docLink);\n",
              "        }\n",
              "      </script>\n",
              "    </div>\n",
              "  </div>\n",
              "  "
            ]
          },
          "metadata": {},
          "execution_count": 12
        }
      ],
      "source": [
        "core_weather.loc[70:80,:]"
      ]
    },
    {
      "cell_type": "code",
      "execution_count": null,
      "metadata": {
        "id": "Gh9OI_25FHTL"
      },
      "outputs": [],
      "source": [
        "core_weather[\"sealevelpressure\"]=core_weather[\"sealevelpressure\"].fillna(0)"
      ]
    },
    {
      "cell_type": "code",
      "execution_count": null,
      "metadata": {
        "colab": {
          "base_uri": "https://localhost:8080/"
        },
        "id": "8hYrKx_JFHVp",
        "outputId": "bfbab1b9-1774-4074-c55f-a680b1aac438"
      },
      "outputs": [
        {
          "output_type": "execute_result",
          "data": {
            "text/plain": [
              "datetime            0.0\n",
              "tempmax             0.0\n",
              "tempmin             0.0\n",
              "humidity            0.0\n",
              "dew                 0.0\n",
              "precip              0.0\n",
              "sealevelpressure    0.0\n",
              "dtype: float64"
            ]
          },
          "metadata": {},
          "execution_count": 14
        }
      ],
      "source": [
        "core_weather.apply(pd.isnull).sum()/df.shape[0] #No missing values now"
      ]
    },
    {
      "cell_type": "code",
      "execution_count": null,
      "metadata": {
        "colab": {
          "base_uri": "https://localhost:8080/"
        },
        "id": "3KBz-LrEFHYM",
        "outputId": "cda14538-b553-406a-9aa2-d2330acb8a91"
      },
      "outputs": [
        {
          "output_type": "execute_result",
          "data": {
            "text/plain": [
              "datetime            0\n",
              "tempmax             0\n",
              "tempmin             0\n",
              "humidity            0\n",
              "dew                 0\n",
              "precip              0\n",
              "sealevelpressure    0\n",
              "dtype: int64"
            ]
          },
          "metadata": {},
          "execution_count": 15
        }
      ],
      "source": [
        "core_weather.apply(lambda x: (x==9999).sum())"
      ]
    },
    {
      "cell_type": "code",
      "execution_count": null,
      "metadata": {
        "colab": {
          "base_uri": "https://localhost:8080/",
          "height": 447
        },
        "id": "wGvDvwgCMLMe",
        "outputId": "973d6335-d469-4f60-e0ef-7e2d4b0e3869"
      },
      "outputs": [
        {
          "output_type": "execute_result",
          "data": {
            "text/plain": [
              "<Axes: >"
            ]
          },
          "metadata": {},
          "execution_count": 16
        },
        {
          "output_type": "display_data",
          "data": {
            "text/plain": [
              "<Figure size 640x480 with 1 Axes>"
            ],
            "image/png": "[encoded data removed]"
          },
          "metadata": {}
        }
      ],
      "source": [
        "core_weather[[\"tempmax\",\"tempmin\"]].plot()"
      ]
    },
    {
      "cell_type": "code",
      "execution_count": null,
      "metadata": {
        "colab": {
          "base_uri": "https://localhost:8080/",
          "height": 447
        },
        "id": "4NVZ2LTHMLPr",
        "outputId": "c5bd7dbb-4608-4ce3-f6ea-00b148c9e0c6"
      },
      "outputs": [
        {
          "output_type": "execute_result",
          "data": {
            "text/plain": [
              "<Axes: >"
            ]
          },
          "metadata": {},
          "execution_count": 17
        },
        {
          "output_type": "display_data",
          "data": {
            "text/plain": [
              "<Figure size 640x480 with 1 Axes>"
            ],
            "image/png": "[encoded data removed]"
          },
          "metadata": {}
        }
      ],
      "source": [
        "core_weather[\"precip\"].plot()"
      ]
    },
    {
      "cell_type": "code",
      "execution_count": null,
      "metadata": {
        "colab": {
          "base_uri": "https://localhost:8080/"
        },
        "id": "VEOqcecjMLTD",
        "outputId": "f01b267f-de5c-497c-d5ab-0ac780de8ef1"
      },
      "outputs": [
        {
          "output_type": "stream",
          "name": "stderr",
          "text": [
            "<ipython-input-18-94b6a3b60482>:1: FutureWarning: The default value of numeric_only in DataFrameGroupBy.sum is deprecated. In a future version, numeric_only will default to False. Either specify numeric_only or select only columns which should be valid for the function.\n",
            "  core_weather.groupby(core_weather.index).sum()[\"precip\"]\n"
          ]
        },
        {
          "output_type": "execute_result",
          "data": {
            "text/plain": [
              "0      0.0\n",
              "1      0.0\n",
              "2      0.0\n",
              "3      0.0\n",
              "4      0.0\n",
              "      ... \n",
              "725    0.0\n",
              "726    0.0\n",
              "727    0.0\n",
              "728    0.0\n",
              "729    0.0\n",
              "Name: precip, Length: 730, dtype: float64"
            ]
          },
          "metadata": {},
          "execution_count": 18
        }
      ],
      "source": [
        "core_weather.groupby(core_weather.index).sum()[\"precip\"]"
      ]
    },
    {
      "cell_type": "code",
      "execution_count": null,
      "metadata": {
        "colab": {
          "base_uri": "https://localhost:8080/"
        },
        "id": "8jl9G4H7MLW3",
        "outputId": "1113592f-6386-4d08-ebd5-c631b12e9059"
      },
      "outputs": [
        {
          "output_type": "stream",
          "name": "stderr",
          "text": [
            "<ipython-input-19-ff39054ca662>:2: FutureWarning: The default value of numeric_only in DataFrameGroupBy.sum is deprecated. In a future version, numeric_only will default to False. Either specify numeric_only or select only columns which should be valid for the function.\n",
            "  x.groupby(x.index).sum()[\"precip\"] #To see rainfall on particular days\n"
          ]
        },
        {
          "output_type": "execute_result",
          "data": {
            "text/plain": [
              "220    55.0\n",
              "221     7.0\n",
              "222     0.4\n",
              "223     5.0\n",
              "224     6.0\n",
              "       ... \n",
              "296     0.4\n",
              "297    17.6\n",
              "298     0.6\n",
              "299     1.7\n",
              "300    43.0\n",
              "Name: precip, Length: 81, dtype: float64"
            ]
          },
          "metadata": {},
          "execution_count": 19
        }
      ],
      "source": [
        "x=core_weather.loc[220:300,:]\n",
        "x.groupby(x.index).sum()[\"precip\"] #To see rainfall on particular days"
      ]
    },
    {
      "cell_type": "code",
      "execution_count": null,
      "metadata": {
        "id": "SZroN4uIcp_r"
      },
      "outputs": [],
      "source": [
        "import matplotlib.pyplot as plt\n",
        "import seaborn as sns"
      ]
    },
    {
      "cell_type": "code",
      "execution_count": null,
      "metadata": {
        "colab": {
          "base_uri": "https://localhost:8080/",
          "height": 447
        },
        "id": "OQtCeZVLcqDO",
        "outputId": "74631df0-e48d-490e-c89c-5c2b312013d7"
      },
      "outputs": [
        {
          "output_type": "execute_result",
          "data": {
            "text/plain": [
              "<matplotlib.collections.PathCollection at 0x7fab98188370>"
            ]
          },
          "metadata": {},
          "execution_count": 21
        },
        {
          "output_type": "display_data",
          "data": {
            "text/plain": [
              "<Figure size 640x480 with 1 Axes>"
            ],
            "image/png": "[encoded data removed]"
          },
          "metadata": {}
        }
      ],
      "source": [
        "maxT=df.tempmax\n",
        "minT=df.tempmin\n",
        "plt.scatter(maxT,minT)"
      ]
    },
    {
      "cell_type": "code",
      "execution_count": null,
      "metadata": {
        "colab": {
          "base_uri": "https://localhost:8080/",
          "height": 657
        },
        "id": "Dq7eGM4ycqHE",
        "outputId": "bbcda771-bcf0-45c2-a420-51b3092f145d"
      },
      "outputs": [
        {
          "output_type": "stream",
          "name": "stderr",
          "text": [
            "<ipython-input-22-a64f625093f0>:1: UserWarning: \n",
            "\n",
            "`distplot` is a deprecated function and will be removed in seaborn v0.14.0.\n",
            "\n",
            "Please adapt your code to use either `displot` (a figure-level function with\n",
            "similar flexibility) or `histplot` (an axes-level function for histograms).\n",
            "\n",
            "For a guide to updating your code to use the new functions, please see\n",
            "https://gist.github.com/mwaskom/de44147ed2974457ad6372750bbe5751\n",
            "\n",
            "  sns.distplot(df['temp'])\n"
          ]
        },
        {
          "output_type": "execute_result",
          "data": {
            "text/plain": [
              "<Axes: xlabel='temp', ylabel='Density'>"
            ]
          },
          "metadata": {},
          "execution_count": 22
        },
        {
          "output_type": "display_data",
          "data": {
            "text/plain": [
              "<Figure size 640x480 with 1 Axes>"
            ],
            "image/png": "[encoded data removed]"
          },
          "metadata": {}
        }
      ],
      "source": [
        "sns.distplot(df['temp'])"
      ]
    },
    {
      "cell_type": "code",
      "execution_count": null,
      "metadata": {
        "colab": {
          "base_uri": "https://localhost:8080/",
          "height": 424
        },
        "id": "pyf2NPM-iwuw",
        "outputId": "a8ecfe17-c4bd-4642-aba7-294d1d0b39d1"
      },
      "outputs": [
        {
          "output_type": "execute_result",
          "data": {
            "text/plain": [
              "       datetime  tempmax  tempmin  humidity   dew  precip  sealevelpressure  \\\n",
              "0    2020-11-29     26.5     20.0      85.8  19.9     0.0            1014.9   \n",
              "1    2020-11-30     27.6     18.3      78.3  18.7     0.0            1014.5   \n",
              "2    2020-12-01     27.6     18.0      76.1  17.4     0.0            1014.5   \n",
              "3    2020-12-02     28.6     15.5      67.9  15.1     0.0            1013.3   \n",
              "4    2020-12-03     27.4     14.6      77.3  17.2     0.0            1012.9   \n",
              "..          ...      ...      ...       ...   ...     ...               ...   \n",
              "725  2022-11-24     27.2     20.5      73.1  18.5     0.0            1014.5   \n",
              "726  2022-11-25     29.8     19.7      63.8  16.4     0.0            1015.2   \n",
              "727  2022-11-26     29.9     17.2      55.6  13.0     0.0            1014.2   \n",
              "728  2022-11-27     29.0     15.1      55.9  12.7     0.0            1012.8   \n",
              "729  2022-11-28     29.0     15.1      55.5  12.1     0.0            1013.5   \n",
              "\n",
              "     target  \n",
              "0      27.6  \n",
              "1      27.6  \n",
              "2      28.6  \n",
              "3      27.4  \n",
              "4      27.2  \n",
              "..      ...  \n",
              "725    29.8  \n",
              "726    29.9  \n",
              "727    29.0  \n",
              "728    29.0  \n",
              "729     NaN  \n",
              "\n",
              "[730 rows x 8 columns]"
            ],
            "text/html": [
              "\n",
              "  <div id=\"df-af972f88-58a7-4029-93a5-882f99240fbf\">\n",
              "    <div class=\"colab-df-container\">\n",
              "      <div>\n",
              "<style scoped>\n",
              "    .dataframe tbody tr th:only-of-type {\n",
              "        vertical-align: middle;\n",
              "    }\n",
              "\n",
              "    .dataframe tbody tr th {\n",
              "        vertical-align: top;\n",
              "    }\n",
              "\n",
              "    .dataframe thead th {\n",
              "        text-align: right;\n",
              "    }\n",
              "</style>\n",
              "<table border=\"1\" class=\"dataframe\">\n",
              "  <thead>\n",
              "    <tr style=\"text-align: right;\">\n",
              "      <th></th>\n",
              "      <th>datetime</th>\n",
              "      <th>tempmax</th>\n",
              "      <th>tempmin</th>\n",
              "      <th>humidity</th>\n",
              "      <th>dew</th>\n",
              "      <th>precip</th>\n",
              "      <th>sealevelpressure</th>\n",
              "      <th>target</th>\n",
              "    </tr>\n",
              "  </thead>\n",
              "  <tbody>\n",
              "    <tr>\n",
              "      <th>0</th>\n",
              "      <td>2020-11-29</td>\n",
              "      <td>26.5</td>\n",
              "      <td>20.0</td>\n",
              "      <td>85.8</td>\n",
              "      <td>19.9</td>\n",
              "      <td>0.0</td>\n",
              "      <td>1014.9</td>\n",
              "      <td>27.6</td>\n",
              "    </tr>\n",
              "    <tr>\n",
              "      <th>1</th>\n",
              "      <td>2020-11-30</td>\n",
              "      <td>27.6</td>\n",
              "      <td>18.3</td>\n",
              "      <td>78.3</td>\n",
              "      <td>18.7</td>\n",
              "      <td>0.0</td>\n",
              "      <td>1014.5</td>\n",
              "      <td>27.6</td>\n",
              "    </tr>\n",
              "    <tr>\n",
              "      <th>2</th>\n",
              "      <td>2020-12-01</td>\n",
              "      <td>27.6</td>\n",
              "      <td>18.0</td>\n",
              "      <td>76.1</td>\n",
              "      <td>17.4</td>\n",
              "      <td>0.0</td>\n",
              "      <td>1014.5</td>\n",
              "      <td>28.6</td>\n",
              "    </tr>\n",
              "    <tr>\n",
              "      <th>3</th>\n",
              "      <td>2020-12-02</td>\n",
              "      <td>28.6</td>\n",
              "      <td>15.5</td>\n",
              "      <td>67.9</td>\n",
              "      <td>15.1</td>\n",
              "      <td>0.0</td>\n",
              "      <td>1013.3</td>\n",
              "      <td>27.4</td>\n",
              "    </tr>\n",
              "    <tr>\n",
              "      <th>4</th>\n",
              "      <td>2020-12-03</td>\n",
              "      <td>27.4</td>\n",
              "      <td>14.6</td>\n",
              "      <td>77.3</td>\n",
              "      <td>17.2</td>\n",
              "      <td>0.0</td>\n",
              "      <td>1012.9</td>\n",
              "      <td>27.2</td>\n",
              "    </tr>\n",
              "    <tr>\n",
              "      <th>...</th>\n",
              "      <td>...</td>\n",
              "      <td>...</td>\n",
              "      <td>...</td>\n",
              "      <td>...</td>\n",
              "      <td>...</td>\n",
              "      <td>...</td>\n",
              "      <td>...</td>\n",
              "      <td>...</td>\n",
              "    </tr>\n",
              "    <tr>\n",
              "      <th>725</th>\n",
              "      <td>2022-11-24</td>\n",
              "      <td>27.2</td>\n",
              "      <td>20.5</td>\n",
              "      <td>73.1</td>\n",
              "      <td>18.5</td>\n",
              "      <td>0.0</td>\n",
              "      <td>1014.5</td>\n",
              "      <td>29.8</td>\n",
              "    </tr>\n",
              "    <tr>\n",
              "      <th>726</th>\n",
              "      <td>2022-11-25</td>\n",
              "      <td>29.8</td>\n",
              "      <td>19.7</td>\n",
              "      <td>63.8</td>\n",
              "      <td>16.4</td>\n",
              "      <td>0.0</td>\n",
              "      <td>1015.2</td>\n",
              "      <td>29.9</td>\n",
              "    </tr>\n",
              "    <tr>\n",
              "      <th>727</th>\n",
              "      <td>2022-11-26</td>\n",
              "      <td>29.9</td>\n",
              "      <td>17.2</td>\n",
              "      <td>55.6</td>\n",
              "      <td>13.0</td>\n",
              "      <td>0.0</td>\n",
              "      <td>1014.2</td>\n",
              "      <td>29.0</td>\n",
              "    </tr>\n",
              "    <tr>\n",
              "      <th>728</th>\n",
              "      <td>2022-11-27</td>\n",
              "      <td>29.0</td>\n",
              "      <td>15.1</td>\n",
              "      <td>55.9</td>\n",
              "      <td>12.7</td>\n",
              "      <td>0.0</td>\n",
              "      <td>1012.8</td>\n",
              "      <td>29.0</td>\n",
              "    </tr>\n",
              "    <tr>\n",
              "      <th>729</th>\n",
              "      <td>2022-11-28</td>\n",
              "      <td>29.0</td>\n",
              "      <td>15.1</td>\n",
              "      <td>55.5</td>\n",
              "      <td>12.1</td>\n",
              "      <td>0.0</td>\n",
              "      <td>1013.5</td>\n",
              "      <td>NaN</td>\n",
              "    </tr>\n",
              "  </tbody>\n",
              "</table>\n",
              "<p>730 rows × 8 columns</p>\n",
              "</div>\n",
              "      <button class=\"colab-df-convert\" onclick=\"convertToInteractive('df-af972f88-58a7-4029-93a5-882f99240fbf')\"\n",
              "              title=\"Convert this dataframe to an interactive table.\"\n",
              "              style=\"display:none;\">\n",
              "        \n",
              "  <svg xmlns=\"http://www.w3.org/2000/svg\" height=\"24px\"viewBox=\"0 0 24 24\"\n",
              "       width=\"24px\">\n",
              "    <path d=\"M0 0h24v24H0V0z\" fill=\"none\"/>\n",
              "    <path d=\"M18.56 5.44l.94 2.06.94-2.06 2.06-.94-2.06-.94-.94-2.06-.94 2.06-2.06.94zm-11 1L8.5 8.5l.94-2.06 2.06-.94-2.06-.94L8.5 2.5l-.94 2.06-2.06.94zm10 10l.94 2.06.94-2.06 2.06-.94-2.06-.94-.94-2.06-.94 2.06-2.06.94z\"/><path d=\"M17.41 7.96l-1.37-1.37c-.4-.4-.92-.59-1.43-.59-.52 0-1.04.2-1.43.59L10.3 9.45l-7.72 7.72c-.78.78-.78 2.05 0 2.83L4 21.41c.39.39.9.59 1.41.59.51 0 1.02-.2 1.41-.59l7.78-7.78 2.81-2.81c.8-.78.8-2.07 0-2.86zM5.41 20L4 18.59l7.72-7.72 1.47 1.35L5.41 20z\"/>\n",
              "  </svg>\n",
              "      </button>\n",
              "      \n",
              "  <style>\n",
              "    .colab-df-container {\n",
              "      display:flex;\n",
              "      flex-wrap:wrap;\n",
              "      gap: 12px;\n",
              "    }\n",
              "\n",
              "    .colab-df-convert {\n",
              "      background-color: #E8F0FE;\n",
              "      border: none;\n",
              "      border-radius: 50%;\n",
              "      cursor: pointer;\n",
              "      display: none;\n",
              "      fill: #1967D2;\n",
              "      height: 32px;\n",
              "      padding: 0 0 0 0;\n",
              "      width: 32px;\n",
              "    }\n",
              "\n",
              "    .colab-df-convert:hover {\n",
              "      background-color: #E2EBFA;\n",
              "      box-shadow: 0px 1px 2px rgba(60, 64, 67, 0.3), 0px 1px 3px 1px rgba(60, 64, 67, 0.15);\n",
              "      fill: #174EA6;\n",
              "    }\n",
              "\n",
              "    [theme=dark] .colab-df-convert {\n",
              "      background-color: #3B4455;\n",
              "      fill: #D2E3FC;\n",
              "    }\n",
              "\n",
              "    [theme=dark] .colab-df-convert:hover {\n",
              "      background-color: #434B5C;\n",
              "      box-shadow: 0px 1px 3px 1px rgba(0, 0, 0, 0.15);\n",
              "      filter: drop-shadow(0px 1px 2px rgba(0, 0, 0, 0.3));\n",
              "      fill: #FFFFFF;\n",
              "    }\n",
              "  </style>\n",
              "\n",
              "      <script>\n",
              "        const buttonEl =\n",
              "          document.querySelector('#df-af972f88-58a7-4029-93a5-882f99240fbf button.colab-df-convert');\n",
              "        buttonEl.style.display =\n",
              "          google.colab.kernel.accessAllowed ? 'block' : 'none';\n",
              "\n",
              "        async function convertToInteractive(key) {\n",
              "          const element = document.querySelector('#df-af972f88-58a7-4029-93a5-882f99240fbf');\n",
              "          const dataTable =\n",
              "            await google.colab.kernel.invokeFunction('convertToInteractive',\n",
              "                                                     [key], {});\n",
              "          if (!dataTable) return;\n",
              "\n",
              "          const docLinkHtml = 'Like what you see? Visit the ' +\n",
              "            '<a target=\"_blank\" href=https://colab.research.google.com/notebooks/data_table.ipynb>data table notebook</a>'\n",
              "            + ' to learn more about interactive tables.';\n",
              "          element.innerHTML = '';\n",
              "          dataTable['output_type'] = 'display_data';\n",
              "          await google.colab.output.renderOutput(dataTable, element);\n",
              "          const docLink = document.createElement('div');\n",
              "          docLink.innerHTML = docLinkHtml;\n",
              "          element.appendChild(docLink);\n",
              "        }\n",
              "      </script>\n",
              "    </div>\n",
              "  </div>\n",
              "  "
            ]
          },
          "metadata": {},
          "execution_count": 23
        }
      ],
      "source": [
        "core_weather[\"target\"]=core_weather.shift(-1)[\"tempmax\"]\n",
        "core_weather"
      ]
    },
    {
      "cell_type": "code",
      "execution_count": null,
      "metadata": {
        "id": "RfNd1a2qiwxe"
      },
      "outputs": [],
      "source": [
        "core_weather=core_weather.iloc[:-1,:].copy()"
      ]
    },
    {
      "cell_type": "code",
      "execution_count": null,
      "metadata": {
        "colab": {
          "base_uri": "https://localhost:8080/",
          "height": 424
        },
        "id": "u5mCRQQtixGj",
        "outputId": "857a52ec-4935-4702-bd71-c4cf6a88d8d4"
      },
      "outputs": [
        {
          "output_type": "execute_result",
          "data": {
            "text/plain": [
              "       datetime  tempmax  tempmin  humidity   dew  precip  sealevelpressure  \\\n",
              "0    2020-11-29     26.5     20.0      85.8  19.9     0.0            1014.9   \n",
              "1    2020-11-30     27.6     18.3      78.3  18.7     0.0            1014.5   \n",
              "2    2020-12-01     27.6     18.0      76.1  17.4     0.0            1014.5   \n",
              "3    2020-12-02     28.6     15.5      67.9  15.1     0.0            1013.3   \n",
              "4    2020-12-03     27.4     14.6      77.3  17.2     0.0            1012.9   \n",
              "..          ...      ...      ...       ...   ...     ...               ...   \n",
              "724  2022-11-23     28.8     21.0      67.8  17.8     0.1            1014.2   \n",
              "725  2022-11-24     27.2     20.5      73.1  18.5     0.0            1014.5   \n",
              "726  2022-11-25     29.8     19.7      63.8  16.4     0.0            1015.2   \n",
              "727  2022-11-26     29.9     17.2      55.6  13.0     0.0            1014.2   \n",
              "728  2022-11-27     29.0     15.1      55.9  12.7     0.0            1012.8   \n",
              "\n",
              "     target  \n",
              "0      27.6  \n",
              "1      27.6  \n",
              "2      28.6  \n",
              "3      27.4  \n",
              "4      27.2  \n",
              "..      ...  \n",
              "724    27.2  \n",
              "725    29.8  \n",
              "726    29.9  \n",
              "727    29.0  \n",
              "728    29.0  \n",
              "\n",
              "[729 rows x 8 columns]"
            ],
            "text/html": [
              "\n",
              "  <div id=\"df-82d6aea3-1bd1-41a8-be83-61ca4d9aca87\">\n",
              "    <div class=\"colab-df-container\">\n",
              "      <div>\n",
              "<style scoped>\n",
              "    .dataframe tbody tr th:only-of-type {\n",
              "        vertical-align: middle;\n",
              "    }\n",
              "\n",
              "    .dataframe tbody tr th {\n",
              "        vertical-align: top;\n",
              "    }\n",
              "\n",
              "    .dataframe thead th {\n",
              "        text-align: right;\n",
              "    }\n",
              "</style>\n",
              "<table border=\"1\" class=\"dataframe\">\n",
              "  <thead>\n",
              "    <tr style=\"text-align: right;\">\n",
              "      <th></th>\n",
              "      <th>datetime</th>\n",
              "      <th>tempmax</th>\n",
              "      <th>tempmin</th>\n",
              "      <th>humidity</th>\n",
              "      <th>dew</th>\n",
              "      <th>precip</th>\n",
              "      <th>sealevelpressure</th>\n",
              "      <th>target</th>\n",
              "    </tr>\n",
              "  </thead>\n",
              "  <tbody>\n",
              "    <tr>\n",
              "      <th>0</th>\n",
              "      <td>2020-11-29</td>\n",
              "      <td>26.5</td>\n",
              "      <td>20.0</td>\n",
              "      <td>85.8</td>\n",
              "      <td>19.9</td>\n",
              "      <td>0.0</td>\n",
              "      <td>1014.9</td>\n",
              "      <td>27.6</td>\n",
              "    </tr>\n",
              "    <tr>\n",
              "      <th>1</th>\n",
              "      <td>2020-11-30</td>\n",
              "      <td>27.6</td>\n",
              "      <td>18.3</td>\n",
              "      <td>78.3</td>\n",
              "      <td>18.7</td>\n",
              "      <td>0.0</td>\n",
              "      <td>1014.5</td>\n",
              "      <td>27.6</td>\n",
              "    </tr>\n",
              "    <tr>\n",
              "      <th>2</th>\n",
              "      <td>2020-12-01</td>\n",
              "      <td>27.6</td>\n",
              "      <td>18.0</td>\n",
              "      <td>76.1</td>\n",
              "      <td>17.4</td>\n",
              "      <td>0.0</td>\n",
              "      <td>1014.5</td>\n",
              "      <td>28.6</td>\n",
              "    </tr>\n",
              "    <tr>\n",
              "      <th>3</th>\n",
              "      <td>2020-12-02</td>\n",
              "      <td>28.6</td>\n",
              "      <td>15.5</td>\n",
              "      <td>67.9</td>\n",
              "      <td>15.1</td>\n",
              "      <td>0.0</td>\n",
              "      <td>1013.3</td>\n",
              "      <td>27.4</td>\n",
              "    </tr>\n",
              "    <tr>\n",
              "      <th>4</th>\n",
              "      <td>2020-12-03</td>\n",
              "      <td>27.4</td>\n",
              "      <td>14.6</td>\n",
              "      <td>77.3</td>\n",
              "      <td>17.2</td>\n",
              "      <td>0.0</td>\n",
              "      <td>1012.9</td>\n",
              "      <td>27.2</td>\n",
              "    </tr>\n",
              "    <tr>\n",
              "      <th>...</th>\n",
              "      <td>...</td>\n",
              "      <td>...</td>\n",
              "      <td>...</td>\n",
              "      <td>...</td>\n",
              "      <td>...</td>\n",
              "      <td>...</td>\n",
              "      <td>...</td>\n",
              "      <td>...</td>\n",
              "    </tr>\n",
              "    <tr>\n",
              "      <th>724</th>\n",
              "      <td>2022-11-23</td>\n",
              "      <td>28.8</td>\n",
              "      <td>21.0</td>\n",
              "      <td>67.8</td>\n",
              "      <td>17.8</td>\n",
              "      <td>0.1</td>\n",
              "      <td>1014.2</td>\n",
              "      <td>27.2</td>\n",
              "    </tr>\n",
              "    <tr>\n",
              "      <th>725</th>\n",
              "      <td>2022-11-24</td>\n",
              "      <td>27.2</td>\n",
              "      <td>20.5</td>\n",
              "      <td>73.1</td>\n",
              "      <td>18.5</td>\n",
              "      <td>0.0</td>\n",
              "      <td>1014.5</td>\n",
              "      <td>29.8</td>\n",
              "    </tr>\n",
              "    <tr>\n",
              "      <th>726</th>\n",
              "      <td>2022-11-25</td>\n",
              "      <td>29.8</td>\n",
              "      <td>19.7</td>\n",
              "      <td>63.8</td>\n",
              "      <td>16.4</td>\n",
              "      <td>0.0</td>\n",
              "      <td>1015.2</td>\n",
              "      <td>29.9</td>\n",
              "    </tr>\n",
              "    <tr>\n",
              "      <th>727</th>\n",
              "      <td>2022-11-26</td>\n",
              "      <td>29.9</td>\n",
              "      <td>17.2</td>\n",
              "      <td>55.6</td>\n",
              "      <td>13.0</td>\n",
              "      <td>0.0</td>\n",
              "      <td>1014.2</td>\n",
              "      <td>29.0</td>\n",
              "    </tr>\n",
              "    <tr>\n",
              "      <th>728</th>\n",
              "      <td>2022-11-27</td>\n",
              "      <td>29.0</td>\n",
              "      <td>15.1</td>\n",
              "      <td>55.9</td>\n",
              "      <td>12.7</td>\n",
              "      <td>0.0</td>\n",
              "      <td>1012.8</td>\n",
              "      <td>29.0</td>\n",
              "    </tr>\n",
              "  </tbody>\n",
              "</table>\n",
              "<p>729 rows × 8 columns</p>\n",
              "</div>\n",
              "      <button class=\"colab-df-convert\" onclick=\"convertToInteractive('df-82d6aea3-1bd1-41a8-be83-61ca4d9aca87')\"\n",
              "              title=\"Convert this dataframe to an interactive table.\"\n",
              "              style=\"display:none;\">\n",
              "        \n",
              "  <svg xmlns=\"http://www.w3.org/2000/svg\" height=\"24px\"viewBox=\"0 0 24 24\"\n",
              "       width=\"24px\">\n",
              "    <path d=\"M0 0h24v24H0V0z\" fill=\"none\"/>\n",
              "    <path d=\"M18.56 5.44l.94 2.06.94-2.06 2.06-.94-2.06-.94-.94-2.06-.94 2.06-2.06.94zm-11 1L8.5 8.5l.94-2.06 2.06-.94-2.06-.94L8.5 2.5l-.94 2.06-2.06.94zm10 10l.94 2.06.94-2.06 2.06-.94-2.06-.94-.94-2.06-.94 2.06-2.06.94z\"/><path d=\"M17.41 7.96l-1.37-1.37c-.4-.4-.92-.59-1.43-.59-.52 0-1.04.2-1.43.59L10.3 9.45l-7.72 7.72c-.78.78-.78 2.05 0 2.83L4 21.41c.39.39.9.59 1.41.59.51 0 1.02-.2 1.41-.59l7.78-7.78 2.81-2.81c.8-.78.8-2.07 0-2.86zM5.41 20L4 18.59l7.72-7.72 1.47 1.35L5.41 20z\"/>\n",
              "  </svg>\n",
              "      </button>\n",
              "      \n",
              "  <style>\n",
              "    .colab-df-container {\n",
              "      display:flex;\n",
              "      flex-wrap:wrap;\n",
              "      gap: 12px;\n",
              "    }\n",
              "\n",
              "    .colab-df-convert {\n",
              "      background-color: #E8F0FE;\n",
              "      border: none;\n",
              "      border-radius: 50%;\n",
              "      cursor: pointer;\n",
              "      display: none;\n",
              "      fill: #1967D2;\n",
              "      height: 32px;\n",
              "      padding: 0 0 0 0;\n",
              "      width: 32px;\n",
              "    }\n",
              "\n",
              "    .colab-df-convert:hover {\n",
              "      background-color: #E2EBFA;\n",
              "      box-shadow: 0px 1px 2px rgba(60, 64, 67, 0.3), 0px 1px 3px 1px rgba(60, 64, 67, 0.15);\n",
              "      fill: #174EA6;\n",
              "    }\n",
              "\n",
              "    [theme=dark] .colab-df-convert {\n",
              "      background-color: #3B4455;\n",
              "      fill: #D2E3FC;\n",
              "    }\n",
              "\n",
              "    [theme=dark] .colab-df-convert:hover {\n",
              "      background-color: #434B5C;\n",
              "      box-shadow: 0px 1px 3px 1px rgba(0, 0, 0, 0.15);\n",
              "      filter: drop-shadow(0px 1px 2px rgba(0, 0, 0, 0.3));\n",
              "      fill: #FFFFFF;\n",
              "    }\n",
              "  </style>\n",
              "\n",
              "      <script>\n",
              "        const buttonEl =\n",
              "          document.querySelector('#df-82d6aea3-1bd1-41a8-be83-61ca4d9aca87 button.colab-df-convert');\n",
              "        buttonEl.style.display =\n",
              "          google.colab.kernel.accessAllowed ? 'block' : 'none';\n",
              "\n",
              "        async function convertToInteractive(key) {\n",
              "          const element = document.querySelector('#df-82d6aea3-1bd1-41a8-be83-61ca4d9aca87');\n",
              "          const dataTable =\n",
              "            await google.colab.kernel.invokeFunction('convertToInteractive',\n",
              "                                                     [key], {});\n",
              "          if (!dataTable) return;\n",
              "\n",
              "          const docLinkHtml = 'Like what you see? Visit the ' +\n",
              "            '<a target=\"_blank\" href=https://colab.research.google.com/notebooks/data_table.ipynb>data table notebook</a>'\n",
              "            + ' to learn more about interactive tables.';\n",
              "          element.innerHTML = '';\n",
              "          dataTable['output_type'] = 'display_data';\n",
              "          await google.colab.output.renderOutput(dataTable, element);\n",
              "          const docLink = document.createElement('div');\n",
              "          docLink.innerHTML = docLinkHtml;\n",
              "          element.appendChild(docLink);\n",
              "        }\n",
              "      </script>\n",
              "    </div>\n",
              "  </div>\n",
              "  "
            ]
          },
          "metadata": {},
          "execution_count": 25
        }
      ],
      "source": [
        "core_weather"
      ]
    },
    {
      "cell_type": "code",
      "execution_count": null,
      "metadata": {
        "id": "E13P77eAQtOW"
      },
      "outputs": [],
      "source": [
        "from sklearn.linear_model import Ridge #Ridge regression reduces Over Fitting data\n",
        "reg=Ridge(alpha=.1)"
      ]
    },
    {
      "cell_type": "code",
      "execution_count": null,
      "metadata": {
        "id": "IE_qppiYQtRo"
      },
      "outputs": [],
      "source": [
        "predictors=[\"precip\",\"tempmax\",\"tempmin\",\"humidity\",\"sealevelpressure\"]"
      ]
    },
    {
      "cell_type": "code",
      "execution_count": null,
      "metadata": {
        "id": "c1k1ur1yQtUn"
      },
      "outputs": [],
      "source": [
        "train=core_weather.loc[:629]"
      ]
    },
    {
      "cell_type": "code",
      "execution_count": null,
      "metadata": {
        "id": "-XrCQ_itQtXF"
      },
      "outputs": [],
      "source": [
        "test=core_weather.loc[630:]"
      ]
    },
    {
      "cell_type": "code",
      "execution_count": null,
      "metadata": {
        "colab": {
          "base_uri": "https://localhost:8080/",
          "height": 75
        },
        "id": "WTMXucR9QtaW",
        "outputId": "ccc1bb23-5e92-4efc-f2c0-05dca06a1f1c"
      },
      "outputs": [
        {
          "output_type": "execute_result",
          "data": {
            "text/plain": [
              "Ridge(alpha=0.1)"
            ],
            "text/html": [
              "<style>#sk-container-id-1 {color: black;background-color: white;}#sk-container-id-1 pre{padding: 0;}#sk-container-id-1 div.sk-toggleable {background-color: white;}#sk-container-id-1 label.sk-toggleable__label {cursor: pointer;display: block;width: 100%;margin-bottom: 0;padding: 0.3em;box-sizing: border-box;text-align: center;}#sk-container-id-1 label.sk-toggleable__label-arrow:before {content: \"▸\";float: left;margin-right: 0.25em;color: #696969;}#sk-container-id-1 label.sk-toggleable__label-arrow:hover:before {color: black;}#sk-container-id-1 div.sk-estimator:hover label.sk-toggleable__label-arrow:before {color: black;}#sk-container-id-1 div.sk-toggleable__content {max-height: 0;max-width: 0;overflow: hidden;text-align: left;background-color: #f0f8ff;}#sk-container-id-1 div.sk-toggleable__content pre {margin: 0.2em;color: black;border-radius: 0.25em;background-color: #f0f8ff;}#sk-container-id-1 input.sk-toggleable__control:checked~div.sk-toggleable__content {max-height: 200px;max-width: 100%;overflow: auto;}#sk-container-id-1 input.sk-toggleable__control:checked~label.sk-toggleable__label-arrow:before {content: \"▾\";}#sk-container-id-1 div.sk-estimator input.sk-toggleable__control:checked~label.sk-toggleable__label {background-color: #d4ebff;}#sk-container-id-1 div.sk-label input.sk-toggleable__control:checked~label.sk-toggleable__label {background-color: #d4ebff;}#sk-container-id-1 input.sk-hidden--visually {border: 0;clip: rect(1px 1px 1px 1px);clip: rect(1px, 1px, 1px, 1px);height: 1px;margin: -1px;overflow: hidden;padding: 0;position: absolute;width: 1px;}#sk-container-id-1 div.sk-estimator {font-family: monospace;background-color: #f0f8ff;border: 1px dotted black;border-radius: 0.25em;box-sizing: border-box;margin-bottom: 0.5em;}#sk-container-id-1 div.sk-estimator:hover {background-color: #d4ebff;}#sk-container-id-1 div.sk-parallel-item::after {content: \"\";width: 100%;border-bottom: 1px solid gray;flex-grow: 1;}#sk-container-id-1 div.sk-label:hover label.sk-toggleable__label {background-color: #d4ebff;}#sk-container-id-1 div.sk-serial::before {content: \"\";position: absolute;border-left: 1px solid gray;box-sizing: border-box;top: 0;bottom: 0;left: 50%;z-index: 0;}#sk-container-id-1 div.sk-serial {display: flex;flex-direction: column;align-items: center;background-color: white;padding-right: 0.2em;padding-left: 0.2em;position: relative;}#sk-container-id-1 div.sk-item {position: relative;z-index: 1;}#sk-container-id-1 div.sk-parallel {display: flex;align-items: stretch;justify-content: center;background-color: white;position: relative;}#sk-container-id-1 div.sk-item::before, #sk-container-id-1 div.sk-parallel-item::before {content: \"\";position: absolute;border-left: 1px solid gray;box-sizing: border-box;top: 0;bottom: 0;left: 50%;z-index: -1;}#sk-container-id-1 div.sk-parallel-item {display: flex;flex-direction: column;z-index: 1;position: relative;background-color: white;}#sk-container-id-1 div.sk-parallel-item:first-child::after {align-self: flex-end;width: 50%;}#sk-container-id-1 div.sk-parallel-item:last-child::after {align-self: flex-start;width: 50%;}#sk-container-id-1 div.sk-parallel-item:only-child::after {width: 0;}#sk-container-id-1 div.sk-dashed-wrapped {border: 1px dashed gray;margin: 0 0.4em 0.5em 0.4em;box-sizing: border-box;padding-bottom: 0.4em;background-color: white;}#sk-container-id-1 div.sk-label label {font-family: monospace;font-weight: bold;display: inline-block;line-height: 1.2em;}#sk-container-id-1 div.sk-label-container {text-align: center;}#sk-container-id-1 div.sk-container {/* jupyter's `normalize.less` sets `[hidden] { display: none; }` but bootstrap.min.css set `[hidden] { display: none !important; }` so we also need the `!important` here to be able to override the default hidden behavior on the sphinx rendered scikit-learn.org. See: https://github.com/scikit-learn/scikit-learn/issues/21755 */display: inline-block !important;position: relative;}#sk-container-id-1 div.sk-text-repr-fallback {display: none;}</style><div id=\"sk-container-id-1\" class=\"sk-top-container\"><div class=\"sk-text-repr-fallback\"><pre>Ridge(alpha=0.1)</pre><b>In a Jupyter environment, please rerun this cell to show the HTML representation or trust the notebook. <br />On GitHub, the HTML representation is unable to render, please try loading this page with nbviewer.org.</b></div><div class=\"sk-container\" hidden><div class=\"sk-item\"><div class=\"sk-estimator sk-toggleable\"><input class=\"sk-toggleable__control sk-hidden--visually\" id=\"sk-estimator-id-1\" type=\"checkbox\" checked><label for=\"sk-estimator-id-1\" class=\"sk-toggleable__label sk-toggleable__label-arrow\">Ridge</label><div class=\"sk-toggleable__content\"><pre>Ridge(alpha=0.1)</pre></div></div></div></div></div>"
            ]
          },
          "metadata": {},
          "execution_count": 30
        }
      ],
      "source": [
        "reg.fit(train[predictors],train[\"target\"])"
      ]
    },
    {
      "cell_type": "code",
      "execution_count": null,
      "metadata": {
        "id": "Xp4VnDlgQtdm"
      },
      "outputs": [],
      "source": [
        "predictions=reg.predict(test[predictors])"
      ]
    },
    {
      "cell_type": "code",
      "execution_count": null,
      "metadata": {
        "id": "_vocQK2hQtge"
      },
      "outputs": [],
      "source": [
        "from sklearn.metrics import mean_absolute_error"
      ]
    },
    {
      "cell_type": "code",
      "execution_count": null,
      "metadata": {
        "colab": {
          "base_uri": "https://localhost:8080/"
        },
        "id": "6GNJJahMQtjD",
        "outputId": "b2ab8828-f34b-4043-eacd-ffd0bc0dfcdd"
      },
      "outputs": [
        {
          "output_type": "execute_result",
          "data": {
            "text/plain": [
              "1.0708802678923866"
            ]
          },
          "metadata": {},
          "execution_count": 33
        }
      ],
      "source": [
        "mean_absolute_error(test[\"target\"], predictions)"
      ]
    },
    {
      "cell_type": "code",
      "execution_count": null,
      "metadata": {
        "colab": {
          "base_uri": "https://localhost:8080/",
          "height": 424
        },
        "id": "lwWjNkyAQtnr",
        "outputId": "d3051344-2f3e-42ee-a016-20f7840320ab"
      },
      "outputs": [
        {
          "output_type": "execute_result",
          "data": {
            "text/plain": [
              "     actual  predictions\n",
              "630    28.6    30.448464\n",
              "631    29.7    28.969118\n",
              "632    30.5    29.702425\n",
              "633    30.1    30.381590\n",
              "634    31.5    30.132885\n",
              "..      ...          ...\n",
              "724    27.2    29.437776\n",
              "725    29.8    27.998972\n",
              "726    29.9    30.136781\n",
              "727    29.0    30.181561\n",
              "728    29.0    29.221722\n",
              "\n",
              "[99 rows x 2 columns]"
            ],
            "text/html": [
              "\n",
              "  <div id=\"df-32b21166-02a0-442a-8314-cb163f13a4b6\">\n",
              "    <div class=\"colab-df-container\">\n",
              "      <div>\n",
              "<style scoped>\n",
              "    .dataframe tbody tr th:only-of-type {\n",
              "        vertical-align: middle;\n",
              "    }\n",
              "\n",
              "    .dataframe tbody tr th {\n",
              "        vertical-align: top;\n",
              "    }\n",
              "\n",
              "    .dataframe thead th {\n",
              "        text-align: right;\n",
              "    }\n",
              "</style>\n",
              "<table border=\"1\" class=\"dataframe\">\n",
              "  <thead>\n",
              "    <tr style=\"text-align: right;\">\n",
              "      <th></th>\n",
              "      <th>actual</th>\n",
              "      <th>predictions</th>\n",
              "    </tr>\n",
              "  </thead>\n",
              "  <tbody>\n",
              "    <tr>\n",
              "      <th>630</th>\n",
              "      <td>28.6</td>\n",
              "      <td>30.448464</td>\n",
              "    </tr>\n",
              "    <tr>\n",
              "      <th>631</th>\n",
              "      <td>29.7</td>\n",
              "      <td>28.969118</td>\n",
              "    </tr>\n",
              "    <tr>\n",
              "      <th>632</th>\n",
              "      <td>30.5</td>\n",
              "      <td>29.702425</td>\n",
              "    </tr>\n",
              "    <tr>\n",
              "      <th>633</th>\n",
              "      <td>30.1</td>\n",
              "      <td>30.381590</td>\n",
              "    </tr>\n",
              "    <tr>\n",
              "      <th>634</th>\n",
              "      <td>31.5</td>\n",
              "      <td>30.132885</td>\n",
              "    </tr>\n",
              "    <tr>\n",
              "      <th>...</th>\n",
              "      <td>...</td>\n",
              "      <td>...</td>\n",
              "    </tr>\n",
              "    <tr>\n",
              "      <th>724</th>\n",
              "      <td>27.2</td>\n",
              "      <td>29.437776</td>\n",
              "    </tr>\n",
              "    <tr>\n",
              "      <th>725</th>\n",
              "      <td>29.8</td>\n",
              "      <td>27.998972</td>\n",
              "    </tr>\n",
              "    <tr>\n",
              "      <th>726</th>\n",
              "      <td>29.9</td>\n",
              "      <td>30.136781</td>\n",
              "    </tr>\n",
              "    <tr>\n",
              "      <th>727</th>\n",
              "      <td>29.0</td>\n",
              "      <td>30.181561</td>\n",
              "    </tr>\n",
              "    <tr>\n",
              "      <th>728</th>\n",
              "      <td>29.0</td>\n",
              "      <td>29.221722</td>\n",
              "    </tr>\n",
              "  </tbody>\n",
              "</table>\n",
              "<p>99 rows × 2 columns</p>\n",
              "</div>\n",
              "      <button class=\"colab-df-convert\" onclick=\"convertToInteractive('df-32b21166-02a0-442a-8314-cb163f13a4b6')\"\n",
              "              title=\"Convert this dataframe to an interactive table.\"\n",
              "              style=\"display:none;\">\n",
              "        \n",
              "  <svg xmlns=\"http://www.w3.org/2000/svg\" height=\"24px\"viewBox=\"0 0 24 24\"\n",
              "       width=\"24px\">\n",
              "    <path d=\"M0 0h24v24H0V0z\" fill=\"none\"/>\n",
              "    <path d=\"M18.56 5.44l.94 2.06.94-2.06 2.06-.94-2.06-.94-.94-2.06-.94 2.06-2.06.94zm-11 1L8.5 8.5l.94-2.06 2.06-.94-2.06-.94L8.5 2.5l-.94 2.06-2.06.94zm10 10l.94 2.06.94-2.06 2.06-.94-2.06-.94-.94-2.06-.94 2.06-2.06.94z\"/><path d=\"M17.41 7.96l-1.37-1.37c-.4-.4-.92-.59-1.43-.59-.52 0-1.04.2-1.43.59L10.3 9.45l-7.72 7.72c-.78.78-.78 2.05 0 2.83L4 21.41c.39.39.9.59 1.41.59.51 0 1.02-.2 1.41-.59l7.78-7.78 2.81-2.81c.8-.78.8-2.07 0-2.86zM5.41 20L4 18.59l7.72-7.72 1.47 1.35L5.41 20z\"/>\n",
              "  </svg>\n",
              "      </button>\n",
              "      \n",
              "  <style>\n",
              "    .colab-df-container {\n",
              "      display:flex;\n",
              "      flex-wrap:wrap;\n",
              "      gap: 12px;\n",
              "    }\n",
              "\n",
              "    .colab-df-convert {\n",
              "      background-color: #E8F0FE;\n",
              "      border: none;\n",
              "      border-radius: 50%;\n",
              "      cursor: pointer;\n",
              "      display: none;\n",
              "      fill: #1967D2;\n",
              "      height: 32px;\n",
              "      padding: 0 0 0 0;\n",
              "      width: 32px;\n",
              "    }\n",
              "\n",
              "    .colab-df-convert:hover {\n",
              "      background-color: #E2EBFA;\n",
              "      box-shadow: 0px 1px 2px rgba(60, 64, 67, 0.3), 0px 1px 3px 1px rgba(60, 64, 67, 0.15);\n",
              "      fill: #174EA6;\n",
              "    }\n",
              "\n",
              "    [theme=dark] .colab-df-convert {\n",
              "      background-color: #3B4455;\n",
              "      fill: #D2E3FC;\n",
              "    }\n",
              "\n",
              "    [theme=dark] .colab-df-convert:hover {\n",
              "      background-color: #434B5C;\n",
              "      box-shadow: 0px 1px 3px 1px rgba(0, 0, 0, 0.15);\n",
              "      filter: drop-shadow(0px 1px 2px rgba(0, 0, 0, 0.3));\n",
              "      fill: #FFFFFF;\n",
              "    }\n",
              "  </style>\n",
              "\n",
              "      <script>\n",
              "        const buttonEl =\n",
              "          document.querySelector('#df-32b21166-02a0-442a-8314-cb163f13a4b6 button.colab-df-convert');\n",
              "        buttonEl.style.display =\n",
              "          google.colab.kernel.accessAllowed ? 'block' : 'none';\n",
              "\n",
              "        async function convertToInteractive(key) {\n",
              "          const element = document.querySelector('#df-32b21166-02a0-442a-8314-cb163f13a4b6');\n",
              "          const dataTable =\n",
              "            await google.colab.kernel.invokeFunction('convertToInteractive',\n",
              "                                                     [key], {});\n",
              "          if (!dataTable) return;\n",
              "\n",
              "          const docLinkHtml = 'Like what you see? Visit the ' +\n",
              "            '<a target=\"_blank\" href=https://colab.research.google.com/notebooks/data_table.ipynb>data table notebook</a>'\n",
              "            + ' to learn more about interactive tables.';\n",
              "          element.innerHTML = '';\n",
              "          dataTable['output_type'] = 'display_data';\n",
              "          await google.colab.output.renderOutput(dataTable, element);\n",
              "          const docLink = document.createElement('div');\n",
              "          docLink.innerHTML = docLinkHtml;\n",
              "          element.appendChild(docLink);\n",
              "        }\n",
              "      </script>\n",
              "    </div>\n",
              "  </div>\n",
              "  "
            ]
          },
          "metadata": {},
          "execution_count": 34
        }
      ],
      "source": [
        "combined=pd.concat([test[\"target\"],pd.Series(predictions,index=test.index)], axis=1)\n",
        "combined.columns=[\"actual\",\"predictions\"]\n",
        "combined"
      ]
    },
    {
      "cell_type": "code",
      "execution_count": null,
      "metadata": {
        "colab": {
          "base_uri": "https://localhost:8080/",
          "height": 447
        },
        "id": "_SfPET3OUFTX",
        "outputId": "888dbd24-de47-4753-98b9-dfbbc14596e3"
      },
      "outputs": [
        {
          "output_type": "execute_result",
          "data": {
            "text/plain": [
              "<Axes: >"
            ]
          },
          "metadata": {},
          "execution_count": 35
        },
        {
          "output_type": "display_data",
          "data": {
            "text/plain": [
              "<Figure size 640x480 with 1 Axes>"
            ],
            "image/png": "[encoded data removed]"
          },
          "metadata": {}
        }
      ],
      "source": [
        "combined.plot() #Differences between actual and predicted values"
      ]
    },
    {
      "cell_type": "code",
      "execution_count": null,
      "metadata": {
        "colab": {
          "base_uri": "https://localhost:8080/"
        },
        "id": "9wXf_JGRUFW9",
        "outputId": "df6590a4-32f4-4bc6-e624-7df80d51da8a"
      },
      "outputs": [
        {
          "output_type": "execute_result",
          "data": {
            "text/plain": [
              "array([-2.01466684e-03,  7.23722890e-01,  1.41268533e-01, -3.96974555e-02,\n",
              "       -6.00819052e-05])"
            ]
          },
          "metadata": {},
          "execution_count": 36
        }
      ],
      "source": [
        "reg.coef_"
      ]
    },
    {
      "cell_type": "code",
      "execution_count": null,
      "metadata": {
        "id": "-SAk8JtdUFaz"
      },
      "outputs": [],
      "source": [
        "def create_predictions(predictors,core_weather,reg):\n",
        "  train=core_weather.loc[:629]\n",
        "  test=core_weather.loc[630:]\n",
        "  reg.fit(train[predictors],train[\"target\"])\n",
        "  predictions=reg.predict(test[predictors])\n",
        "  error=mean_absolute_error(test[\"target\"], predictions)\n",
        "  combined=pd.concat([test[\"target\"],pd.Series(predictions,index=test.index)], axis=1)\n",
        "  combined.columns=[\"actual\",\"predictions\"]\n",
        "  return error, combined"
      ]
    },
    {
      "cell_type": "code",
      "execution_count": null,
      "metadata": {
        "colab": {
          "base_uri": "https://localhost:8080/",
          "height": 424
        },
        "id": "vjhxYMYsUFeD",
        "outputId": "b271c751-c2a0-42ee-c018-59f0c2f74464"
      },
      "outputs": [
        {
          "output_type": "execute_result",
          "data": {
            "text/plain": [
              "       datetime  tempmax  tempmin  humidity   dew  precip  sealevelpressure  \\\n",
              "0    2020-11-29     26.5     20.0      85.8  19.9     0.0            1014.9   \n",
              "1    2020-11-30     27.6     18.3      78.3  18.7     0.0            1014.5   \n",
              "2    2020-12-01     27.6     18.0      76.1  17.4     0.0            1014.5   \n",
              "3    2020-12-02     28.6     15.5      67.9  15.1     0.0            1013.3   \n",
              "4    2020-12-03     27.4     14.6      77.3  17.2     0.0            1012.9   \n",
              "..          ...      ...      ...       ...   ...     ...               ...   \n",
              "724  2022-11-23     28.8     21.0      67.8  17.8     0.1            1014.2   \n",
              "725  2022-11-24     27.2     20.5      73.1  18.5     0.0            1014.5   \n",
              "726  2022-11-25     29.8     19.7      63.8  16.4     0.0            1015.2   \n",
              "727  2022-11-26     29.9     17.2      55.6  13.0     0.0            1014.2   \n",
              "728  2022-11-27     29.0     15.1      55.9  12.7     0.0            1012.8   \n",
              "\n",
              "     target  month_max  \n",
              "0      27.6        NaN  \n",
              "1      27.6        NaN  \n",
              "2      28.6        NaN  \n",
              "3      27.4        NaN  \n",
              "4      27.2        NaN  \n",
              "..      ...        ...  \n",
              "724    27.2  28.783333  \n",
              "725    29.8  28.710000  \n",
              "726    29.9  28.736667  \n",
              "727    29.0  28.766667  \n",
              "728    29.0  28.770000  \n",
              "\n",
              "[729 rows x 9 columns]"
            ],
            "text/html": [
              "\n",
              "  <div id=\"df-55ee995d-560e-430e-bf5b-d1088c0101b3\">\n",
              "    <div class=\"colab-df-container\">\n",
              "      <div>\n",
              "<style scoped>\n",
              "    .dataframe tbody tr th:only-of-type {\n",
              "        vertical-align: middle;\n",
              "    }\n",
              "\n",
              "    .dataframe tbody tr th {\n",
              "        vertical-align: top;\n",
              "    }\n",
              "\n",
              "    .dataframe thead th {\n",
              "        text-align: right;\n",
              "    }\n",
              "</style>\n",
              "<table border=\"1\" class=\"dataframe\">\n",
              "  <thead>\n",
              "    <tr style=\"text-align: right;\">\n",
              "      <th></th>\n",
              "      <th>datetime</th>\n",
              "      <th>tempmax</th>\n",
              "      <th>tempmin</th>\n",
              "      <th>humidity</th>\n",
              "      <th>dew</th>\n",
              "      <th>precip</th>\n",
              "      <th>sealevelpressure</th>\n",
              "      <th>target</th>\n",
              "      <th>month_max</th>\n",
              "    </tr>\n",
              "  </thead>\n",
              "  <tbody>\n",
              "    <tr>\n",
              "      <th>0</th>\n",
              "      <td>2020-11-29</td>\n",
              "      <td>26.5</td>\n",
              "      <td>20.0</td>\n",
              "      <td>85.8</td>\n",
              "      <td>19.9</td>\n",
              "      <td>0.0</td>\n",
              "      <td>1014.9</td>\n",
              "      <td>27.6</td>\n",
              "      <td>NaN</td>\n",
              "    </tr>\n",
              "    <tr>\n",
              "      <th>1</th>\n",
              "      <td>2020-11-30</td>\n",
              "      <td>27.6</td>\n",
              "      <td>18.3</td>\n",
              "      <td>78.3</td>\n",
              "      <td>18.7</td>\n",
              "      <td>0.0</td>\n",
              "      <td>1014.5</td>\n",
              "      <td>27.6</td>\n",
              "      <td>NaN</td>\n",
              "    </tr>\n",
              "    <tr>\n",
              "      <th>2</th>\n",
              "      <td>2020-12-01</td>\n",
              "      <td>27.6</td>\n",
              "      <td>18.0</td>\n",
              "      <td>76.1</td>\n",
              "      <td>17.4</td>\n",
              "      <td>0.0</td>\n",
              "      <td>1014.5</td>\n",
              "      <td>28.6</td>\n",
              "      <td>NaN</td>\n",
              "    </tr>\n",
              "    <tr>\n",
              "      <th>3</th>\n",
              "      <td>2020-12-02</td>\n",
              "      <td>28.6</td>\n",
              "      <td>15.5</td>\n",
              "      <td>67.9</td>\n",
              "      <td>15.1</td>\n",
              "      <td>0.0</td>\n",
              "      <td>1013.3</td>\n",
              "      <td>27.4</td>\n",
              "      <td>NaN</td>\n",
              "    </tr>\n",
              "    <tr>\n",
              "      <th>4</th>\n",
              "      <td>2020-12-03</td>\n",
              "      <td>27.4</td>\n",
              "      <td>14.6</td>\n",
              "      <td>77.3</td>\n",
              "      <td>17.2</td>\n",
              "      <td>0.0</td>\n",
              "      <td>1012.9</td>\n",
              "      <td>27.2</td>\n",
              "      <td>NaN</td>\n",
              "    </tr>\n",
              "    <tr>\n",
              "      <th>...</th>\n",
              "      <td>...</td>\n",
              "      <td>...</td>\n",
              "      <td>...</td>\n",
              "      <td>...</td>\n",
              "      <td>...</td>\n",
              "      <td>...</td>\n",
              "      <td>...</td>\n",
              "      <td>...</td>\n",
              "      <td>...</td>\n",
              "    </tr>\n",
              "    <tr>\n",
              "      <th>724</th>\n",
              "      <td>2022-11-23</td>\n",
              "      <td>28.8</td>\n",
              "      <td>21.0</td>\n",
              "      <td>67.8</td>\n",
              "      <td>17.8</td>\n",
              "      <td>0.1</td>\n",
              "      <td>1014.2</td>\n",
              "      <td>27.2</td>\n",
              "      <td>28.783333</td>\n",
              "    </tr>\n",
              "    <tr>\n",
              "      <th>725</th>\n",
              "      <td>2022-11-24</td>\n",
              "      <td>27.2</td>\n",
              "      <td>20.5</td>\n",
              "      <td>73.1</td>\n",
              "      <td>18.5</td>\n",
              "      <td>0.0</td>\n",
              "      <td>1014.5</td>\n",
              "      <td>29.8</td>\n",
              "      <td>28.710000</td>\n",
              "    </tr>\n",
              "    <tr>\n",
              "      <th>726</th>\n",
              "      <td>2022-11-25</td>\n",
              "      <td>29.8</td>\n",
              "      <td>19.7</td>\n",
              "      <td>63.8</td>\n",
              "      <td>16.4</td>\n",
              "      <td>0.0</td>\n",
              "      <td>1015.2</td>\n",
              "      <td>29.9</td>\n",
              "      <td>28.736667</td>\n",
              "    </tr>\n",
              "    <tr>\n",
              "      <th>727</th>\n",
              "      <td>2022-11-26</td>\n",
              "      <td>29.9</td>\n",
              "      <td>17.2</td>\n",
              "      <td>55.6</td>\n",
              "      <td>13.0</td>\n",
              "      <td>0.0</td>\n",
              "      <td>1014.2</td>\n",
              "      <td>29.0</td>\n",
              "      <td>28.766667</td>\n",
              "    </tr>\n",
              "    <tr>\n",
              "      <th>728</th>\n",
              "      <td>2022-11-27</td>\n",
              "      <td>29.0</td>\n",
              "      <td>15.1</td>\n",
              "      <td>55.9</td>\n",
              "      <td>12.7</td>\n",
              "      <td>0.0</td>\n",
              "      <td>1012.8</td>\n",
              "      <td>29.0</td>\n",
              "      <td>28.770000</td>\n",
              "    </tr>\n",
              "  </tbody>\n",
              "</table>\n",
              "<p>729 rows × 9 columns</p>\n",
              "</div>\n",
              "      <button class=\"colab-df-convert\" onclick=\"convertToInteractive('df-55ee995d-560e-430e-bf5b-d1088c0101b3')\"\n",
              "              title=\"Convert this dataframe to an interactive table.\"\n",
              "              style=\"display:none;\">\n",
              "        \n",
              "  <svg xmlns=\"http://www.w3.org/2000/svg\" height=\"24px\"viewBox=\"0 0 24 24\"\n",
              "       width=\"24px\">\n",
              "    <path d=\"M0 0h24v24H0V0z\" fill=\"none\"/>\n",
              "    <path d=\"M18.56 5.44l.94 2.06.94-2.06 2.06-.94-2.06-.94-.94-2.06-.94 2.06-2.06.94zm-11 1L8.5 8.5l.94-2.06 2.06-.94-2.06-.94L8.5 2.5l-.94 2.06-2.06.94zm10 10l.94 2.06.94-2.06 2.06-.94-2.06-.94-.94-2.06-.94 2.06-2.06.94z\"/><path d=\"M17.41 7.96l-1.37-1.37c-.4-.4-.92-.59-1.43-.59-.52 0-1.04.2-1.43.59L10.3 9.45l-7.72 7.72c-.78.78-.78 2.05 0 2.83L4 21.41c.39.39.9.59 1.41.59.51 0 1.02-.2 1.41-.59l7.78-7.78 2.81-2.81c.8-.78.8-2.07 0-2.86zM5.41 20L4 18.59l7.72-7.72 1.47 1.35L5.41 20z\"/>\n",
              "  </svg>\n",
              "      </button>\n",
              "      \n",
              "  <style>\n",
              "    .colab-df-container {\n",
              "      display:flex;\n",
              "      flex-wrap:wrap;\n",
              "      gap: 12px;\n",
              "    }\n",
              "\n",
              "    .colab-df-convert {\n",
              "      background-color: #E8F0FE;\n",
              "      border: none;\n",
              "      border-radius: 50%;\n",
              "      cursor: pointer;\n",
              "      display: none;\n",
              "      fill: #1967D2;\n",
              "      height: 32px;\n",
              "      padding: 0 0 0 0;\n",
              "      width: 32px;\n",
              "    }\n",
              "\n",
              "    .colab-df-convert:hover {\n",
              "      background-color: #E2EBFA;\n",
              "      box-shadow: 0px 1px 2px rgba(60, 64, 67, 0.3), 0px 1px 3px 1px rgba(60, 64, 67, 0.15);\n",
              "      fill: #174EA6;\n",
              "    }\n",
              "\n",
              "    [theme=dark] .colab-df-convert {\n",
              "      background-color: #3B4455;\n",
              "      fill: #D2E3FC;\n",
              "    }\n",
              "\n",
              "    [theme=dark] .colab-df-convert:hover {\n",
              "      background-color: #434B5C;\n",
              "      box-shadow: 0px 1px 3px 1px rgba(0, 0, 0, 0.15);\n",
              "      filter: drop-shadow(0px 1px 2px rgba(0, 0, 0, 0.3));\n",
              "      fill: #FFFFFF;\n",
              "    }\n",
              "  </style>\n",
              "\n",
              "      <script>\n",
              "        const buttonEl =\n",
              "          document.querySelector('#df-55ee995d-560e-430e-bf5b-d1088c0101b3 button.colab-df-convert');\n",
              "        buttonEl.style.display =\n",
              "          google.colab.kernel.accessAllowed ? 'block' : 'none';\n",
              "\n",
              "        async function convertToInteractive(key) {\n",
              "          const element = document.querySelector('#df-55ee995d-560e-430e-bf5b-d1088c0101b3');\n",
              "          const dataTable =\n",
              "            await google.colab.kernel.invokeFunction('convertToInteractive',\n",
              "                                                     [key], {});\n",
              "          if (!dataTable) return;\n",
              "\n",
              "          const docLinkHtml = 'Like what you see? Visit the ' +\n",
              "            '<a target=\"_blank\" href=https://colab.research.google.com/notebooks/data_table.ipynb>data table notebook</a>'\n",
              "            + ' to learn more about interactive tables.';\n",
              "          element.innerHTML = '';\n",
              "          dataTable['output_type'] = 'display_data';\n",
              "          await google.colab.output.renderOutput(dataTable, element);\n",
              "          const docLink = document.createElement('div');\n",
              "          docLink.innerHTML = docLinkHtml;\n",
              "          element.appendChild(docLink);\n",
              "        }\n",
              "      </script>\n",
              "    </div>\n",
              "  </div>\n",
              "  "
            ]
          },
          "metadata": {},
          "execution_count": 38
        }
      ],
      "source": [
        "core_weather[\"month_max\"]=core_weather[\"tempmax\"].rolling(30).mean()\n",
        "core_weather"
      ]
    },
    {
      "cell_type": "code",
      "execution_count": null,
      "metadata": {
        "id": "bghbdaD7UFg3"
      },
      "outputs": [],
      "source": [
        "core_weather[\"month_day_max\"]=core_weather[\"month_max\"]/core_weather[\"tempmax\"]"
      ]
    },
    {
      "cell_type": "code",
      "execution_count": null,
      "metadata": {
        "id": "IDGs0qwEUFkn"
      },
      "outputs": [],
      "source": [
        "core_weather[\"max_min\"]=core_weather[\"tempmax\"]/core_weather[\"tempmin\"]"
      ]
    },
    {
      "cell_type": "code",
      "execution_count": null,
      "metadata": {
        "id": "JLZuEXgTXyVv"
      },
      "outputs": [],
      "source": [
        "core_weather=core_weather.iloc[30:,:].copy()"
      ]
    },
    {
      "cell_type": "code",
      "execution_count": null,
      "metadata": {
        "id": "PiFiQ4V4QtsF"
      },
      "outputs": [],
      "source": [
        "predictors=[\"precip\",\"tempmax\",\"tempmin\",\"humidity\",\"sealevelpressure\",\"month_max\",\"month_day_max\",\"max_min\"]"
      ]
    },
    {
      "cell_type": "code",
      "execution_count": null,
      "metadata": {
        "id": "0vln9saMXOpE"
      },
      "outputs": [],
      "source": [
        "error,combined=create_predictions(predictors,core_weather,reg)"
      ]
    },
    {
      "cell_type": "code",
      "execution_count": null,
      "metadata": {
        "colab": {
          "base_uri": "https://localhost:8080/"
        },
        "id": "oKVzA8fyXOsz",
        "outputId": "d50d6778-a4a1-4e24-843e-d1369bb2d771"
      },
      "outputs": [
        {
          "output_type": "execute_result",
          "data": {
            "text/plain": [
              "1.0476350977844002"
            ]
          },
          "metadata": {},
          "execution_count": 44
        }
      ],
      "source": [
        "error"
      ]
    },
    {
      "cell_type": "code",
      "execution_count": null,
      "metadata": {
        "colab": {
          "base_uri": "https://localhost:8080/",
          "height": 447
        },
        "id": "czsD8HwlXOwP",
        "outputId": "80ac0b5e-7e85-4b02-82d5-690674945e62"
      },
      "outputs": [
        {
          "output_type": "execute_result",
          "data": {
            "text/plain": [
              "<Axes: >"
            ]
          },
          "metadata": {},
          "execution_count": 45
        },
        {
          "output_type": "display_data",
          "data": {
            "text/plain": [
              "<Figure size 640x480 with 1 Axes>"
            ],
            "image/png": "[encoded data removed]"
          },
          "metadata": {}
        }
      ],
      "source": [
        "combined.plot()"
      ]
    },
    {
      "cell_type": "code",
      "execution_count": null,
      "metadata": {
        "colab": {
          "base_uri": "https://localhost:8080/",
          "height": 600
        },
        "id": "7TlTe3OpXOzf",
        "outputId": "653bb409-a7b3-4f97-b8fb-51c779d51ab5"
      },
      "outputs": [
        {
          "output_type": "stream",
          "name": "stderr",
          "text": [
            "<ipython-input-46-9fcf0fa9d2a5>:1: FutureWarning: Not prepending group keys to the result index of transform-like apply. In the future, the group keys will be included in the index, regardless of whether the applied function returns a like-indexed object.\n",
            "To preserve the previous behavior, use\n",
            "\n",
            "\t>>> .groupby(..., group_keys=False)\n",
            "\n",
            "To adopt the future behavior and silence this warning, use \n",
            "\n",
            "\t>>> .groupby(..., group_keys=True)\n",
            "  core_weather[\"monthly_avg\"]=core_weather[\"tempmax\"].groupby(core_weather.index).apply(lambda x: x.expanding(1).mean())\n"
          ]
        },
        {
          "output_type": "execute_result",
          "data": {
            "text/plain": [
              "       datetime  tempmax  tempmin  humidity   dew  precip  sealevelpressure  \\\n",
              "30   2020-12-29     27.2     14.5      75.7  16.1     0.0            1012.6   \n",
              "31   2020-12-30     26.1     17.0      77.3  16.8     0.0            1013.0   \n",
              "32   2020-12-31     25.5     18.0      82.4  17.9     0.0            1013.8   \n",
              "33   2021-01-01     24.8     17.9      80.7  17.3     0.0            1014.4   \n",
              "34   2021-01-02     26.8     15.0      76.9  16.2     0.0            1014.1   \n",
              "..          ...      ...      ...       ...   ...     ...               ...   \n",
              "724  2022-11-23     28.8     21.0      67.8  17.8     0.1            1014.2   \n",
              "725  2022-11-24     27.2     20.5      73.1  18.5     0.0            1014.5   \n",
              "726  2022-11-25     29.8     19.7      63.8  16.4     0.0            1015.2   \n",
              "727  2022-11-26     29.9     17.2      55.6  13.0     0.0            1014.2   \n",
              "728  2022-11-27     29.0     15.1      55.9  12.7     0.0            1012.8   \n",
              "\n",
              "     target  month_max  month_day_max   max_min  monthly_avg  \n",
              "30     26.1  27.620000       1.015441  1.875862         27.2  \n",
              "31     25.5  27.570000       1.056322  1.535294         26.1  \n",
              "32     24.8  27.500000       1.078431  1.416667         25.5  \n",
              "33     26.8  27.373333       1.103763  1.385475         24.8  \n",
              "34     26.3  27.353333       1.020647  1.786667         26.8  \n",
              "..      ...        ...            ...       ...          ...  \n",
              "724    27.2  28.783333       0.999421  1.371429         28.8  \n",
              "725    29.8  28.710000       1.055515  1.326829         27.2  \n",
              "726    29.9  28.736667       0.964318  1.512690         29.8  \n",
              "727    29.0  28.766667       0.962096  1.738372         29.9  \n",
              "728    29.0  28.770000       0.992069  1.920530         29.0  \n",
              "\n",
              "[699 rows x 12 columns]"
            ],
            "text/html": [
              "\n",
              "  <div id=\"df-36967454-ac3a-4efc-8b3a-ba02985234d7\">\n",
              "    <div class=\"colab-df-container\">\n",
              "      <div>\n",
              "<style scoped>\n",
              "    .dataframe tbody tr th:only-of-type {\n",
              "        vertical-align: middle;\n",
              "    }\n",
              "\n",
              "    .dataframe tbody tr th {\n",
              "        vertical-align: top;\n",
              "    }\n",
              "\n",
              "    .dataframe thead th {\n",
              "        text-align: right;\n",
              "    }\n",
              "</style>\n",
              "<table border=\"1\" class=\"dataframe\">\n",
              "  <thead>\n",
              "    <tr style=\"text-align: right;\">\n",
              "      <th></th>\n",
              "      <th>datetime</th>\n",
              "      <th>tempmax</th>\n",
              "      <th>tempmin</th>\n",
              "      <th>humidity</th>\n",
              "      <th>dew</th>\n",
              "      <th>precip</th>\n",
              "      <th>sealevelpressure</th>\n",
              "      <th>target</th>\n",
              "      <th>month_max</th>\n",
              "      <th>month_day_max</th>\n",
              "      <th>max_min</th>\n",
              "      <th>monthly_avg</th>\n",
              "    </tr>\n",
              "  </thead>\n",
              "  <tbody>\n",
              "    <tr>\n",
              "      <th>30</th>\n",
              "      <td>2020-12-29</td>\n",
              "      <td>27.2</td>\n",
              "      <td>14.5</td>\n",
              "      <td>75.7</td>\n",
              "      <td>16.1</td>\n",
              "      <td>0.0</td>\n",
              "      <td>1012.6</td>\n",
              "      <td>26.1</td>\n",
              "      <td>27.620000</td>\n",
              "      <td>1.015441</td>\n",
              "      <td>1.875862</td>\n",
              "      <td>27.2</td>\n",
              "    </tr>\n",
              "    <tr>\n",
              "      <th>31</th>\n",
              "      <td>2020-12-30</td>\n",
              "      <td>26.1</td>\n",
              "      <td>17.0</td>\n",
              "      <td>77.3</td>\n",
              "      <td>16.8</td>\n",
              "      <td>0.0</td>\n",
              "      <td>1013.0</td>\n",
              "      <td>25.5</td>\n",
              "      <td>27.570000</td>\n",
              "      <td>1.056322</td>\n",
              "      <td>1.535294</td>\n",
              "      <td>26.1</td>\n",
              "    </tr>\n",
              "    <tr>\n",
              "      <th>32</th>\n",
              "      <td>2020-12-31</td>\n",
              "      <td>25.5</td>\n",
              "      <td>18.0</td>\n",
              "      <td>82.4</td>\n",
              "      <td>17.9</td>\n",
              "      <td>0.0</td>\n",
              "      <td>1013.8</td>\n",
              "      <td>24.8</td>\n",
              "      <td>27.500000</td>\n",
              "      <td>1.078431</td>\n",
              "      <td>1.416667</td>\n",
              "      <td>25.5</td>\n",
              "    </tr>\n",
              "    <tr>\n",
              "      <th>33</th>\n",
              "      <td>2021-01-01</td>\n",
              "      <td>24.8</td>\n",
              "      <td>17.9</td>\n",
              "      <td>80.7</td>\n",
              "      <td>17.3</td>\n",
              "      <td>0.0</td>\n",
              "      <td>1014.4</td>\n",
              "      <td>26.8</td>\n",
              "      <td>27.373333</td>\n",
              "      <td>1.103763</td>\n",
              "      <td>1.385475</td>\n",
              "      <td>24.8</td>\n",
              "    </tr>\n",
              "    <tr>\n",
              "      <th>34</th>\n",
              "      <td>2021-01-02</td>\n",
              "      <td>26.8</td>\n",
              "      <td>15.0</td>\n",
              "      <td>76.9</td>\n",
              "      <td>16.2</td>\n",
              "      <td>0.0</td>\n",
              "      <td>1014.1</td>\n",
              "      <td>26.3</td>\n",
              "      <td>27.353333</td>\n",
              "      <td>1.020647</td>\n",
              "      <td>1.786667</td>\n",
              "      <td>26.8</td>\n",
              "    </tr>\n",
              "    <tr>\n",
              "      <th>...</th>\n",
              "      <td>...</td>\n",
              "      <td>...</td>\n",
              "      <td>...</td>\n",
              "      <td>...</td>\n",
              "      <td>...</td>\n",
              "      <td>...</td>\n",
              "      <td>...</td>\n",
              "      <td>...</td>\n",
              "      <td>...</td>\n",
              "      <td>...</td>\n",
              "      <td>...</td>\n",
              "      <td>...</td>\n",
              "    </tr>\n",
              "    <tr>\n",
              "      <th>724</th>\n",
              "      <td>2022-11-23</td>\n",
              "      <td>28.8</td>\n",
              "      <td>21.0</td>\n",
              "      <td>67.8</td>\n",
              "      <td>17.8</td>\n",
              "      <td>0.1</td>\n",
              "      <td>1014.2</td>\n",
              "      <td>27.2</td>\n",
              "      <td>28.783333</td>\n",
              "      <td>0.999421</td>\n",
              "      <td>1.371429</td>\n",
              "      <td>28.8</td>\n",
              "    </tr>\n",
              "    <tr>\n",
              "      <th>725</th>\n",
              "      <td>2022-11-24</td>\n",
              "      <td>27.2</td>\n",
              "      <td>20.5</td>\n",
              "      <td>73.1</td>\n",
              "      <td>18.5</td>\n",
              "      <td>0.0</td>\n",
              "      <td>1014.5</td>\n",
              "      <td>29.8</td>\n",
              "      <td>28.710000</td>\n",
              "      <td>1.055515</td>\n",
              "      <td>1.326829</td>\n",
              "      <td>27.2</td>\n",
              "    </tr>\n",
              "    <tr>\n",
              "      <th>726</th>\n",
              "      <td>2022-11-25</td>\n",
              "      <td>29.8</td>\n",
              "      <td>19.7</td>\n",
              "      <td>63.8</td>\n",
              "      <td>16.4</td>\n",
              "      <td>0.0</td>\n",
              "      <td>1015.2</td>\n",
              "      <td>29.9</td>\n",
              "      <td>28.736667</td>\n",
              "      <td>0.964318</td>\n",
              "      <td>1.512690</td>\n",
              "      <td>29.8</td>\n",
              "    </tr>\n",
              "    <tr>\n",
              "      <th>727</th>\n",
              "      <td>2022-11-26</td>\n",
              "      <td>29.9</td>\n",
              "      <td>17.2</td>\n",
              "      <td>55.6</td>\n",
              "      <td>13.0</td>\n",
              "      <td>0.0</td>\n",
              "      <td>1014.2</td>\n",
              "      <td>29.0</td>\n",
              "      <td>28.766667</td>\n",
              "      <td>0.962096</td>\n",
              "      <td>1.738372</td>\n",
              "      <td>29.9</td>\n",
              "    </tr>\n",
              "    <tr>\n",
              "      <th>728</th>\n",
              "      <td>2022-11-27</td>\n",
              "      <td>29.0</td>\n",
              "      <td>15.1</td>\n",
              "      <td>55.9</td>\n",
              "      <td>12.7</td>\n",
              "      <td>0.0</td>\n",
              "      <td>1012.8</td>\n",
              "      <td>29.0</td>\n",
              "      <td>28.770000</td>\n",
              "      <td>0.992069</td>\n",
              "      <td>1.920530</td>\n",
              "      <td>29.0</td>\n",
              "    </tr>\n",
              "  </tbody>\n",
              "</table>\n",
              "<p>699 rows × 12 columns</p>\n",
              "</div>\n",
              "      <button class=\"colab-df-convert\" onclick=\"convertToInteractive('df-36967454-ac3a-4efc-8b3a-ba02985234d7')\"\n",
              "              title=\"Convert this dataframe to an interactive table.\"\n",
              "              style=\"display:none;\">\n",
              "        \n",
              "  <svg xmlns=\"http://www.w3.org/2000/svg\" height=\"24px\"viewBox=\"0 0 24 24\"\n",
              "       width=\"24px\">\n",
              "    <path d=\"M0 0h24v24H0V0z\" fill=\"none\"/>\n",
              "    <path d=\"M18.56 5.44l.94 2.06.94-2.06 2.06-.94-2.06-.94-.94-2.06-.94 2.06-2.06.94zm-11 1L8.5 8.5l.94-2.06 2.06-.94-2.06-.94L8.5 2.5l-.94 2.06-2.06.94zm10 10l.94 2.06.94-2.06 2.06-.94-2.06-.94-.94-2.06-.94 2.06-2.06.94z\"/><path d=\"M17.41 7.96l-1.37-1.37c-.4-.4-.92-.59-1.43-.59-.52 0-1.04.2-1.43.59L10.3 9.45l-7.72 7.72c-.78.78-.78 2.05 0 2.83L4 21.41c.39.39.9.59 1.41.59.51 0 1.02-.2 1.41-.59l7.78-7.78 2.81-2.81c.8-.78.8-2.07 0-2.86zM5.41 20L4 18.59l7.72-7.72 1.47 1.35L5.41 20z\"/>\n",
              "  </svg>\n",
              "      </button>\n",
              "      \n",
              "  <style>\n",
              "    .colab-df-container {\n",
              "      display:flex;\n",
              "      flex-wrap:wrap;\n",
              "      gap: 12px;\n",
              "    }\n",
              "\n",
              "    .colab-df-convert {\n",
              "      background-color: #E8F0FE;\n",
              "      border: none;\n",
              "      border-radius: 50%;\n",
              "      cursor: pointer;\n",
              "      display: none;\n",
              "      fill: #1967D2;\n",
              "      height: 32px;\n",
              "      padding: 0 0 0 0;\n",
              "      width: 32px;\n",
              "    }\n",
              "\n",
              "    .colab-df-convert:hover {\n",
              "      background-color: #E2EBFA;\n",
              "      box-shadow: 0px 1px 2px rgba(60, 64, 67, 0.3), 0px 1px 3px 1px rgba(60, 64, 67, 0.15);\n",
              "      fill: #174EA6;\n",
              "    }\n",
              "\n",
              "    [theme=dark] .colab-df-convert {\n",
              "      background-color: #3B4455;\n",
              "      fill: #D2E3FC;\n",
              "    }\n",
              "\n",
              "    [theme=dark] .colab-df-convert:hover {\n",
              "      background-color: #434B5C;\n",
              "      box-shadow: 0px 1px 3px 1px rgba(0, 0, 0, 0.15);\n",
              "      filter: drop-shadow(0px 1px 2px rgba(0, 0, 0, 0.3));\n",
              "      fill: #FFFFFF;\n",
              "    }\n",
              "  </style>\n",
              "\n",
              "      <script>\n",
              "        const buttonEl =\n",
              "          document.querySelector('#df-36967454-ac3a-4efc-8b3a-ba02985234d7 button.colab-df-convert');\n",
              "        buttonEl.style.display =\n",
              "          google.colab.kernel.accessAllowed ? 'block' : 'none';\n",
              "\n",
              "        async function convertToInteractive(key) {\n",
              "          const element = document.querySelector('#df-36967454-ac3a-4efc-8b3a-ba02985234d7');\n",
              "          const dataTable =\n",
              "            await google.colab.kernel.invokeFunction('convertToInteractive',\n",
              "                                                     [key], {});\n",
              "          if (!dataTable) return;\n",
              "\n",
              "          const docLinkHtml = 'Like what you see? Visit the ' +\n",
              "            '<a target=\"_blank\" href=https://colab.research.google.com/notebooks/data_table.ipynb>data table notebook</a>'\n",
              "            + ' to learn more about interactive tables.';\n",
              "          element.innerHTML = '';\n",
              "          dataTable['output_type'] = 'display_data';\n",
              "          await google.colab.output.renderOutput(dataTable, element);\n",
              "          const docLink = document.createElement('div');\n",
              "          docLink.innerHTML = docLinkHtml;\n",
              "          element.appendChild(docLink);\n",
              "        }\n",
              "      </script>\n",
              "    </div>\n",
              "  </div>\n",
              "  "
            ]
          },
          "metadata": {},
          "execution_count": 46
        }
      ],
      "source": [
        "core_weather[\"monthly_avg\"]=core_weather[\"tempmax\"].groupby(core_weather.index).apply(lambda x: x.expanding(1).mean())\n",
        "core_weather"
      ]
    },
    {
      "cell_type": "code",
      "execution_count": null,
      "metadata": {
        "colab": {
          "base_uri": "https://localhost:8080/"
        },
        "id": "Xf0M-7TzB2DT",
        "outputId": "f5a4e4ed-f8ee-4fd9-f048-ba519493ca5b"
      },
      "outputs": [
        {
          "output_type": "execute_result",
          "data": {
            "text/plain": [
              "array([-7.44752828e-03,  6.46841861e-01,  1.01372953e-01, -3.08695743e-02,\n",
              "        3.74705714e-04,  1.72753089e-01,  9.03412259e-01,  6.90941576e-01])"
            ]
          },
          "metadata": {},
          "execution_count": 47
        }
      ],
      "source": [
        "reg.coef_"
      ]
    },
    {
      "cell_type": "code",
      "execution_count": null,
      "metadata": {
        "colab": {
          "base_uri": "https://localhost:8080/"
        },
        "id": "ZjbsUncEB2HN",
        "outputId": "a7093acb-b7db-4a22-e617-0dc1b8613211"
      },
      "outputs": [
        {
          "output_type": "stream",
          "name": "stderr",
          "text": [
            "<ipython-input-48-e318dddd3887>:1: FutureWarning: The default value of numeric_only in DataFrame.corr is deprecated. In a future version, it will default to False. Select only valid columns or specify the value of numeric_only to silence this warning.\n",
            "  core_weather.corr()[\"target\"]\n"
          ]
        },
        {
          "output_type": "execute_result",
          "data": {
            "text/plain": [
              "tempmax             0.900985\n",
              "tempmin             0.480408\n",
              "humidity           -0.648080\n",
              "dew                -0.107550\n",
              "precip             -0.157402\n",
              "sealevelpressure    0.003235\n",
              "target              1.000000\n",
              "month_max           0.783911\n",
              "month_day_max      -0.373391\n",
              "max_min             0.176154\n",
              "monthly_avg         0.900985\n",
              "Name: target, dtype: float64"
            ]
          },
          "metadata": {},
          "execution_count": 48
        }
      ],
      "source": [
        "core_weather.corr()[\"target\"]"
      ]
    },
    {
      "cell_type": "code",
      "execution_count": null,
      "metadata": {
        "id": "E8MjLM71B2LV"
      },
      "outputs": [],
      "source": [
        "combined[\"diff\"]=(combined[\"actual\"]-combined[\"predictions\"]).abs()"
      ]
    },
    {
      "cell_type": "code",
      "execution_count": null,
      "metadata": {
        "colab": {
          "base_uri": "https://localhost:8080/",
          "height": 206
        },
        "id": "7QpP1uKiXO2z",
        "outputId": "3707d845-e7a4-4c57-a2af-ce89d0c6e190"
      },
      "outputs": [
        {
          "output_type": "execute_result",
          "data": {
            "text/plain": [
              "     actual  predictions      diff\n",
              "650    24.0    27.808682  3.808682\n",
              "661    24.4    28.052578  3.652578\n",
              "701    25.0    28.398196  3.398196\n",
              "637    27.6    30.930980  3.330980\n",
              "662    28.5    25.555321  2.944679"
            ],
            "text/html": [
              "\n",
              "  <div id=\"df-6164f20b-2eb9-4909-9c68-25202f7a6353\">\n",
              "    <div class=\"colab-df-container\">\n",
              "      <div>\n",
              "<style scoped>\n",
              "    .dataframe tbody tr th:only-of-type {\n",
              "        vertical-align: middle;\n",
              "    }\n",
              "\n",
              "    .dataframe tbody tr th {\n",
              "        vertical-align: top;\n",
              "    }\n",
              "\n",
              "    .dataframe thead th {\n",
              "        text-align: right;\n",
              "    }\n",
              "</style>\n",
              "<table border=\"1\" class=\"dataframe\">\n",
              "  <thead>\n",
              "    <tr style=\"text-align: right;\">\n",
              "      <th></th>\n",
              "      <th>actual</th>\n",
              "      <th>predictions</th>\n",
              "      <th>diff</th>\n",
              "    </tr>\n",
              "  </thead>\n",
              "  <tbody>\n",
              "    <tr>\n",
              "      <th>650</th>\n",
              "      <td>24.0</td>\n",
              "      <td>27.808682</td>\n",
              "      <td>3.808682</td>\n",
              "    </tr>\n",
              "    <tr>\n",
              "      <th>661</th>\n",
              "      <td>24.4</td>\n",
              "      <td>28.052578</td>\n",
              "      <td>3.652578</td>\n",
              "    </tr>\n",
              "    <tr>\n",
              "      <th>701</th>\n",
              "      <td>25.0</td>\n",
              "      <td>28.398196</td>\n",
              "      <td>3.398196</td>\n",
              "    </tr>\n",
              "    <tr>\n",
              "      <th>637</th>\n",
              "      <td>27.6</td>\n",
              "      <td>30.930980</td>\n",
              "      <td>3.330980</td>\n",
              "    </tr>\n",
              "    <tr>\n",
              "      <th>662</th>\n",
              "      <td>28.5</td>\n",
              "      <td>25.555321</td>\n",
              "      <td>2.944679</td>\n",
              "    </tr>\n",
              "  </tbody>\n",
              "</table>\n",
              "</div>\n",
              "      <button class=\"colab-df-convert\" onclick=\"convertToInteractive('df-6164f20b-2eb9-4909-9c68-25202f7a6353')\"\n",
              "              title=\"Convert this dataframe to an interactive table.\"\n",
              "              style=\"display:none;\">\n",
              "        \n",
              "  <svg xmlns=\"http://www.w3.org/2000/svg\" height=\"24px\"viewBox=\"0 0 24 24\"\n",
              "       width=\"24px\">\n",
              "    <path d=\"M0 0h24v24H0V0z\" fill=\"none\"/>\n",
              "    <path d=\"M18.56 5.44l.94 2.06.94-2.06 2.06-.94-2.06-.94-.94-2.06-.94 2.06-2.06.94zm-11 1L8.5 8.5l.94-2.06 2.06-.94-2.06-.94L8.5 2.5l-.94 2.06-2.06.94zm10 10l.94 2.06.94-2.06 2.06-.94-2.06-.94-.94-2.06-.94 2.06-2.06.94z\"/><path d=\"M17.41 7.96l-1.37-1.37c-.4-.4-.92-.59-1.43-.59-.52 0-1.04.2-1.43.59L10.3 9.45l-7.72 7.72c-.78.78-.78 2.05 0 2.83L4 21.41c.39.39.9.59 1.41.59.51 0 1.02-.2 1.41-.59l7.78-7.78 2.81-2.81c.8-.78.8-2.07 0-2.86zM5.41 20L4 18.59l7.72-7.72 1.47 1.35L5.41 20z\"/>\n",
              "  </svg>\n",
              "      </button>\n",
              "      \n",
              "  <style>\n",
              "    .colab-df-container {\n",
              "      display:flex;\n",
              "      flex-wrap:wrap;\n",
              "      gap: 12px;\n",
              "    }\n",
              "\n",
              "    .colab-df-convert {\n",
              "      background-color: #E8F0FE;\n",
              "      border: none;\n",
              "      border-radius: 50%;\n",
              "      cursor: pointer;\n",
              "      display: none;\n",
              "      fill: #1967D2;\n",
              "      height: 32px;\n",
              "      padding: 0 0 0 0;\n",
              "      width: 32px;\n",
              "    }\n",
              "\n",
              "    .colab-df-convert:hover {\n",
              "      background-color: #E2EBFA;\n",
              "      box-shadow: 0px 1px 2px rgba(60, 64, 67, 0.3), 0px 1px 3px 1px rgba(60, 64, 67, 0.15);\n",
              "      fill: #174EA6;\n",
              "    }\n",
              "\n",
              "    [theme=dark] .colab-df-convert {\n",
              "      background-color: #3B4455;\n",
              "      fill: #D2E3FC;\n",
              "    }\n",
              "\n",
              "    [theme=dark] .colab-df-convert:hover {\n",
              "      background-color: #434B5C;\n",
              "      box-shadow: 0px 1px 3px 1px rgba(0, 0, 0, 0.15);\n",
              "      filter: drop-shadow(0px 1px 2px rgba(0, 0, 0, 0.3));\n",
              "      fill: #FFFFFF;\n",
              "    }\n",
              "  </style>\n",
              "\n",
              "      <script>\n",
              "        const buttonEl =\n",
              "          document.querySelector('#df-6164f20b-2eb9-4909-9c68-25202f7a6353 button.colab-df-convert');\n",
              "        buttonEl.style.display =\n",
              "          google.colab.kernel.accessAllowed ? 'block' : 'none';\n",
              "\n",
              "        async function convertToInteractive(key) {\n",
              "          const element = document.querySelector('#df-6164f20b-2eb9-4909-9c68-25202f7a6353');\n",
              "          const dataTable =\n",
              "            await google.colab.kernel.invokeFunction('convertToInteractive',\n",
              "                                                     [key], {});\n",
              "          if (!dataTable) return;\n",
              "\n",
              "          const docLinkHtml = 'Like what you see? Visit the ' +\n",
              "            '<a target=\"_blank\" href=https://colab.research.google.com/notebooks/data_table.ipynb>data table notebook</a>'\n",
              "            + ' to learn more about interactive tables.';\n",
              "          element.innerHTML = '';\n",
              "          dataTable['output_type'] = 'display_data';\n",
              "          await google.colab.output.renderOutput(dataTable, element);\n",
              "          const docLink = document.createElement('div');\n",
              "          docLink.innerHTML = docLinkHtml;\n",
              "          element.appendChild(docLink);\n",
              "        }\n",
              "      </script>\n",
              "    </div>\n",
              "  </div>\n",
              "  "
            ]
          },
          "metadata": {},
          "execution_count": 50
        }
      ],
      "source": [
        "combined.sort_values(\"diff\",ascending=False).head()"
      ]
    },
    {
      "cell_type": "code",
      "execution_count": null,
      "metadata": {
        "id": "s9aX5RiDXO6D"
      },
      "outputs": [],
      "source": [
        "#Using Support vector machine\n",
        "from sklearn.model_selection import train_test_split\n",
        "from sklearn.svm import SVC\n",
        "from sklearn.metrics import accuracy_score\n",
        "from sklearn.preprocessing import LabelEncoder"
      ]
    },
    {
      "cell_type": "code",
      "execution_count": null,
      "metadata": {
        "colab": {
          "base_uri": "https://localhost:8080/",
          "height": 424
        },
        "id": "8e65LK5AXO9f",
        "outputId": "8d66f8d1-3bb7-4bb0-868e-54f0846fb632"
      },
      "outputs": [
        {
          "output_type": "execute_result",
          "data": {
            "text/plain": [
              "       Station         Date  MaxT  MinT  RH1   RH2  Wind  Rain   SSH  Evap  \\\n",
              "0      ICRISAT     1/1/1978  28.5  14.2   68  31.0   5.7   0.0  10.1   4.3   \n",
              "1      ICRISAT     1/2/1978  28.8  16.0   79  33.0   6.4   0.0   9.8   4.8   \n",
              "2      ICRISAT     1/3/1978  29.0  14.5   86  37.0   5.4   0.0   9.1   4.6   \n",
              "3      ICRISAT     1/4/1978  29.0  18.0   89  43.0   7.1   0.0   9.0   4.2   \n",
              "4      ICRISAT     1/5/1978  27.8  17.0   81  47.0  10.5   0.0   8.9   4.3   \n",
              "...        ...          ...   ...   ...  ...   ...   ...   ...   ...   ...   \n",
              "14848  ICRISAT  27-Aug-2018  29.5  22.2   93  64.0   9.6   4.5   1.4   2.5   \n",
              "14849  ICRISAT  28-Aug-2018  29.2  22.6   90  70.0   9.2  13.2   0.4   4.7   \n",
              "14850  ICRISAT  29-Aug-2018  29.6  22.4   91  63.0   7.6  14.0   2.9   3.6   \n",
              "14851  ICRISAT  30-Aug-2018  30.6  23.0   87  59.0   8.2   0.0   9.8   5.2   \n",
              "14852  ICRISAT  31-Aug-2018  30.6  23.0   90  62.0   7.0   0.0   9.8   4.9   \n",
              "\n",
              "       Radiation  FAO56_ET        Lat      Lon  Cum_Rain  \n",
              "0           18.4       3.9  17.508409  78.2723       0.0  \n",
              "1           16.9       3.9  17.508409  78.2723       0.0  \n",
              "2           15.3       3.4  17.508409  78.2723       0.0  \n",
              "3           16.4       3.8  17.508409  78.2723       0.0  \n",
              "4           15.9       4.1  17.508409  78.2723       0.0  \n",
              "...          ...       ...        ...      ...       ...  \n",
              "14848       12.9       3.5  17.508409  78.2723    1493.2  \n",
              "14849       11.7       3.2  17.508409  78.2723    1506.4  \n",
              "14850       15.0       3.7  17.508409  78.2723    1520.4  \n",
              "14851       19.7       4.7  17.508409  78.2723    1520.4  \n",
              "14852       18.0       4.3  17.508409  78.2723    1520.4  \n",
              "\n",
              "[14853 rows x 15 columns]"
            ],
            "text/html": [
              "\n",
              "  <div id=\"df-5cade633-8c16-41db-ad33-6741dec326b5\">\n",
              "    <div class=\"colab-df-container\">\n",
              "      <div>\n",
              "<style scoped>\n",
              "    .dataframe tbody tr th:only-of-type {\n",
              "        vertical-align: middle;\n",
              "    }\n",
              "\n",
              "    .dataframe tbody tr th {\n",
              "        vertical-align: top;\n",
              "    }\n",
              "\n",
              "    .dataframe thead th {\n",
              "        text-align: right;\n",
              "    }\n",
              "</style>\n",
              "<table border=\"1\" class=\"dataframe\">\n",
              "  <thead>\n",
              "    <tr style=\"text-align: right;\">\n",
              "      <th></th>\n",
              "      <th>Station</th>\n",
              "      <th>Date</th>\n",
              "      <th>MaxT</th>\n",
              "      <th>MinT</th>\n",
              "      <th>RH1</th>\n",
              "      <th>RH2</th>\n",
              "      <th>Wind</th>\n",
              "      <th>Rain</th>\n",
              "      <th>SSH</th>\n",
              "      <th>Evap</th>\n",
              "      <th>Radiation</th>\n",
              "      <th>FAO56_ET</th>\n",
              "      <th>Lat</th>\n",
              "      <th>Lon</th>\n",
              "      <th>Cum_Rain</th>\n",
              "    </tr>\n",
              "  </thead>\n",
              "  <tbody>\n",
              "    <tr>\n",
              "      <th>0</th>\n",
              "      <td>ICRISAT</td>\n",
              "      <td>1/1/1978</td>\n",
              "      <td>28.5</td>\n",
              "      <td>14.2</td>\n",
              "      <td>68</td>\n",
              "      <td>31.0</td>\n",
              "      <td>5.7</td>\n",
              "      <td>0.0</td>\n",
              "      <td>10.1</td>\n",
              "      <td>4.3</td>\n",
              "      <td>18.4</td>\n",
              "      <td>3.9</td>\n",
              "      <td>17.508409</td>\n",
              "      <td>78.2723</td>\n",
              "      <td>0.0</td>\n",
              "    </tr>\n",
              "    <tr>\n",
              "      <th>1</th>\n",
              "      <td>ICRISAT</td>\n",
              "      <td>1/2/1978</td>\n",
              "      <td>28.8</td>\n",
              "      <td>16.0</td>\n",
              "      <td>79</td>\n",
              "      <td>33.0</td>\n",
              "      <td>6.4</td>\n",
              "      <td>0.0</td>\n",
              "      <td>9.8</td>\n",
              "      <td>4.8</td>\n",
              "      <td>16.9</td>\n",
              "      <td>3.9</td>\n",
              "      <td>17.508409</td>\n",
              "      <td>78.2723</td>\n",
              "      <td>0.0</td>\n",
              "    </tr>\n",
              "    <tr>\n",
              "      <th>2</th>\n",
              "      <td>ICRISAT</td>\n",
              "      <td>1/3/1978</td>\n",
              "      <td>29.0</td>\n",
              "      <td>14.5</td>\n",
              "      <td>86</td>\n",
              "      <td>37.0</td>\n",
              "      <td>5.4</td>\n",
              "      <td>0.0</td>\n",
              "      <td>9.1</td>\n",
              "      <td>4.6</td>\n",
              "      <td>15.3</td>\n",
              "      <td>3.4</td>\n",
              "      <td>17.508409</td>\n",
              "      <td>78.2723</td>\n",
              "      <td>0.0</td>\n",
              "    </tr>\n",
              "    <tr>\n",
              "      <th>3</th>\n",
              "      <td>ICRISAT</td>\n",
              "      <td>1/4/1978</td>\n",
              "      <td>29.0</td>\n",
              "      <td>18.0</td>\n",
              "      <td>89</td>\n",
              "      <td>43.0</td>\n",
              "      <td>7.1</td>\n",
              "      <td>0.0</td>\n",
              "      <td>9.0</td>\n",
              "      <td>4.2</td>\n",
              "      <td>16.4</td>\n",
              "      <td>3.8</td>\n",
              "      <td>17.508409</td>\n",
              "      <td>78.2723</td>\n",
              "      <td>0.0</td>\n",
              "    </tr>\n",
              "    <tr>\n",
              "      <th>4</th>\n",
              "      <td>ICRISAT</td>\n",
              "      <td>1/5/1978</td>\n",
              "      <td>27.8</td>\n",
              "      <td>17.0</td>\n",
              "      <td>81</td>\n",
              "      <td>47.0</td>\n",
              "      <td>10.5</td>\n",
              "      <td>0.0</td>\n",
              "      <td>8.9</td>\n",
              "      <td>4.3</td>\n",
              "      <td>15.9</td>\n",
              "      <td>4.1</td>\n",
              "      <td>17.508409</td>\n",
              "      <td>78.2723</td>\n",
              "      <td>0.0</td>\n",
              "    </tr>\n",
              "    <tr>\n",
              "      <th>...</th>\n",
              "      <td>...</td>\n",
              "      <td>...</td>\n",
              "      <td>...</td>\n",
              "      <td>...</td>\n",
              "      <td>...</td>\n",
              "      <td>...</td>\n",
              "      <td>...</td>\n",
              "      <td>...</td>\n",
              "      <td>...</td>\n",
              "      <td>...</td>\n",
              "      <td>...</td>\n",
              "      <td>...</td>\n",
              "      <td>...</td>\n",
              "      <td>...</td>\n",
              "      <td>...</td>\n",
              "    </tr>\n",
              "    <tr>\n",
              "      <th>14848</th>\n",
              "      <td>ICRISAT</td>\n",
              "      <td>27-Aug-2018</td>\n",
              "      <td>29.5</td>\n",
              "      <td>22.2</td>\n",
              "      <td>93</td>\n",
              "      <td>64.0</td>\n",
              "      <td>9.6</td>\n",
              "      <td>4.5</td>\n",
              "      <td>1.4</td>\n",
              "      <td>2.5</td>\n",
              "      <td>12.9</td>\n",
              "      <td>3.5</td>\n",
              "      <td>17.508409</td>\n",
              "      <td>78.2723</td>\n",
              "      <td>1493.2</td>\n",
              "    </tr>\n",
              "    <tr>\n",
              "      <th>14849</th>\n",
              "      <td>ICRISAT</td>\n",
              "      <td>28-Aug-2018</td>\n",
              "      <td>29.2</td>\n",
              "      <td>22.6</td>\n",
              "      <td>90</td>\n",
              "      <td>70.0</td>\n",
              "      <td>9.2</td>\n",
              "      <td>13.2</td>\n",
              "      <td>0.4</td>\n",
              "      <td>4.7</td>\n",
              "      <td>11.7</td>\n",
              "      <td>3.2</td>\n",
              "      <td>17.508409</td>\n",
              "      <td>78.2723</td>\n",
              "      <td>1506.4</td>\n",
              "    </tr>\n",
              "    <tr>\n",
              "      <th>14850</th>\n",
              "      <td>ICRISAT</td>\n",
              "      <td>29-Aug-2018</td>\n",
              "      <td>29.6</td>\n",
              "      <td>22.4</td>\n",
              "      <td>91</td>\n",
              "      <td>63.0</td>\n",
              "      <td>7.6</td>\n",
              "      <td>14.0</td>\n",
              "      <td>2.9</td>\n",
              "      <td>3.6</td>\n",
              "      <td>15.0</td>\n",
              "      <td>3.7</td>\n",
              "      <td>17.508409</td>\n",
              "      <td>78.2723</td>\n",
              "      <td>1520.4</td>\n",
              "    </tr>\n",
              "    <tr>\n",
              "      <th>14851</th>\n",
              "      <td>ICRISAT</td>\n",
              "      <td>30-Aug-2018</td>\n",
              "      <td>30.6</td>\n",
              "      <td>23.0</td>\n",
              "      <td>87</td>\n",
              "      <td>59.0</td>\n",
              "      <td>8.2</td>\n",
              "      <td>0.0</td>\n",
              "      <td>9.8</td>\n",
              "      <td>5.2</td>\n",
              "      <td>19.7</td>\n",
              "      <td>4.7</td>\n",
              "      <td>17.508409</td>\n",
              "      <td>78.2723</td>\n",
              "      <td>1520.4</td>\n",
              "    </tr>\n",
              "    <tr>\n",
              "      <th>14852</th>\n",
              "      <td>ICRISAT</td>\n",
              "      <td>31-Aug-2018</td>\n",
              "      <td>30.6</td>\n",
              "      <td>23.0</td>\n",
              "      <td>90</td>\n",
              "      <td>62.0</td>\n",
              "      <td>7.0</td>\n",
              "      <td>0.0</td>\n",
              "      <td>9.8</td>\n",
              "      <td>4.9</td>\n",
              "      <td>18.0</td>\n",
              "      <td>4.3</td>\n",
              "      <td>17.508409</td>\n",
              "      <td>78.2723</td>\n",
              "      <td>1520.4</td>\n",
              "    </tr>\n",
              "  </tbody>\n",
              "</table>\n",
              "<p>14853 rows × 15 columns</p>\n",
              "</div>\n",
              "      <button class=\"colab-df-convert\" onclick=\"convertToInteractive('df-5cade633-8c16-41db-ad33-6741dec326b5')\"\n",
              "              title=\"Convert this dataframe to an interactive table.\"\n",
              "              style=\"display:none;\">\n",
              "        \n",
              "  <svg xmlns=\"http://www.w3.org/2000/svg\" height=\"24px\"viewBox=\"0 0 24 24\"\n",
              "       width=\"24px\">\n",
              "    <path d=\"M0 0h24v24H0V0z\" fill=\"none\"/>\n",
              "    <path d=\"M18.56 5.44l.94 2.06.94-2.06 2.06-.94-2.06-.94-.94-2.06-.94 2.06-2.06.94zm-11 1L8.5 8.5l.94-2.06 2.06-.94-2.06-.94L8.5 2.5l-.94 2.06-2.06.94zm10 10l.94 2.06.94-2.06 2.06-.94-2.06-.94-.94-2.06-.94 2.06-2.06.94z\"/><path d=\"M17.41 7.96l-1.37-1.37c-.4-.4-.92-.59-1.43-.59-.52 0-1.04.2-1.43.59L10.3 9.45l-7.72 7.72c-.78.78-.78 2.05 0 2.83L4 21.41c.39.39.9.59 1.41.59.51 0 1.02-.2 1.41-.59l7.78-7.78 2.81-2.81c.8-.78.8-2.07 0-2.86zM5.41 20L4 18.59l7.72-7.72 1.47 1.35L5.41 20z\"/>\n",
              "  </svg>\n",
              "      </button>\n",
              "      \n",
              "  <style>\n",
              "    .colab-df-container {\n",
              "      display:flex;\n",
              "      flex-wrap:wrap;\n",
              "      gap: 12px;\n",
              "    }\n",
              "\n",
              "    .colab-df-convert {\n",
              "      background-color: #E8F0FE;\n",
              "      border: none;\n",
              "      border-radius: 50%;\n",
              "      cursor: pointer;\n",
              "      display: none;\n",
              "      fill: #1967D2;\n",
              "      height: 32px;\n",
              "      padding: 0 0 0 0;\n",
              "      width: 32px;\n",
              "    }\n",
              "\n",
              "    .colab-df-convert:hover {\n",
              "      background-color: #E2EBFA;\n",
              "      box-shadow: 0px 1px 2px rgba(60, 64, 67, 0.3), 0px 1px 3px 1px rgba(60, 64, 67, 0.15);\n",
              "      fill: #174EA6;\n",
              "    }\n",
              "\n",
              "    [theme=dark] .colab-df-convert {\n",
              "      background-color: #3B4455;\n",
              "      fill: #D2E3FC;\n",
              "    }\n",
              "\n",
              "    [theme=dark] .colab-df-convert:hover {\n",
              "      background-color: #434B5C;\n",
              "      box-shadow: 0px 1px 3px 1px rgba(0, 0, 0, 0.15);\n",
              "      filter: drop-shadow(0px 1px 2px rgba(0, 0, 0, 0.3));\n",
              "      fill: #FFFFFF;\n",
              "    }\n",
              "  </style>\n",
              "\n",
              "      <script>\n",
              "        const buttonEl =\n",
              "          document.querySelector('#df-5cade633-8c16-41db-ad33-6741dec326b5 button.colab-df-convert');\n",
              "        buttonEl.style.display =\n",
              "          google.colab.kernel.accessAllowed ? 'block' : 'none';\n",
              "\n",
              "        async function convertToInteractive(key) {\n",
              "          const element = document.querySelector('#df-5cade633-8c16-41db-ad33-6741dec326b5');\n",
              "          const dataTable =\n",
              "            await google.colab.kernel.invokeFunction('convertToInteractive',\n",
              "                                                     [key], {});\n",
              "          if (!dataTable) return;\n",
              "\n",
              "          const docLinkHtml = 'Like what you see? Visit the ' +\n",
              "            '<a target=\"_blank\" href=https://colab.research.google.com/notebooks/data_table.ipynb>data table notebook</a>'\n",
              "            + ' to learn more about interactive tables.';\n",
              "          element.innerHTML = '';\n",
              "          dataTable['output_type'] = 'display_data';\n",
              "          await google.colab.output.renderOutput(dataTable, element);\n",
              "          const docLink = document.createElement('div');\n",
              "          docLink.innerHTML = docLinkHtml;\n",
              "          element.appendChild(docLink);\n",
              "        }\n",
              "      </script>\n",
              "    </div>\n",
              "  </div>\n",
              "  "
            ]
          },
          "metadata": {},
          "execution_count": 52
        }
      ],
      "source": [
        "df1= pd.read_csv('/content/ICRISAT Weather 1978 to 2018.csv')\n",
        "df1"
      ]
    },
    {
      "cell_type": "code",
      "execution_count": null,
      "metadata": {
        "colab": {
          "base_uri": "https://localhost:8080/"
        },
        "id": "0TFXJMja8fmG",
        "outputId": "4e457c48-096f-461f-cf72-f51a563a6b84"
      },
      "outputs": [
        {
          "output_type": "execute_result",
          "data": {
            "text/plain": [
              "MaxT         0.00000\n",
              "MinT         0.00000\n",
              "Wind         0.00000\n",
              "Rain         0.00000\n",
              "RH1          0.00000\n",
              "RH2          0.00000\n",
              "Radiation    0.00137\n",
              "dtype: float64"
            ]
          },
          "metadata": {},
          "execution_count": 53
        }
      ],
      "source": [
        "core_weather1=df1[[\"MaxT\",\"MinT\",\"Wind\",\"Rain\",\"RH1\",\"RH2\",\"Radiation\"]].copy()\n",
        "core_weather1.apply(pd.isnull).sum()/df.shape[0]"
      ]
    },
    {
      "cell_type": "code",
      "execution_count": null,
      "metadata": {
        "colab": {
          "base_uri": "https://localhost:8080/"
        },
        "id": "7fWi9Opd8fqi",
        "outputId": "664d7730-940c-45d2-cd4d-ce38c18a513a"
      },
      "outputs": [
        {
          "output_type": "execute_result",
          "data": {
            "text/plain": [
              "MaxT         0.0\n",
              "MinT         0.0\n",
              "Wind         0.0\n",
              "Rain         0.0\n",
              "RH1          0.0\n",
              "RH2          0.0\n",
              "Radiation    0.0\n",
              "dtype: float64"
            ]
          },
          "metadata": {},
          "execution_count": 54
        }
      ],
      "source": [
        "core_weather1[\"Radiation\"]=core_weather1[\"Radiation\"].fillna(0)\n",
        "core_weather1.apply(pd.isnull).sum()/df.shape[0]"
      ]
    },
    {
      "cell_type": "code",
      "execution_count": null,
      "metadata": {
        "colab": {
          "base_uri": "https://localhost:8080/",
          "height": 424
        },
        "id": "637haXva7Nco",
        "outputId": "95df6184-6cfe-4a3e-9077-053b066bb3d7"
      },
      "outputs": [
        {
          "output_type": "execute_result",
          "data": {
            "text/plain": [
              "       MaxT  MinT  Wind  Rain  RH1   RH2  Radiation\n",
              "0      28.5  14.2   5.7   0.0   68  31.0       18.4\n",
              "1      28.8  16.0   6.4   0.0   79  33.0       16.9\n",
              "2      29.0  14.5   5.4   0.0   86  37.0       15.3\n",
              "3      29.0  18.0   7.1   0.0   89  43.0       16.4\n",
              "4      27.8  17.0  10.5   0.0   81  47.0       15.9\n",
              "...     ...   ...   ...   ...  ...   ...        ...\n",
              "14848  29.5  22.2   9.6   4.5   93  64.0       12.9\n",
              "14849  29.2  22.6   9.2  13.2   90  70.0       11.7\n",
              "14850  29.6  22.4   7.6  14.0   91  63.0       15.0\n",
              "14851  30.6  23.0   8.2   0.0   87  59.0       19.7\n",
              "14852  30.6  23.0   7.0   0.0   90  62.0       18.0\n",
              "\n",
              "[14853 rows x 7 columns]"
            ],
            "text/html": [
              "\n",
              "  <div id=\"df-1f8521a4-0b92-441a-8674-aa8200a1d77b\">\n",
              "    <div class=\"colab-df-container\">\n",
              "      <div>\n",
              "<style scoped>\n",
              "    .dataframe tbody tr th:only-of-type {\n",
              "        vertical-align: middle;\n",
              "    }\n",
              "\n",
              "    .dataframe tbody tr th {\n",
              "        vertical-align: top;\n",
              "    }\n",
              "\n",
              "    .dataframe thead th {\n",
              "        text-align: right;\n",
              "    }\n",
              "</style>\n",
              "<table border=\"1\" class=\"dataframe\">\n",
              "  <thead>\n",
              "    <tr style=\"text-align: right;\">\n",
              "      <th></th>\n",
              "      <th>MaxT</th>\n",
              "      <th>MinT</th>\n",
              "      <th>Wind</th>\n",
              "      <th>Rain</th>\n",
              "      <th>RH1</th>\n",
              "      <th>RH2</th>\n",
              "      <th>Radiation</th>\n",
              "    </tr>\n",
              "  </thead>\n",
              "  <tbody>\n",
              "    <tr>\n",
              "      <th>0</th>\n",
              "      <td>28.5</td>\n",
              "      <td>14.2</td>\n",
              "      <td>5.7</td>\n",
              "      <td>0.0</td>\n",
              "      <td>68</td>\n",
              "      <td>31.0</td>\n",
              "      <td>18.4</td>\n",
              "    </tr>\n",
              "    <tr>\n",
              "      <th>1</th>\n",
              "      <td>28.8</td>\n",
              "      <td>16.0</td>\n",
              "      <td>6.4</td>\n",
              "      <td>0.0</td>\n",
              "      <td>79</td>\n",
              "      <td>33.0</td>\n",
              "      <td>16.9</td>\n",
              "    </tr>\n",
              "    <tr>\n",
              "      <th>2</th>\n",
              "      <td>29.0</td>\n",
              "      <td>14.5</td>\n",
              "      <td>5.4</td>\n",
              "      <td>0.0</td>\n",
              "      <td>86</td>\n",
              "      <td>37.0</td>\n",
              "      <td>15.3</td>\n",
              "    </tr>\n",
              "    <tr>\n",
              "      <th>3</th>\n",
              "      <td>29.0</td>\n",
              "      <td>18.0</td>\n",
              "      <td>7.1</td>\n",
              "      <td>0.0</td>\n",
              "      <td>89</td>\n",
              "      <td>43.0</td>\n",
              "      <td>16.4</td>\n",
              "    </tr>\n",
              "    <tr>\n",
              "      <th>4</th>\n",
              "      <td>27.8</td>\n",
              "      <td>17.0</td>\n",
              "      <td>10.5</td>\n",
              "      <td>0.0</td>\n",
              "      <td>81</td>\n",
              "      <td>47.0</td>\n",
              "      <td>15.9</td>\n",
              "    </tr>\n",
              "    <tr>\n",
              "      <th>...</th>\n",
              "      <td>...</td>\n",
              "      <td>...</td>\n",
              "      <td>...</td>\n",
              "      <td>...</td>\n",
              "      <td>...</td>\n",
              "      <td>...</td>\n",
              "      <td>...</td>\n",
              "    </tr>\n",
              "    <tr>\n",
              "      <th>14848</th>\n",
              "      <td>29.5</td>\n",
              "      <td>22.2</td>\n",
              "      <td>9.6</td>\n",
              "      <td>4.5</td>\n",
              "      <td>93</td>\n",
              "      <td>64.0</td>\n",
              "      <td>12.9</td>\n",
              "    </tr>\n",
              "    <tr>\n",
              "      <th>14849</th>\n",
              "      <td>29.2</td>\n",
              "      <td>22.6</td>\n",
              "      <td>9.2</td>\n",
              "      <td>13.2</td>\n",
              "      <td>90</td>\n",
              "      <td>70.0</td>\n",
              "      <td>11.7</td>\n",
              "    </tr>\n",
              "    <tr>\n",
              "      <th>14850</th>\n",
              "      <td>29.6</td>\n",
              "      <td>22.4</td>\n",
              "      <td>7.6</td>\n",
              "      <td>14.0</td>\n",
              "      <td>91</td>\n",
              "      <td>63.0</td>\n",
              "      <td>15.0</td>\n",
              "    </tr>\n",
              "    <tr>\n",
              "      <th>14851</th>\n",
              "      <td>30.6</td>\n",
              "      <td>23.0</td>\n",
              "      <td>8.2</td>\n",
              "      <td>0.0</td>\n",
              "      <td>87</td>\n",
              "      <td>59.0</td>\n",
              "      <td>19.7</td>\n",
              "    </tr>\n",
              "    <tr>\n",
              "      <th>14852</th>\n",
              "      <td>30.6</td>\n",
              "      <td>23.0</td>\n",
              "      <td>7.0</td>\n",
              "      <td>0.0</td>\n",
              "      <td>90</td>\n",
              "      <td>62.0</td>\n",
              "      <td>18.0</td>\n",
              "    </tr>\n",
              "  </tbody>\n",
              "</table>\n",
              "<p>14853 rows × 7 columns</p>\n",
              "</div>\n",
              "      <button class=\"colab-df-convert\" onclick=\"convertToInteractive('df-1f8521a4-0b92-441a-8674-aa8200a1d77b')\"\n",
              "              title=\"Convert this dataframe to an interactive table.\"\n",
              "              style=\"display:none;\">\n",
              "        \n",
              "  <svg xmlns=\"http://www.w3.org/2000/svg\" height=\"24px\"viewBox=\"0 0 24 24\"\n",
              "       width=\"24px\">\n",
              "    <path d=\"M0 0h24v24H0V0z\" fill=\"none\"/>\n",
              "    <path d=\"M18.56 5.44l.94 2.06.94-2.06 2.06-.94-2.06-.94-.94-2.06-.94 2.06-2.06.94zm-11 1L8.5 8.5l.94-2.06 2.06-.94-2.06-.94L8.5 2.5l-.94 2.06-2.06.94zm10 10l.94 2.06.94-2.06 2.06-.94-2.06-.94-.94-2.06-.94 2.06-2.06.94z\"/><path d=\"M17.41 7.96l-1.37-1.37c-.4-.4-.92-.59-1.43-.59-.52 0-1.04.2-1.43.59L10.3 9.45l-7.72 7.72c-.78.78-.78 2.05 0 2.83L4 21.41c.39.39.9.59 1.41.59.51 0 1.02-.2 1.41-.59l7.78-7.78 2.81-2.81c.8-.78.8-2.07 0-2.86zM5.41 20L4 18.59l7.72-7.72 1.47 1.35L5.41 20z\"/>\n",
              "  </svg>\n",
              "      </button>\n",
              "      \n",
              "  <style>\n",
              "    .colab-df-container {\n",
              "      display:flex;\n",
              "      flex-wrap:wrap;\n",
              "      gap: 12px;\n",
              "    }\n",
              "\n",
              "    .colab-df-convert {\n",
              "      background-color: #E8F0FE;\n",
              "      border: none;\n",
              "      border-radius: 50%;\n",
              "      cursor: pointer;\n",
              "      display: none;\n",
              "      fill: #1967D2;\n",
              "      height: 32px;\n",
              "      padding: 0 0 0 0;\n",
              "      width: 32px;\n",
              "    }\n",
              "\n",
              "    .colab-df-convert:hover {\n",
              "      background-color: #E2EBFA;\n",
              "      box-shadow: 0px 1px 2px rgba(60, 64, 67, 0.3), 0px 1px 3px 1px rgba(60, 64, 67, 0.15);\n",
              "      fill: #174EA6;\n",
              "    }\n",
              "\n",
              "    [theme=dark] .colab-df-convert {\n",
              "      background-color: #3B4455;\n",
              "      fill: #D2E3FC;\n",
              "    }\n",
              "\n",
              "    [theme=dark] .colab-df-convert:hover {\n",
              "      background-color: #434B5C;\n",
              "      box-shadow: 0px 1px 3px 1px rgba(0, 0, 0, 0.15);\n",
              "      filter: drop-shadow(0px 1px 2px rgba(0, 0, 0, 0.3));\n",
              "      fill: #FFFFFF;\n",
              "    }\n",
              "  </style>\n",
              "\n",
              "      <script>\n",
              "        const buttonEl =\n",
              "          document.querySelector('#df-1f8521a4-0b92-441a-8674-aa8200a1d77b button.colab-df-convert');\n",
              "        buttonEl.style.display =\n",
              "          google.colab.kernel.accessAllowed ? 'block' : 'none';\n",
              "\n",
              "        async function convertToInteractive(key) {\n",
              "          const element = document.querySelector('#df-1f8521a4-0b92-441a-8674-aa8200a1d77b');\n",
              "          const dataTable =\n",
              "            await google.colab.kernel.invokeFunction('convertToInteractive',\n",
              "                                                     [key], {});\n",
              "          if (!dataTable) return;\n",
              "\n",
              "          const docLinkHtml = 'Like what you see? Visit the ' +\n",
              "            '<a target=\"_blank\" href=https://colab.research.google.com/notebooks/data_table.ipynb>data table notebook</a>'\n",
              "            + ' to learn more about interactive tables.';\n",
              "          element.innerHTML = '';\n",
              "          dataTable['output_type'] = 'display_data';\n",
              "          await google.colab.output.renderOutput(dataTable, element);\n",
              "          const docLink = document.createElement('div');\n",
              "          docLink.innerHTML = docLinkHtml;\n",
              "          element.appendChild(docLink);\n",
              "        }\n",
              "      </script>\n",
              "    </div>\n",
              "  </div>\n",
              "  "
            ]
          },
          "metadata": {},
          "execution_count": 55
        }
      ],
      "source": [
        "core_weather1"
      ]
    },
    {
      "cell_type": "code",
      "execution_count": null,
      "metadata": {
        "id": "6sh6Gizcy25J"
      },
      "outputs": [],
      "source": [
        "core_weather1['weather_condition'] = 'Unknown'  # Initialize with a default label\n",
        "\n",
        "# Define conditions for different weather conditions\n",
        "conditions = [\n",
        "    (core_weather1['Rain'] > 0) & (core_weather1['Radiation'] < 200),\n",
        "    (core_weather1['MaxT']>=34),\n",
        "    (core_weather1['MinT'] <= 23),\n",
        "    (core_weather1['RH1'] > 80) | (core_weather1['RH2'] > 80),\n",
        "]\n",
        "# Define labels corresponding to each condition\n",
        "labels = ['Rainy', 'Hot', 'Cool', 'humid']\n",
        "\n",
        "# Assign the corresponding label based on the conditions\n",
        "for condition, label in zip(conditions, labels):\n",
        "    core_weather1.loc[condition, 'weather_condition'] = label\n",
        "\n",
        "# Split the dataset into features (X) and the target variable (y)\n",
        "X = core_weather1[['MaxT', 'MinT', 'Wind', 'Rain', 'RH1', 'RH2', 'Radiation']]\n",
        "y = core_weather1['weather_condition']"
      ]
    },
    {
      "cell_type": "code",
      "execution_count": null,
      "metadata": {
        "id": "C9zRmahq8fuk"
      },
      "outputs": [],
      "source": [
        "# Split the data into training and testing sets\n",
        "X_train, X_test, y_train, y_test = train_test_split(X, y, test_size=0.2, random_state=42)"
      ]
    },
    {
      "cell_type": "code",
      "execution_count": null,
      "metadata": {
        "colab": {
          "base_uri": "https://localhost:8080/",
          "height": 75
        },
        "id": "KiR3PExB8fx6",
        "outputId": "da1aaa43-e968-4f84-f4be-bbf6a0cd8a52"
      },
      "outputs": [
        {
          "output_type": "execute_result",
          "data": {
            "text/plain": [
              "SVC()"
            ],
            "text/html": [
              "<style>#sk-container-id-7 {color: black;background-color: white;}#sk-container-id-7 pre{padding: 0;}#sk-container-id-7 div.sk-toggleable {background-color: white;}#sk-container-id-7 label.sk-toggleable__label {cursor: pointer;display: block;width: 100%;margin-bottom: 0;padding: 0.3em;box-sizing: border-box;text-align: center;}#sk-container-id-7 label.sk-toggleable__label-arrow:before {content: \"▸\";float: left;margin-right: 0.25em;color: #696969;}#sk-container-id-7 label.sk-toggleable__label-arrow:hover:before {color: black;}#sk-container-id-7 div.sk-estimator:hover label.sk-toggleable__label-arrow:before {color: black;}#sk-container-id-7 div.sk-toggleable__content {max-height: 0;max-width: 0;overflow: hidden;text-align: left;background-color: #f0f8ff;}#sk-container-id-7 div.sk-toggleable__content pre {margin: 0.2em;color: black;border-radius: 0.25em;background-color: #f0f8ff;}#sk-container-id-7 input.sk-toggleable__control:checked~div.sk-toggleable__content {max-height: 200px;max-width: 100%;overflow: auto;}#sk-container-id-7 input.sk-toggleable__control:checked~label.sk-toggleable__label-arrow:before {content: \"▾\";}#sk-container-id-7 div.sk-estimator input.sk-toggleable__control:checked~label.sk-toggleable__label {background-color: #d4ebff;}#sk-container-id-7 div.sk-label input.sk-toggleable__control:checked~label.sk-toggleable__label {background-color: #d4ebff;}#sk-container-id-7 input.sk-hidden--visually {border: 0;clip: rect(1px 1px 1px 1px);clip: rect(1px, 1px, 1px, 1px);height: 1px;margin: -1px;overflow: hidden;padding: 0;position: absolute;width: 1px;}#sk-container-id-7 div.sk-estimator {font-family: monospace;background-color: #f0f8ff;border: 1px dotted black;border-radius: 0.25em;box-sizing: border-box;margin-bottom: 0.5em;}#sk-container-id-7 div.sk-estimator:hover {background-color: #d4ebff;}#sk-container-id-7 div.sk-parallel-item::after {content: \"\";width: 100%;border-bottom: 1px solid gray;flex-grow: 1;}#sk-container-id-7 div.sk-label:hover label.sk-toggleable__label {background-color: #d4ebff;}#sk-container-id-7 div.sk-serial::before {content: \"\";position: absolute;border-left: 1px solid gray;box-sizing: border-box;top: 0;bottom: 0;left: 50%;z-index: 0;}#sk-container-id-7 div.sk-serial {display: flex;flex-direction: column;align-items: center;background-color: white;padding-right: 0.2em;padding-left: 0.2em;position: relative;}#sk-container-id-7 div.sk-item {position: relative;z-index: 1;}#sk-container-id-7 div.sk-parallel {display: flex;align-items: stretch;justify-content: center;background-color: white;position: relative;}#sk-container-id-7 div.sk-item::before, #sk-container-id-7 div.sk-parallel-item::before {content: \"\";position: absolute;border-left: 1px solid gray;box-sizing: border-box;top: 0;bottom: 0;left: 50%;z-index: -1;}#sk-container-id-7 div.sk-parallel-item {display: flex;flex-direction: column;z-index: 1;position: relative;background-color: white;}#sk-container-id-7 div.sk-parallel-item:first-child::after {align-self: flex-end;width: 50%;}#sk-container-id-7 div.sk-parallel-item:last-child::after {align-self: flex-start;width: 50%;}#sk-container-id-7 div.sk-parallel-item:only-child::after {width: 0;}#sk-container-id-7 div.sk-dashed-wrapped {border: 1px dashed gray;margin: 0 0.4em 0.5em 0.4em;box-sizing: border-box;padding-bottom: 0.4em;background-color: white;}#sk-container-id-7 div.sk-label label {font-family: monospace;font-weight: bold;display: inline-block;line-height: 1.2em;}#sk-container-id-7 div.sk-label-container {text-align: center;}#sk-container-id-7 div.sk-container {/* jupyter's `normalize.less` sets `[hidden] { display: none; }` but bootstrap.min.css set `[hidden] { display: none !important; }` so we also need the `!important` here to be able to override the default hidden behavior on the sphinx rendered scikit-learn.org. See: https://github.com/scikit-learn/scikit-learn/issues/21755 */display: inline-block !important;position: relative;}#sk-container-id-7 div.sk-text-repr-fallback {display: none;}</style><div id=\"sk-container-id-7\" class=\"sk-top-container\"><div class=\"sk-text-repr-fallback\"><pre>SVC()</pre><b>In a Jupyter environment, please rerun this cell to show the HTML representation or trust the notebook. <br />On GitHub, the HTML representation is unable to render, please try loading this page with nbviewer.org.</b></div><div class=\"sk-container\" hidden><div class=\"sk-item\"><div class=\"sk-estimator sk-toggleable\"><input class=\"sk-toggleable__control sk-hidden--visually\" id=\"sk-estimator-id-7\" type=\"checkbox\" checked><label for=\"sk-estimator-id-7\" class=\"sk-toggleable__label sk-toggleable__label-arrow\">SVC</label><div class=\"sk-toggleable__content\"><pre>SVC()</pre></div></div></div></div></div>"
            ]
          },
          "metadata": {},
          "execution_count": 121
        }
      ],
      "source": [
        "# Create an SVM classifier\n",
        "svm_classifier = SVC()\n",
        "# Train the classifier\n",
        "svm_classifier.fit(X_train, y_train)"
      ]
    },
    {
      "cell_type": "code",
      "execution_count": null,
      "metadata": {
        "id": "4JQDPXhL8f1Y"
      },
      "outputs": [],
      "source": [
        "# Make predictions on the test set\n",
        "y_pred = svm_classifier.predict(X_test)"
      ]
    },
    {
      "cell_type": "code",
      "execution_count": null,
      "metadata": {
        "colab": {
          "base_uri": "https://localhost:8080/"
        },
        "id": "nx_aL8jI8f49",
        "outputId": "46cb49a8-0af4-46a9-d8eb-9fb4a9dd9d1b"
      },
      "outputs": [
        {
          "output_type": "stream",
          "name": "stdout",
          "text": [
            "Accuracy: 0.9656681252103669\n"
          ]
        }
      ],
      "source": [
        "# Accuracy of SVM classifier\n",
        "accuracy = accuracy_score(y_test, y_pred)\n",
        "print(\"Accuracy:\",accuracy)"
      ]
    },
    {
      "cell_type": "code",
      "source": [
        "from sklearn.metrics import accuracy_score\n",
        "precision=precision_score(y_test,y_pred,average='weighted')\n",
        "print(\"Precision:\",precision)"
      ],
      "metadata": {
        "colab": {
          "base_uri": "https://localhost:8080/"
        },
        "id": "2GpbF6ELHhtV",
        "outputId": "e2a84f5d-c866-4d72-f95f-0d91605b18e4"
      },
      "execution_count": null,
      "outputs": [
        {
          "output_type": "stream",
          "name": "stdout",
          "text": [
            "Precision: 0.9535031204625666\n"
          ]
        },
        {
          "output_type": "stream",
          "name": "stderr",
          "text": [
            "/usr/local/lib/python3.10/dist-packages/sklearn/metrics/_classification.py:1344: UndefinedMetricWarning: Precision is ill-defined and being set to 0.0 in labels with no predicted samples. Use `zero_division` parameter to control this behavior.\n",
            "  _warn_prf(average, modifier, msg_start, len(result))\n"
          ]
        }
      ]
    },
    {
      "cell_type": "code",
      "execution_count": null,
      "metadata": {
        "colab": {
          "base_uri": "https://localhost:8080/"
        },
        "id": "ox4u-66Q6zpW",
        "outputId": "d338330f-f04b-428f-f957-cbf42ba6ee40"
      },
      "outputs": [
        {
          "output_type": "stream",
          "name": "stdout",
          "text": [
            "       Actual MaxT Predicted MaxT\n",
            "3838          33.8          humid\n",
            "9129          30.2          humid\n",
            "5902          33.0           Cool\n",
            "13847         31.2          humid\n",
            "6860          31.0          humid\n",
            "...            ...            ...\n",
            "11662         28.6          humid\n",
            "4269          28.0          humid\n",
            "8101          34.2           Cool\n",
            "971           29.0          humid\n",
            "14598         28.0          humid\n",
            "\n",
            "[2971 rows x 2 columns]\n"
          ]
        }
      ],
      "source": [
        "actual_maxt = X_test['MaxT']\n",
        "predicted_maxt = X_test['MaxT'].copy()\n",
        "predicted_maxt.loc[:] = y_pred\n",
        "# Create a DataFrame to store actual and predicted 'MaxT' values\n",
        "maxt_results1 = pd.DataFrame({'Actual MaxT': actual_maxt, 'Predicted MaxT': predicted_maxt})\n",
        "\n",
        "# Print the table of actual and predicted 'MaxT' values\n",
        "print(maxt_results1)"
      ]
    },
    {
      "cell_type": "code",
      "execution_count": null,
      "metadata": {
        "colab": {
          "base_uri": "https://localhost:8080/"
        },
        "id": "IO3BV5nEUXUj",
        "outputId": "f4fec866-1851-4237-b255-9fc6d1e89deb"
      },
      "outputs": [
        {
          "output_type": "stream",
          "name": "stdout",
          "text": [
            "       Actual MaxT  Predicted MaxT\n",
            "3838          33.8               2\n",
            "9129          30.2               2\n",
            "5902          33.0               0\n",
            "13847         31.2               2\n",
            "6860          31.0               2\n",
            "...            ...             ...\n",
            "11662         28.6               2\n",
            "4269          28.0               2\n",
            "8101          34.2               0\n",
            "971           29.0               2\n",
            "14598         28.0               2\n",
            "\n",
            "[2971 rows x 2 columns]\n"
          ]
        }
      ],
      "source": [
        "label_encoder = LabelEncoder() #Convert into numerical values\n",
        "predicted_maxt_encoded = label_encoder.fit_transform(predicted_maxt)\n",
        "maxt_results2 = pd.DataFrame({'Actual MaxT': actual_maxt, 'Predicted MaxT': predicted_maxt_encoded})\n",
        "print(maxt_results2)"
      ]
    },
    {
      "cell_type": "code",
      "execution_count": null,
      "metadata": {
        "colab": {
          "base_uri": "https://localhost:8080/",
          "height": 657
        },
        "id": "eBUCmdlU6z1W",
        "outputId": "1c405ddd-5cef-44c8-d16b-f634e99a71e2"
      },
      "outputs": [
        {
          "output_type": "stream",
          "name": "stderr",
          "text": [
            "<ipython-input-63-c14329b09ffe>:2: UserWarning: \n",
            "\n",
            "`distplot` is a deprecated function and will be removed in seaborn v0.14.0.\n",
            "\n",
            "Please adapt your code to use either `displot` (a figure-level function with\n",
            "similar flexibility) or `histplot` (an axes-level function for histograms).\n",
            "\n",
            "For a guide to updating your code to use the new functions, please see\n",
            "https://gist.github.com/mwaskom/de44147ed2974457ad6372750bbe5751\n",
            "\n",
            "  sns.distplot(core_weather1[\"MaxT\"])\n"
          ]
        },
        {
          "output_type": "execute_result",
          "data": {
            "text/plain": [
              "<Axes: xlabel='MaxT', ylabel='Density'>"
            ]
          },
          "metadata": {},
          "execution_count": 63
        },
        {
          "output_type": "display_data",
          "data": {
            "text/plain": [
              "<Figure size 640x480 with 1 Axes>"
            ],
            "image/png": "[encoded data removed]"
          },
          "metadata": {}
        }
      ],
      "source": [
        "import seaborn as sns\n",
        "sns.distplot(core_weather1[\"MaxT\"])"
      ]
    },
    {
      "cell_type": "code",
      "execution_count": null,
      "metadata": {
        "id": "1VVaoVts6z-F"
      },
      "outputs": [],
      "source": [
        "#Weather prediction using Neural networks\n",
        "#Using Multilayer Perceptron Classifier (MLP Classifier) :- ANN"
      ]
    },
    {
      "cell_type": "code",
      "execution_count": null,
      "metadata": {
        "id": "7a6nPnlM60F_"
      },
      "outputs": [],
      "source": [
        "from sklearn.model_selection import train_test_split\n",
        "from sklearn.preprocessing import LabelEncoder\n",
        "from sklearn.metrics import accuracy_score\n",
        "from sklearn.neural_network import MLPClassifier\n",
        "from sklearn.metrics import precision_score"
      ]
    },
    {
      "cell_type": "code",
      "execution_count": null,
      "metadata": {
        "colab": {
          "base_uri": "https://localhost:8080/",
          "height": 424
        },
        "id": "gtnmLa7w60Kk",
        "outputId": "e892582a-dba3-4dd2-8955-963bfbfc4f79"
      },
      "outputs": [
        {
          "output_type": "execute_result",
          "data": {
            "text/plain": [
              "       MaxT  MinT  Wind  Rain  RH1   RH2  Radiation weather_condition\n",
              "0      28.5  14.2   5.7   0.0   68  31.0       18.4              Cool\n",
              "1      28.8  16.0   6.4   0.0   79  33.0       16.9              Cool\n",
              "2      29.0  14.5   5.4   0.0   86  37.0       15.3             humid\n",
              "3      29.0  18.0   7.1   0.0   89  43.0       16.4             humid\n",
              "4      27.8  17.0  10.5   0.0   81  47.0       15.9             humid\n",
              "...     ...   ...   ...   ...  ...   ...        ...               ...\n",
              "14848  29.5  22.2   9.6   4.5   93  64.0       12.9             humid\n",
              "14849  29.2  22.6   9.2  13.2   90  70.0       11.7             humid\n",
              "14850  29.6  22.4   7.6  14.0   91  63.0       15.0             humid\n",
              "14851  30.6  23.0   8.2   0.0   87  59.0       19.7             humid\n",
              "14852  30.6  23.0   7.0   0.0   90  62.0       18.0             humid\n",
              "\n",
              "[14853 rows x 8 columns]"
            ],
            "text/html": [
              "\n",
              "  <div id=\"df-3b6a3439-ec73-47d7-b5da-04d8c029f0ba\">\n",
              "    <div class=\"colab-df-container\">\n",
              "      <div>\n",
              "<style scoped>\n",
              "    .dataframe tbody tr th:only-of-type {\n",
              "        vertical-align: middle;\n",
              "    }\n",
              "\n",
              "    .dataframe tbody tr th {\n",
              "        vertical-align: top;\n",
              "    }\n",
              "\n",
              "    .dataframe thead th {\n",
              "        text-align: right;\n",
              "    }\n",
              "</style>\n",
              "<table border=\"1\" class=\"dataframe\">\n",
              "  <thead>\n",
              "    <tr style=\"text-align: right;\">\n",
              "      <th></th>\n",
              "      <th>MaxT</th>\n",
              "      <th>MinT</th>\n",
              "      <th>Wind</th>\n",
              "      <th>Rain</th>\n",
              "      <th>RH1</th>\n",
              "      <th>RH2</th>\n",
              "      <th>Radiation</th>\n",
              "      <th>weather_condition</th>\n",
              "    </tr>\n",
              "  </thead>\n",
              "  <tbody>\n",
              "    <tr>\n",
              "      <th>0</th>\n",
              "      <td>28.5</td>\n",
              "      <td>14.2</td>\n",
              "      <td>5.7</td>\n",
              "      <td>0.0</td>\n",
              "      <td>68</td>\n",
              "      <td>31.0</td>\n",
              "      <td>18.4</td>\n",
              "      <td>Cool</td>\n",
              "    </tr>\n",
              "    <tr>\n",
              "      <th>1</th>\n",
              "      <td>28.8</td>\n",
              "      <td>16.0</td>\n",
              "      <td>6.4</td>\n",
              "      <td>0.0</td>\n",
              "      <td>79</td>\n",
              "      <td>33.0</td>\n",
              "      <td>16.9</td>\n",
              "      <td>Cool</td>\n",
              "    </tr>\n",
              "    <tr>\n",
              "      <th>2</th>\n",
              "      <td>29.0</td>\n",
              "      <td>14.5</td>\n",
              "      <td>5.4</td>\n",
              "      <td>0.0</td>\n",
              "      <td>86</td>\n",
              "      <td>37.0</td>\n",
              "      <td>15.3</td>\n",
              "      <td>humid</td>\n",
              "    </tr>\n",
              "    <tr>\n",
              "      <th>3</th>\n",
              "      <td>29.0</td>\n",
              "      <td>18.0</td>\n",
              "      <td>7.1</td>\n",
              "      <td>0.0</td>\n",
              "      <td>89</td>\n",
              "      <td>43.0</td>\n",
              "      <td>16.4</td>\n",
              "      <td>humid</td>\n",
              "    </tr>\n",
              "    <tr>\n",
              "      <th>4</th>\n",
              "      <td>27.8</td>\n",
              "      <td>17.0</td>\n",
              "      <td>10.5</td>\n",
              "      <td>0.0</td>\n",
              "      <td>81</td>\n",
              "      <td>47.0</td>\n",
              "      <td>15.9</td>\n",
              "      <td>humid</td>\n",
              "    </tr>\n",
              "    <tr>\n",
              "      <th>...</th>\n",
              "      <td>...</td>\n",
              "      <td>...</td>\n",
              "      <td>...</td>\n",
              "      <td>...</td>\n",
              "      <td>...</td>\n",
              "      <td>...</td>\n",
              "      <td>...</td>\n",
              "      <td>...</td>\n",
              "    </tr>\n",
              "    <tr>\n",
              "      <th>14848</th>\n",
              "      <td>29.5</td>\n",
              "      <td>22.2</td>\n",
              "      <td>9.6</td>\n",
              "      <td>4.5</td>\n",
              "      <td>93</td>\n",
              "      <td>64.0</td>\n",
              "      <td>12.9</td>\n",
              "      <td>humid</td>\n",
              "    </tr>\n",
              "    <tr>\n",
              "      <th>14849</th>\n",
              "      <td>29.2</td>\n",
              "      <td>22.6</td>\n",
              "      <td>9.2</td>\n",
              "      <td>13.2</td>\n",
              "      <td>90</td>\n",
              "      <td>70.0</td>\n",
              "      <td>11.7</td>\n",
              "      <td>humid</td>\n",
              "    </tr>\n",
              "    <tr>\n",
              "      <th>14850</th>\n",
              "      <td>29.6</td>\n",
              "      <td>22.4</td>\n",
              "      <td>7.6</td>\n",
              "      <td>14.0</td>\n",
              "      <td>91</td>\n",
              "      <td>63.0</td>\n",
              "      <td>15.0</td>\n",
              "      <td>humid</td>\n",
              "    </tr>\n",
              "    <tr>\n",
              "      <th>14851</th>\n",
              "      <td>30.6</td>\n",
              "      <td>23.0</td>\n",
              "      <td>8.2</td>\n",
              "      <td>0.0</td>\n",
              "      <td>87</td>\n",
              "      <td>59.0</td>\n",
              "      <td>19.7</td>\n",
              "      <td>humid</td>\n",
              "    </tr>\n",
              "    <tr>\n",
              "      <th>14852</th>\n",
              "      <td>30.6</td>\n",
              "      <td>23.0</td>\n",
              "      <td>7.0</td>\n",
              "      <td>0.0</td>\n",
              "      <td>90</td>\n",
              "      <td>62.0</td>\n",
              "      <td>18.0</td>\n",
              "      <td>humid</td>\n",
              "    </tr>\n",
              "  </tbody>\n",
              "</table>\n",
              "<p>14853 rows × 8 columns</p>\n",
              "</div>\n",
              "      <button class=\"colab-df-convert\" onclick=\"convertToInteractive('df-3b6a3439-ec73-47d7-b5da-04d8c029f0ba')\"\n",
              "              title=\"Convert this dataframe to an interactive table.\"\n",
              "              style=\"display:none;\">\n",
              "        \n",
              "  <svg xmlns=\"http://www.w3.org/2000/svg\" height=\"24px\"viewBox=\"0 0 24 24\"\n",
              "       width=\"24px\">\n",
              "    <path d=\"M0 0h24v24H0V0z\" fill=\"none\"/>\n",
              "    <path d=\"M18.56 5.44l.94 2.06.94-2.06 2.06-.94-2.06-.94-.94-2.06-.94 2.06-2.06.94zm-11 1L8.5 8.5l.94-2.06 2.06-.94-2.06-.94L8.5 2.5l-.94 2.06-2.06.94zm10 10l.94 2.06.94-2.06 2.06-.94-2.06-.94-.94-2.06-.94 2.06-2.06.94z\"/><path d=\"M17.41 7.96l-1.37-1.37c-.4-.4-.92-.59-1.43-.59-.52 0-1.04.2-1.43.59L10.3 9.45l-7.72 7.72c-.78.78-.78 2.05 0 2.83L4 21.41c.39.39.9.59 1.41.59.51 0 1.02-.2 1.41-.59l7.78-7.78 2.81-2.81c.8-.78.8-2.07 0-2.86zM5.41 20L4 18.59l7.72-7.72 1.47 1.35L5.41 20z\"/>\n",
              "  </svg>\n",
              "      </button>\n",
              "      \n",
              "  <style>\n",
              "    .colab-df-container {\n",
              "      display:flex;\n",
              "      flex-wrap:wrap;\n",
              "      gap: 12px;\n",
              "    }\n",
              "\n",
              "    .colab-df-convert {\n",
              "      background-color: #E8F0FE;\n",
              "      border: none;\n",
              "      border-radius: 50%;\n",
              "      cursor: pointer;\n",
              "      display: none;\n",
              "      fill: #1967D2;\n",
              "      height: 32px;\n",
              "      padding: 0 0 0 0;\n",
              "      width: 32px;\n",
              "    }\n",
              "\n",
              "    .colab-df-convert:hover {\n",
              "      background-color: #E2EBFA;\n",
              "      box-shadow: 0px 1px 2px rgba(60, 64, 67, 0.3), 0px 1px 3px 1px rgba(60, 64, 67, 0.15);\n",
              "      fill: #174EA6;\n",
              "    }\n",
              "\n",
              "    [theme=dark] .colab-df-convert {\n",
              "      background-color: #3B4455;\n",
              "      fill: #D2E3FC;\n",
              "    }\n",
              "\n",
              "    [theme=dark] .colab-df-convert:hover {\n",
              "      background-color: #434B5C;\n",
              "      box-shadow: 0px 1px 3px 1px rgba(0, 0, 0, 0.15);\n",
              "      filter: drop-shadow(0px 1px 2px rgba(0, 0, 0, 0.3));\n",
              "      fill: #FFFFFF;\n",
              "    }\n",
              "  </style>\n",
              "\n",
              "      <script>\n",
              "        const buttonEl =\n",
              "          document.querySelector('#df-3b6a3439-ec73-47d7-b5da-04d8c029f0ba button.colab-df-convert');\n",
              "        buttonEl.style.display =\n",
              "          google.colab.kernel.accessAllowed ? 'block' : 'none';\n",
              "\n",
              "        async function convertToInteractive(key) {\n",
              "          const element = document.querySelector('#df-3b6a3439-ec73-47d7-b5da-04d8c029f0ba');\n",
              "          const dataTable =\n",
              "            await google.colab.kernel.invokeFunction('convertToInteractive',\n",
              "                                                     [key], {});\n",
              "          if (!dataTable) return;\n",
              "\n",
              "          const docLinkHtml = 'Like what you see? Visit the ' +\n",
              "            '<a target=\"_blank\" href=https://colab.research.google.com/notebooks/data_table.ipynb>data table notebook</a>'\n",
              "            + ' to learn more about interactive tables.';\n",
              "          element.innerHTML = '';\n",
              "          dataTable['output_type'] = 'display_data';\n",
              "          await google.colab.output.renderOutput(dataTable, element);\n",
              "          const docLink = document.createElement('div');\n",
              "          docLink.innerHTML = docLinkHtml;\n",
              "          element.appendChild(docLink);\n",
              "        }\n",
              "      </script>\n",
              "    </div>\n",
              "  </div>\n",
              "  "
            ]
          },
          "metadata": {},
          "execution_count": 98
        }
      ],
      "source": [
        "core_weather1"
      ]
    },
    {
      "cell_type": "code",
      "execution_count": null,
      "metadata": {
        "id": "XBsMUIGT60Q2"
      },
      "outputs": [],
      "source": [
        "core_weather1['weather_condition'] = 'Unknown'  # Initialize with a default label\n",
        "\n",
        "# Define conditions for different weather conditions\n",
        "conditions = [\n",
        "    (core_weather1['Rain'] > 0) & (core_weather1['Radiation'] < 200),\n",
        "    (core_weather1['MaxT']>=34),\n",
        "    (core_weather1['MinT'] <= 23),\n",
        "    (core_weather1['RH1'] > 80) | (core_weather1['RH2'] > 80),\n",
        "]\n",
        "# Define labels corresponding to each condition\n",
        "labels = ['Rainy', 'Hot', 'Cool', 'humid']\n",
        "\n",
        "# Assign the corresponding label based on the conditions\n",
        "for condition, label in zip(conditions, labels):\n",
        "    core_weather1.loc[condition, 'weather_condition'] = label\n",
        "\n",
        "# Split the dataset into features (X) and the target variable (y)\n",
        "X = core_weather1[['MaxT', 'MinT', 'Wind', 'Rain', 'RH1', 'RH2', 'Radiation']]\n",
        "y = core_weather1['weather_condition']"
      ]
    },
    {
      "cell_type": "code",
      "execution_count": null,
      "metadata": {
        "id": "5OGR6NU060V1"
      },
      "outputs": [],
      "source": [
        "# Convert the target variable to numerical labels using LabelEncoder\n",
        "label_encoder = LabelEncoder()\n",
        "y = label_encoder.fit_transform(y)\n",
        "\n",
        "# Split the data into training and testing sets\n",
        "X_train, X_test, y_train, y_test = train_test_split(X, y, test_size=0.2, random_state=42)"
      ]
    },
    {
      "cell_type": "code",
      "execution_count": null,
      "metadata": {
        "id": "ZjeNvcWB60ZW"
      },
      "outputs": [],
      "source": [
        "# Create a neural network classifier with increased max_iter\n",
        "nn_classifier = MLPClassifier(hidden_layer_sizes=(100, 50), activation='relu', max_iter=1000, random_state=42)"
      ]
    },
    {
      "cell_type": "code",
      "execution_count": null,
      "metadata": {
        "id": "TH2ietSJ60di",
        "colab": {
          "base_uri": "https://localhost:8080/",
          "height": 75
        },
        "outputId": "7b2025b0-8fda-4403-ffb5-abd79fbde266"
      },
      "outputs": [
        {
          "output_type": "execute_result",
          "data": {
            "text/plain": [
              "MLPClassifier(hidden_layer_sizes=(100, 50), max_iter=1000, random_state=42)"
            ],
            "text/html": [
              "<style>#sk-container-id-5 {color: black;background-color: white;}#sk-container-id-5 pre{padding: 0;}#sk-container-id-5 div.sk-toggleable {background-color: white;}#sk-container-id-5 label.sk-toggleable__label {cursor: pointer;display: block;width: 100%;margin-bottom: 0;padding: 0.3em;box-sizing: border-box;text-align: center;}#sk-container-id-5 label.sk-toggleable__label-arrow:before {content: \"▸\";float: left;margin-right: 0.25em;color: #696969;}#sk-container-id-5 label.sk-toggleable__label-arrow:hover:before {color: black;}#sk-container-id-5 div.sk-estimator:hover label.sk-toggleable__label-arrow:before {color: black;}#sk-container-id-5 div.sk-toggleable__content {max-height: 0;max-width: 0;overflow: hidden;text-align: left;background-color: #f0f8ff;}#sk-container-id-5 div.sk-toggleable__content pre {margin: 0.2em;color: black;border-radius: 0.25em;background-color: #f0f8ff;}#sk-container-id-5 input.sk-toggleable__control:checked~div.sk-toggleable__content {max-height: 200px;max-width: 100%;overflow: auto;}#sk-container-id-5 input.sk-toggleable__control:checked~label.sk-toggleable__label-arrow:before {content: \"▾\";}#sk-container-id-5 div.sk-estimator input.sk-toggleable__control:checked~label.sk-toggleable__label {background-color: #d4ebff;}#sk-container-id-5 div.sk-label input.sk-toggleable__control:checked~label.sk-toggleable__label {background-color: #d4ebff;}#sk-container-id-5 input.sk-hidden--visually {border: 0;clip: rect(1px 1px 1px 1px);clip: rect(1px, 1px, 1px, 1px);height: 1px;margin: -1px;overflow: hidden;padding: 0;position: absolute;width: 1px;}#sk-container-id-5 div.sk-estimator {font-family: monospace;background-color: #f0f8ff;border: 1px dotted black;border-radius: 0.25em;box-sizing: border-box;margin-bottom: 0.5em;}#sk-container-id-5 div.sk-estimator:hover {background-color: #d4ebff;}#sk-container-id-5 div.sk-parallel-item::after {content: \"\";width: 100%;border-bottom: 1px solid gray;flex-grow: 1;}#sk-container-id-5 div.sk-label:hover label.sk-toggleable__label {background-color: #d4ebff;}#sk-container-id-5 div.sk-serial::before {content: \"\";position: absolute;border-left: 1px solid gray;box-sizing: border-box;top: 0;bottom: 0;left: 50%;z-index: 0;}#sk-container-id-5 div.sk-serial {display: flex;flex-direction: column;align-items: center;background-color: white;padding-right: 0.2em;padding-left: 0.2em;position: relative;}#sk-container-id-5 div.sk-item {position: relative;z-index: 1;}#sk-container-id-5 div.sk-parallel {display: flex;align-items: stretch;justify-content: center;background-color: white;position: relative;}#sk-container-id-5 div.sk-item::before, #sk-container-id-5 div.sk-parallel-item::before {content: \"\";position: absolute;border-left: 1px solid gray;box-sizing: border-box;top: 0;bottom: 0;left: 50%;z-index: -1;}#sk-container-id-5 div.sk-parallel-item {display: flex;flex-direction: column;z-index: 1;position: relative;background-color: white;}#sk-container-id-5 div.sk-parallel-item:first-child::after {align-self: flex-end;width: 50%;}#sk-container-id-5 div.sk-parallel-item:last-child::after {align-self: flex-start;width: 50%;}#sk-container-id-5 div.sk-parallel-item:only-child::after {width: 0;}#sk-container-id-5 div.sk-dashed-wrapped {border: 1px dashed gray;margin: 0 0.4em 0.5em 0.4em;box-sizing: border-box;padding-bottom: 0.4em;background-color: white;}#sk-container-id-5 div.sk-label label {font-family: monospace;font-weight: bold;display: inline-block;line-height: 1.2em;}#sk-container-id-5 div.sk-label-container {text-align: center;}#sk-container-id-5 div.sk-container {/* jupyter's `normalize.less` sets `[hidden] { display: none; }` but bootstrap.min.css set `[hidden] { display: none !important; }` so we also need the `!important` here to be able to override the default hidden behavior on the sphinx rendered scikit-learn.org. See: https://github.com/scikit-learn/scikit-learn/issues/21755 */display: inline-block !important;position: relative;}#sk-container-id-5 div.sk-text-repr-fallback {display: none;}</style><div id=\"sk-container-id-5\" class=\"sk-top-container\"><div class=\"sk-text-repr-fallback\"><pre>MLPClassifier(hidden_layer_sizes=(100, 50), max_iter=1000, random_state=42)</pre><b>In a Jupyter environment, please rerun this cell to show the HTML representation or trust the notebook. <br />On GitHub, the HTML representation is unable to render, please try loading this page with nbviewer.org.</b></div><div class=\"sk-container\" hidden><div class=\"sk-item\"><div class=\"sk-estimator sk-toggleable\"><input class=\"sk-toggleable__control sk-hidden--visually\" id=\"sk-estimator-id-5\" type=\"checkbox\" checked><label for=\"sk-estimator-id-5\" class=\"sk-toggleable__label sk-toggleable__label-arrow\">MLPClassifier</label><div class=\"sk-toggleable__content\"><pre>MLPClassifier(hidden_layer_sizes=(100, 50), max_iter=1000, random_state=42)</pre></div></div></div></div></div>"
            ]
          },
          "metadata": {},
          "execution_count": 105
        }
      ],
      "source": [
        "# Train the classifier\n",
        "nn_classifier.fit(X_train, y_train)"
      ]
    },
    {
      "cell_type": "code",
      "source": [
        "# Make predictions on the test set\n",
        "y_pred = nn_classifier.predict(X_test)"
      ],
      "metadata": {
        "id": "i6jUceK3nTJD"
      },
      "execution_count": null,
      "outputs": []
    },
    {
      "cell_type": "code",
      "execution_count": null,
      "metadata": {
        "id": "AkhzHJLD60jF",
        "colab": {
          "base_uri": "https://localhost:8080/"
        },
        "outputId": "e446710f-c002-43dc-f43a-792ce230378a"
      },
      "outputs": [
        {
          "output_type": "stream",
          "name": "stdout",
          "text": [
            "Accuracy: 0.9599461460787614\n"
          ]
        }
      ],
      "source": [
        "# Calculate the accuracy of the classifier\n",
        "accuracy = accuracy_score(y_test, y_pred)\n",
        "print(\"Accuracy:\", accuracy)"
      ]
    },
    {
      "cell_type": "code",
      "source": [
        "from sklearn.metrics import accuracy_score\n",
        "precision=precision_score(y_test,y_pred,average='weighted')\n",
        "print(\"Precision:\",precision)"
      ],
      "metadata": {
        "colab": {
          "base_uri": "https://localhost:8080/"
        },
        "id": "Tg4wz5ugGTkJ",
        "outputId": "219a639b-d7d0-432d-e7db-2a68aff5c923"
      },
      "execution_count": null,
      "outputs": [
        {
          "output_type": "stream",
          "name": "stdout",
          "text": [
            "Precision: 0.9593796205326801\n"
          ]
        }
      ]
    },
    {
      "cell_type": "code",
      "source": [
        "#Using Decision Trees"
      ],
      "metadata": {
        "id": "YeoK8NnyneYs"
      },
      "execution_count": null,
      "outputs": []
    },
    {
      "cell_type": "code",
      "source": [
        "from sklearn.model_selection import train_test_split\n",
        "from sklearn.tree import DecisionTreeClassifier\n",
        "from sklearn.metrics import accuracy_score\n",
        "from sklearn.metrics import precision_score"
      ],
      "metadata": {
        "id": "qXBQtIBFnedI"
      },
      "execution_count": null,
      "outputs": []
    },
    {
      "cell_type": "code",
      "source": [
        "core_weather1['weather_condition'] = 'Unknown'  # Initialize with a default label\n",
        "\n",
        "# Define conditions for different weather conditions\n",
        "conditions = [\n",
        "    (core_weather1['Rain'] > 0) & (core_weather1['Radiation'] < 200),\n",
        "    (core_weather1['MaxT']>=34),\n",
        "    (core_weather1['MinT'] <= 23),\n",
        "    (core_weather1['RH1'] > 80) | (core_weather1['RH2'] > 80),\n",
        "]\n",
        "# Define labels corresponding to each condition\n",
        "labels = ['Rainy', 'Hot', 'Cool', 'humid']\n",
        "\n",
        "# Assign the corresponding label based on the conditions\n",
        "for condition, label in zip(conditions, labels):\n",
        "    core_weather1.loc[condition, 'weather_condition'] = label\n",
        "\n",
        "# Split the dataset into features (X) and the target variable (y)\n",
        "X = core_weather1[['MaxT', 'MinT', 'Wind', 'Rain', 'RH1', 'RH2', 'Radiation']]\n",
        "y = core_weather1['weather_condition']"
      ],
      "metadata": {
        "id": "0wgGxorAnei0"
      },
      "execution_count": null,
      "outputs": []
    },
    {
      "cell_type": "code",
      "source": [
        "# Convert the target variable to numerical labels using LabelEncoder\n",
        "label_encoder = LabelEncoder()\n",
        "y = label_encoder.fit_transform(y)\n",
        "\n",
        "# Split the data into training and testing sets\n",
        "X_train, X_test, y_train, y_test = train_test_split(X, y, test_size=0.2, random_state=42)"
      ],
      "metadata": {
        "id": "-fwgVEL4of1H"
      },
      "execution_count": null,
      "outputs": []
    },
    {
      "cell_type": "code",
      "source": [
        "# Create a decision tree classifier\n",
        "dt_classifier = DecisionTreeClassifier()"
      ],
      "metadata": {
        "id": "H_7gRo-jof64"
      },
      "execution_count": null,
      "outputs": []
    },
    {
      "cell_type": "code",
      "source": [
        "# Train the classifier\n",
        "dt_classifier.fit(X_train, y_train)"
      ],
      "metadata": {
        "colab": {
          "base_uri": "https://localhost:8080/",
          "height": 75
        },
        "id": "PgjgdE7tHKSx",
        "outputId": "41c08337-9eec-44c2-c107-7d73b344ff8a"
      },
      "execution_count": null,
      "outputs": [
        {
          "output_type": "execute_result",
          "data": {
            "text/plain": [
              "DecisionTreeClassifier()"
            ],
            "text/html": [
              "<style>#sk-container-id-6 {color: black;background-color: white;}#sk-container-id-6 pre{padding: 0;}#sk-container-id-6 div.sk-toggleable {background-color: white;}#sk-container-id-6 label.sk-toggleable__label {cursor: pointer;display: block;width: 100%;margin-bottom: 0;padding: 0.3em;box-sizing: border-box;text-align: center;}#sk-container-id-6 label.sk-toggleable__label-arrow:before {content: \"▸\";float: left;margin-right: 0.25em;color: #696969;}#sk-container-id-6 label.sk-toggleable__label-arrow:hover:before {color: black;}#sk-container-id-6 div.sk-estimator:hover label.sk-toggleable__label-arrow:before {color: black;}#sk-container-id-6 div.sk-toggleable__content {max-height: 0;max-width: 0;overflow: hidden;text-align: left;background-color: #f0f8ff;}#sk-container-id-6 div.sk-toggleable__content pre {margin: 0.2em;color: black;border-radius: 0.25em;background-color: #f0f8ff;}#sk-container-id-6 input.sk-toggleable__control:checked~div.sk-toggleable__content {max-height: 200px;max-width: 100%;overflow: auto;}#sk-container-id-6 input.sk-toggleable__control:checked~label.sk-toggleable__label-arrow:before {content: \"▾\";}#sk-container-id-6 div.sk-estimator input.sk-toggleable__control:checked~label.sk-toggleable__label {background-color: #d4ebff;}#sk-container-id-6 div.sk-label input.sk-toggleable__control:checked~label.sk-toggleable__label {background-color: #d4ebff;}#sk-container-id-6 input.sk-hidden--visually {border: 0;clip: rect(1px 1px 1px 1px);clip: rect(1px, 1px, 1px, 1px);height: 1px;margin: -1px;overflow: hidden;padding: 0;position: absolute;width: 1px;}#sk-container-id-6 div.sk-estimator {font-family: monospace;background-color: #f0f8ff;border: 1px dotted black;border-radius: 0.25em;box-sizing: border-box;margin-bottom: 0.5em;}#sk-container-id-6 div.sk-estimator:hover {background-color: #d4ebff;}#sk-container-id-6 div.sk-parallel-item::after {content: \"\";width: 100%;border-bottom: 1px solid gray;flex-grow: 1;}#sk-container-id-6 div.sk-label:hover label.sk-toggleable__label {background-color: #d4ebff;}#sk-container-id-6 div.sk-serial::before {content: \"\";position: absolute;border-left: 1px solid gray;box-sizing: border-box;top: 0;bottom: 0;left: 50%;z-index: 0;}#sk-container-id-6 div.sk-serial {display: flex;flex-direction: column;align-items: center;background-color: white;padding-right: 0.2em;padding-left: 0.2em;position: relative;}#sk-container-id-6 div.sk-item {position: relative;z-index: 1;}#sk-container-id-6 div.sk-parallel {display: flex;align-items: stretch;justify-content: center;background-color: white;position: relative;}#sk-container-id-6 div.sk-item::before, #sk-container-id-6 div.sk-parallel-item::before {content: \"\";position: absolute;border-left: 1px solid gray;box-sizing: border-box;top: 0;bottom: 0;left: 50%;z-index: -1;}#sk-container-id-6 div.sk-parallel-item {display: flex;flex-direction: column;z-index: 1;position: relative;background-color: white;}#sk-container-id-6 div.sk-parallel-item:first-child::after {align-self: flex-end;width: 50%;}#sk-container-id-6 div.sk-parallel-item:last-child::after {align-self: flex-start;width: 50%;}#sk-container-id-6 div.sk-parallel-item:only-child::after {width: 0;}#sk-container-id-6 div.sk-dashed-wrapped {border: 1px dashed gray;margin: 0 0.4em 0.5em 0.4em;box-sizing: border-box;padding-bottom: 0.4em;background-color: white;}#sk-container-id-6 div.sk-label label {font-family: monospace;font-weight: bold;display: inline-block;line-height: 1.2em;}#sk-container-id-6 div.sk-label-container {text-align: center;}#sk-container-id-6 div.sk-container {/* jupyter's `normalize.less` sets `[hidden] { display: none; }` but bootstrap.min.css set `[hidden] { display: none !important; }` so we also need the `!important` here to be able to override the default hidden behavior on the sphinx rendered scikit-learn.org. See: https://github.com/scikit-learn/scikit-learn/issues/21755 */display: inline-block !important;position: relative;}#sk-container-id-6 div.sk-text-repr-fallback {display: none;}</style><div id=\"sk-container-id-6\" class=\"sk-top-container\"><div class=\"sk-text-repr-fallback\"><pre>DecisionTreeClassifier()</pre><b>In a Jupyter environment, please rerun this cell to show the HTML representation or trust the notebook. <br />On GitHub, the HTML representation is unable to render, please try loading this page with nbviewer.org.</b></div><div class=\"sk-container\" hidden><div class=\"sk-item\"><div class=\"sk-estimator sk-toggleable\"><input class=\"sk-toggleable__control sk-hidden--visually\" id=\"sk-estimator-id-6\" type=\"checkbox\" checked><label for=\"sk-estimator-id-6\" class=\"sk-toggleable__label sk-toggleable__label-arrow\">DecisionTreeClassifier</label><div class=\"sk-toggleable__content\"><pre>DecisionTreeClassifier()</pre></div></div></div></div></div>"
            ]
          },
          "metadata": {},
          "execution_count": 116
        }
      ]
    },
    {
      "cell_type": "code",
      "source": [
        "# Make predictions on the test set\n",
        "y_pred = dt_classifier.predict(X_test)"
      ],
      "metadata": {
        "id": "7NWed3J1HQor"
      },
      "execution_count": null,
      "outputs": []
    },
    {
      "cell_type": "code",
      "source": [
        "# Calculate accuracy and precision\n",
        "accuracy = accuracy_score(y_test, y_pred)\n",
        "print(\"Accuracy:\", accuracy)"
      ],
      "metadata": {
        "id": "_2J5xqEHogDM",
        "colab": {
          "base_uri": "https://localhost:8080/"
        },
        "outputId": "3b61d0d3-7a5d-407e-f27c-a6eb10eaa838"
      },
      "execution_count": null,
      "outputs": [
        {
          "output_type": "stream",
          "name": "stdout",
          "text": [
            "Accuracy: 1.0\n"
          ]
        }
      ]
    },
    {
      "cell_type": "code",
      "source": [
        "precision = precision_score(y_test, y_pred, average='weighted') #Over fitting\n",
        "print(\"Precision:\", precision)"
      ],
      "metadata": {
        "colab": {
          "base_uri": "https://localhost:8080/"
        },
        "id": "Ajlv1Aj-ogI-",
        "outputId": "14354c82-ce75-4e65-89db-d7a4a52f2a52"
      },
      "execution_count": null,
      "outputs": [
        {
          "output_type": "stream",
          "name": "stdout",
          "text": [
            "Precision: 1.0\n"
          ]
        }
      ]
    },
    {
      "cell_type": "code",
      "source": [
        "actual_maxt = X_test['MaxT']\n",
        "predicted_maxt = X_test['MaxT'].copy()\n",
        "predicted_maxt.loc[:] = y_pred\n",
        "# Create a DataFrame to store actual and predicted 'MaxT' values\n",
        "maxt_results1 = pd.DataFrame({'Actual MaxT': actual_maxt, 'Predicted MaxT': predicted_maxt})\n",
        "\n",
        "# Print the table of actual and predicted 'MaxT' values\n",
        "print(maxt_results1)"
      ],
      "metadata": {
        "colab": {
          "base_uri": "https://localhost:8080/"
        },
        "id": "NrIYIGe1ogMj",
        "outputId": "246eaab2-de11-4afe-8198-6cf572b4bd49"
      },
      "execution_count": null,
      "outputs": [
        {
          "output_type": "stream",
          "name": "stdout",
          "text": [
            "       Actual MaxT  Predicted MaxT\n",
            "3838          33.8             4.0\n",
            "9129          30.2             4.0\n",
            "5902          33.0             0.0\n",
            "13847         31.2             4.0\n",
            "6860          31.0             4.0\n",
            "...            ...             ...\n",
            "11662         28.6             4.0\n",
            "4269          28.0             4.0\n",
            "8101          34.2             0.0\n",
            "971           29.0             4.0\n",
            "14598         28.0             4.0\n",
            "\n",
            "[2971 rows x 2 columns]\n"
          ]
        }
      ]
    },
    {
      "cell_type": "code",
      "source": [
        "#Random forests"
      ],
      "metadata": {
        "id": "fsdReVz3ogPu"
      },
      "execution_count": null,
      "outputs": []
    },
    {
      "cell_type": "code",
      "source": [
        "core_weather1"
      ],
      "metadata": {
        "id": "Rkrl62DrogTp",
        "colab": {
          "base_uri": "https://localhost:8080/",
          "height": 424
        },
        "outputId": "ad8ecc22-f35c-410a-b882-dd63134f748d"
      },
      "execution_count": null,
      "outputs": [
        {
          "output_type": "execute_result",
          "data": {
            "text/plain": [
              "       MaxT  MinT  Wind  Rain  RH1   RH2  Radiation weather_condition\n",
              "0      28.5  14.2   5.7   0.0   68  31.0       18.4              Cool\n",
              "1      28.8  16.0   6.4   0.0   79  33.0       16.9              Cool\n",
              "2      29.0  14.5   5.4   0.0   86  37.0       15.3             humid\n",
              "3      29.0  18.0   7.1   0.0   89  43.0       16.4             humid\n",
              "4      27.8  17.0  10.5   0.0   81  47.0       15.9             humid\n",
              "...     ...   ...   ...   ...  ...   ...        ...               ...\n",
              "14848  29.5  22.2   9.6   4.5   93  64.0       12.9             humid\n",
              "14849  29.2  22.6   9.2  13.2   90  70.0       11.7             humid\n",
              "14850  29.6  22.4   7.6  14.0   91  63.0       15.0             humid\n",
              "14851  30.6  23.0   8.2   0.0   87  59.0       19.7             humid\n",
              "14852  30.6  23.0   7.0   0.0   90  62.0       18.0             humid\n",
              "\n",
              "[14853 rows x 8 columns]"
            ],
            "text/html": [
              "\n",
              "  <div id=\"df-304996ad-9b2c-41c8-9c57-0caad8d2c1d8\">\n",
              "    <div class=\"colab-df-container\">\n",
              "      <div>\n",
              "<style scoped>\n",
              "    .dataframe tbody tr th:only-of-type {\n",
              "        vertical-align: middle;\n",
              "    }\n",
              "\n",
              "    .dataframe tbody tr th {\n",
              "        vertical-align: top;\n",
              "    }\n",
              "\n",
              "    .dataframe thead th {\n",
              "        text-align: right;\n",
              "    }\n",
              "</style>\n",
              "<table border=\"1\" class=\"dataframe\">\n",
              "  <thead>\n",
              "    <tr style=\"text-align: right;\">\n",
              "      <th></th>\n",
              "      <th>MaxT</th>\n",
              "      <th>MinT</th>\n",
              "      <th>Wind</th>\n",
              "      <th>Rain</th>\n",
              "      <th>RH1</th>\n",
              "      <th>RH2</th>\n",
              "      <th>Radiation</th>\n",
              "      <th>weather_condition</th>\n",
              "    </tr>\n",
              "  </thead>\n",
              "  <tbody>\n",
              "    <tr>\n",
              "      <th>0</th>\n",
              "      <td>28.5</td>\n",
              "      <td>14.2</td>\n",
              "      <td>5.7</td>\n",
              "      <td>0.0</td>\n",
              "      <td>68</td>\n",
              "      <td>31.0</td>\n",
              "      <td>18.4</td>\n",
              "      <td>Cool</td>\n",
              "    </tr>\n",
              "    <tr>\n",
              "      <th>1</th>\n",
              "      <td>28.8</td>\n",
              "      <td>16.0</td>\n",
              "      <td>6.4</td>\n",
              "      <td>0.0</td>\n",
              "      <td>79</td>\n",
              "      <td>33.0</td>\n",
              "      <td>16.9</td>\n",
              "      <td>Cool</td>\n",
              "    </tr>\n",
              "    <tr>\n",
              "      <th>2</th>\n",
              "      <td>29.0</td>\n",
              "      <td>14.5</td>\n",
              "      <td>5.4</td>\n",
              "      <td>0.0</td>\n",
              "      <td>86</td>\n",
              "      <td>37.0</td>\n",
              "      <td>15.3</td>\n",
              "      <td>humid</td>\n",
              "    </tr>\n",
              "    <tr>\n",
              "      <th>3</th>\n",
              "      <td>29.0</td>\n",
              "      <td>18.0</td>\n",
              "      <td>7.1</td>\n",
              "      <td>0.0</td>\n",
              "      <td>89</td>\n",
              "      <td>43.0</td>\n",
              "      <td>16.4</td>\n",
              "      <td>humid</td>\n",
              "    </tr>\n",
              "    <tr>\n",
              "      <th>4</th>\n",
              "      <td>27.8</td>\n",
              "      <td>17.0</td>\n",
              "      <td>10.5</td>\n",
              "      <td>0.0</td>\n",
              "      <td>81</td>\n",
              "      <td>47.0</td>\n",
              "      <td>15.9</td>\n",
              "      <td>humid</td>\n",
              "    </tr>\n",
              "    <tr>\n",
              "      <th>...</th>\n",
              "      <td>...</td>\n",
              "      <td>...</td>\n",
              "      <td>...</td>\n",
              "      <td>...</td>\n",
              "      <td>...</td>\n",
              "      <td>...</td>\n",
              "      <td>...</td>\n",
              "      <td>...</td>\n",
              "    </tr>\n",
              "    <tr>\n",
              "      <th>14848</th>\n",
              "      <td>29.5</td>\n",
              "      <td>22.2</td>\n",
              "      <td>9.6</td>\n",
              "      <td>4.5</td>\n",
              "      <td>93</td>\n",
              "      <td>64.0</td>\n",
              "      <td>12.9</td>\n",
              "      <td>humid</td>\n",
              "    </tr>\n",
              "    <tr>\n",
              "      <th>14849</th>\n",
              "      <td>29.2</td>\n",
              "      <td>22.6</td>\n",
              "      <td>9.2</td>\n",
              "      <td>13.2</td>\n",
              "      <td>90</td>\n",
              "      <td>70.0</td>\n",
              "      <td>11.7</td>\n",
              "      <td>humid</td>\n",
              "    </tr>\n",
              "    <tr>\n",
              "      <th>14850</th>\n",
              "      <td>29.6</td>\n",
              "      <td>22.4</td>\n",
              "      <td>7.6</td>\n",
              "      <td>14.0</td>\n",
              "      <td>91</td>\n",
              "      <td>63.0</td>\n",
              "      <td>15.0</td>\n",
              "      <td>humid</td>\n",
              "    </tr>\n",
              "    <tr>\n",
              "      <th>14851</th>\n",
              "      <td>30.6</td>\n",
              "      <td>23.0</td>\n",
              "      <td>8.2</td>\n",
              "      <td>0.0</td>\n",
              "      <td>87</td>\n",
              "      <td>59.0</td>\n",
              "      <td>19.7</td>\n",
              "      <td>humid</td>\n",
              "    </tr>\n",
              "    <tr>\n",
              "      <th>14852</th>\n",
              "      <td>30.6</td>\n",
              "      <td>23.0</td>\n",
              "      <td>7.0</td>\n",
              "      <td>0.0</td>\n",
              "      <td>90</td>\n",
              "      <td>62.0</td>\n",
              "      <td>18.0</td>\n",
              "      <td>humid</td>\n",
              "    </tr>\n",
              "  </tbody>\n",
              "</table>\n",
              "<p>14853 rows × 8 columns</p>\n",
              "</div>\n",
              "      <button class=\"colab-df-convert\" onclick=\"convertToInteractive('df-304996ad-9b2c-41c8-9c57-0caad8d2c1d8')\"\n",
              "              title=\"Convert this dataframe to an interactive table.\"\n",
              "              style=\"display:none;\">\n",
              "        \n",
              "  <svg xmlns=\"http://www.w3.org/2000/svg\" height=\"24px\"viewBox=\"0 0 24 24\"\n",
              "       width=\"24px\">\n",
              "    <path d=\"M0 0h24v24H0V0z\" fill=\"none\"/>\n",
              "    <path d=\"M18.56 5.44l.94 2.06.94-2.06 2.06-.94-2.06-.94-.94-2.06-.94 2.06-2.06.94zm-11 1L8.5 8.5l.94-2.06 2.06-.94-2.06-.94L8.5 2.5l-.94 2.06-2.06.94zm10 10l.94 2.06.94-2.06 2.06-.94-2.06-.94-.94-2.06-.94 2.06-2.06.94z\"/><path d=\"M17.41 7.96l-1.37-1.37c-.4-.4-.92-.59-1.43-.59-.52 0-1.04.2-1.43.59L10.3 9.45l-7.72 7.72c-.78.78-.78 2.05 0 2.83L4 21.41c.39.39.9.59 1.41.59.51 0 1.02-.2 1.41-.59l7.78-7.78 2.81-2.81c.8-.78.8-2.07 0-2.86zM5.41 20L4 18.59l7.72-7.72 1.47 1.35L5.41 20z\"/>\n",
              "  </svg>\n",
              "      </button>\n",
              "      \n",
              "  <style>\n",
              "    .colab-df-container {\n",
              "      display:flex;\n",
              "      flex-wrap:wrap;\n",
              "      gap: 12px;\n",
              "    }\n",
              "\n",
              "    .colab-df-convert {\n",
              "      background-color: #E8F0FE;\n",
              "      border: none;\n",
              "      border-radius: 50%;\n",
              "      cursor: pointer;\n",
              "      display: none;\n",
              "      fill: #1967D2;\n",
              "      height: 32px;\n",
              "      padding: 0 0 0 0;\n",
              "      width: 32px;\n",
              "    }\n",
              "\n",
              "    .colab-df-convert:hover {\n",
              "      background-color: #E2EBFA;\n",
              "      box-shadow: 0px 1px 2px rgba(60, 64, 67, 0.3), 0px 1px 3px 1px rgba(60, 64, 67, 0.15);\n",
              "      fill: #174EA6;\n",
              "    }\n",
              "\n",
              "    [theme=dark] .colab-df-convert {\n",
              "      background-color: #3B4455;\n",
              "      fill: #D2E3FC;\n",
              "    }\n",
              "\n",
              "    [theme=dark] .colab-df-convert:hover {\n",
              "      background-color: #434B5C;\n",
              "      box-shadow: 0px 1px 3px 1px rgba(0, 0, 0, 0.15);\n",
              "      filter: drop-shadow(0px 1px 2px rgba(0, 0, 0, 0.3));\n",
              "      fill: #FFFFFF;\n",
              "    }\n",
              "  </style>\n",
              "\n",
              "      <script>\n",
              "        const buttonEl =\n",
              "          document.querySelector('#df-304996ad-9b2c-41c8-9c57-0caad8d2c1d8 button.colab-df-convert');\n",
              "        buttonEl.style.display =\n",
              "          google.colab.kernel.accessAllowed ? 'block' : 'none';\n",
              "\n",
              "        async function convertToInteractive(key) {\n",
              "          const element = document.querySelector('#df-304996ad-9b2c-41c8-9c57-0caad8d2c1d8');\n",
              "          const dataTable =\n",
              "            await google.colab.kernel.invokeFunction('convertToInteractive',\n",
              "                                                     [key], {});\n",
              "          if (!dataTable) return;\n",
              "\n",
              "          const docLinkHtml = 'Like what you see? Visit the ' +\n",
              "            '<a target=\"_blank\" href=https://colab.research.google.com/notebooks/data_table.ipynb>data table notebook</a>'\n",
              "            + ' to learn more about interactive tables.';\n",
              "          element.innerHTML = '';\n",
              "          dataTable['output_type'] = 'display_data';\n",
              "          await google.colab.output.renderOutput(dataTable, element);\n",
              "          const docLink = document.createElement('div');\n",
              "          docLink.innerHTML = docLinkHtml;\n",
              "          element.appendChild(docLink);\n",
              "        }\n",
              "      </script>\n",
              "    </div>\n",
              "  </div>\n",
              "  "
            ]
          },
          "metadata": {},
          "execution_count": 126
        }
      ]
    },
    {
      "cell_type": "code",
      "source": [
        "from sklearn.model_selection import train_test_split\n",
        "from sklearn.ensemble import RandomForestClassifier\n",
        "from sklearn.metrics import accuracy_score"
      ],
      "metadata": {
        "id": "FvSGyt_2ogY2"
      },
      "execution_count": null,
      "outputs": []
    },
    {
      "cell_type": "code",
      "source": [
        "core_weather1['weather_condition'] = 'Unknown'  # Initialize with a default label\n",
        "\n",
        "# Define conditions for different weather conditions\n",
        "conditions = [\n",
        "    (core_weather1['Rain'] > 0) & (core_weather1['Radiation'] < 200),\n",
        "    (core_weather1['MaxT']>=34),\n",
        "    (core_weather1['MinT'] <= 23),\n",
        "    (core_weather1['RH1'] > 80) | (core_weather1['RH2'] > 80),\n",
        "]\n",
        "# Define labels corresponding to each condition\n",
        "labels = ['Rainy', 'Hot', 'Cool', 'humid']\n",
        "\n",
        "# Assign the corresponding label based on the conditions\n",
        "for condition, label in zip(conditions, labels):\n",
        "    core_weather1.loc[condition, 'weather_condition'] = label\n",
        "\n",
        "# Split the dataset into features (X) and the target variable (y)\n",
        "X = core_weather1[['MaxT', 'MinT', 'Wind', 'Rain', 'RH1', 'RH2', 'Radiation']]\n",
        "y = core_weather1['weather_condition']"
      ],
      "metadata": {
        "id": "OdelYOEaogew"
      },
      "execution_count": null,
      "outputs": []
    },
    {
      "cell_type": "code",
      "source": [
        "X_train, X_test, y_train, y_test = train_test_split(X, y, test_size=0.2, random_state=42)"
      ],
      "metadata": {
        "id": "mFKoh95Unemg"
      },
      "execution_count": null,
      "outputs": []
    },
    {
      "cell_type": "code",
      "source": [
        "# Create a Random Forest classifier\n",
        "rf_classifier = RandomForestClassifier()"
      ],
      "metadata": {
        "id": "A0cdLhFwnfTx"
      },
      "execution_count": null,
      "outputs": []
    },
    {
      "cell_type": "code",
      "source": [
        "# Train the classifier\n",
        "rf_classifier.fit(X_train, y_train)"
      ],
      "metadata": {
        "colab": {
          "base_uri": "https://localhost:8080/",
          "height": 75
        },
        "id": "IO-xwEVKLAbz",
        "outputId": "6edd3adb-78d4-45ab-9ba2-76fe4a09f886"
      },
      "execution_count": null,
      "outputs": [
        {
          "output_type": "execute_result",
          "data": {
            "text/plain": [
              "RandomForestClassifier()"
            ],
            "text/html": [
              "<style>#sk-container-id-8 {color: black;background-color: white;}#sk-container-id-8 pre{padding: 0;}#sk-container-id-8 div.sk-toggleable {background-color: white;}#sk-container-id-8 label.sk-toggleable__label {cursor: pointer;display: block;width: 100%;margin-bottom: 0;padding: 0.3em;box-sizing: border-box;text-align: center;}#sk-container-id-8 label.sk-toggleable__label-arrow:before {content: \"▸\";float: left;margin-right: 0.25em;color: #696969;}#sk-container-id-8 label.sk-toggleable__label-arrow:hover:before {color: black;}#sk-container-id-8 div.sk-estimator:hover label.sk-toggleable__label-arrow:before {color: black;}#sk-container-id-8 div.sk-toggleable__content {max-height: 0;max-width: 0;overflow: hidden;text-align: left;background-color: #f0f8ff;}#sk-container-id-8 div.sk-toggleable__content pre {margin: 0.2em;color: black;border-radius: 0.25em;background-color: #f0f8ff;}#sk-container-id-8 input.sk-toggleable__control:checked~div.sk-toggleable__content {max-height: 200px;max-width: 100%;overflow: auto;}#sk-container-id-8 input.sk-toggleable__control:checked~label.sk-toggleable__label-arrow:before {content: \"▾\";}#sk-container-id-8 div.sk-estimator input.sk-toggleable__control:checked~label.sk-toggleable__label {background-color: #d4ebff;}#sk-container-id-8 div.sk-label input.sk-toggleable__control:checked~label.sk-toggleable__label {background-color: #d4ebff;}#sk-container-id-8 input.sk-hidden--visually {border: 0;clip: rect(1px 1px 1px 1px);clip: rect(1px, 1px, 1px, 1px);height: 1px;margin: -1px;overflow: hidden;padding: 0;position: absolute;width: 1px;}#sk-container-id-8 div.sk-estimator {font-family: monospace;background-color: #f0f8ff;border: 1px dotted black;border-radius: 0.25em;box-sizing: border-box;margin-bottom: 0.5em;}#sk-container-id-8 div.sk-estimator:hover {background-color: #d4ebff;}#sk-container-id-8 div.sk-parallel-item::after {content: \"\";width: 100%;border-bottom: 1px solid gray;flex-grow: 1;}#sk-container-id-8 div.sk-label:hover label.sk-toggleable__label {background-color: #d4ebff;}#sk-container-id-8 div.sk-serial::before {content: \"\";position: absolute;border-left: 1px solid gray;box-sizing: border-box;top: 0;bottom: 0;left: 50%;z-index: 0;}#sk-container-id-8 div.sk-serial {display: flex;flex-direction: column;align-items: center;background-color: white;padding-right: 0.2em;padding-left: 0.2em;position: relative;}#sk-container-id-8 div.sk-item {position: relative;z-index: 1;}#sk-container-id-8 div.sk-parallel {display: flex;align-items: stretch;justify-content: center;background-color: white;position: relative;}#sk-container-id-8 div.sk-item::before, #sk-container-id-8 div.sk-parallel-item::before {content: \"\";position: absolute;border-left: 1px solid gray;box-sizing: border-box;top: 0;bottom: 0;left: 50%;z-index: -1;}#sk-container-id-8 div.sk-parallel-item {display: flex;flex-direction: column;z-index: 1;position: relative;background-color: white;}#sk-container-id-8 div.sk-parallel-item:first-child::after {align-self: flex-end;width: 50%;}#sk-container-id-8 div.sk-parallel-item:last-child::after {align-self: flex-start;width: 50%;}#sk-container-id-8 div.sk-parallel-item:only-child::after {width: 0;}#sk-container-id-8 div.sk-dashed-wrapped {border: 1px dashed gray;margin: 0 0.4em 0.5em 0.4em;box-sizing: border-box;padding-bottom: 0.4em;background-color: white;}#sk-container-id-8 div.sk-label label {font-family: monospace;font-weight: bold;display: inline-block;line-height: 1.2em;}#sk-container-id-8 div.sk-label-container {text-align: center;}#sk-container-id-8 div.sk-container {/* jupyter's `normalize.less` sets `[hidden] { display: none; }` but bootstrap.min.css set `[hidden] { display: none !important; }` so we also need the `!important` here to be able to override the default hidden behavior on the sphinx rendered scikit-learn.org. See: https://github.com/scikit-learn/scikit-learn/issues/21755 */display: inline-block !important;position: relative;}#sk-container-id-8 div.sk-text-repr-fallback {display: none;}</style><div id=\"sk-container-id-8\" class=\"sk-top-container\"><div class=\"sk-text-repr-fallback\"><pre>RandomForestClassifier()</pre><b>In a Jupyter environment, please rerun this cell to show the HTML representation or trust the notebook. <br />On GitHub, the HTML representation is unable to render, please try loading this page with nbviewer.org.</b></div><div class=\"sk-container\" hidden><div class=\"sk-item\"><div class=\"sk-estimator sk-toggleable\"><input class=\"sk-toggleable__control sk-hidden--visually\" id=\"sk-estimator-id-8\" type=\"checkbox\" checked><label for=\"sk-estimator-id-8\" class=\"sk-toggleable__label sk-toggleable__label-arrow\">RandomForestClassifier</label><div class=\"sk-toggleable__content\"><pre>RandomForestClassifier()</pre></div></div></div></div></div>"
            ]
          },
          "metadata": {},
          "execution_count": 133
        }
      ]
    },
    {
      "cell_type": "code",
      "source": [
        "# Make predictions on the test set\n",
        "y_pred = rf_classifier.predict(X_test)"
      ],
      "metadata": {
        "id": "nw9ISG_7LAgu"
      },
      "execution_count": null,
      "outputs": []
    },
    {
      "cell_type": "code",
      "source": [
        "accuracy = accuracy_score(y_test, y_pred)\n",
        "print(\"Accuracy:\", accuracy)"
      ],
      "metadata": {
        "colab": {
          "base_uri": "https://localhost:8080/"
        },
        "id": "DmxZi-DaLAlK",
        "outputId": "b56acc8a-6af8-4550-9653-e453bddb3a29"
      },
      "execution_count": null,
      "outputs": [
        {
          "output_type": "stream",
          "name": "stdout",
          "text": [
            "Accuracy: 0.998653651969034\n"
          ]
        }
      ]
    },
    {
      "cell_type": "code",
      "source": [
        "precision = precision_score(y_test, y_pred, average='weighted')\n",
        "print(\"Precision:\", precision)"
      ],
      "metadata": {
        "colab": {
          "base_uri": "https://localhost:8080/"
        },
        "id": "0-eyz9_OLApe",
        "outputId": "7db5efed-91eb-4d68-a3e7-6a966c864cb3"
      },
      "execution_count": null,
      "outputs": [
        {
          "output_type": "stream",
          "name": "stdout",
          "text": [
            "Precision: 0.998648334890422\n"
          ]
        }
      ]
    },
    {
      "cell_type": "code",
      "source": [],
      "metadata": {
        "id": "gRZyeF73nfX1"
      },
      "execution_count": null,
      "outputs": []
    }
  ],
  "metadata": {
    "colab": {
      "provenance": []
    },
    "kernelspec": {
      "display_name": "Python 3",
      "name": "python3"
    },
    "language_info": {
      "name": "python"
    }
  },
  "nbformat": 4,
  "nbformat_minor": 0
}